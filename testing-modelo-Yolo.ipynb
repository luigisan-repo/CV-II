{
  "cells": [
    {
      "cell_type": "code",
      "execution_count": null,
      "metadata": {
        "id": "9OfDsZLj5LcL"
      },
      "outputs": [],
      "source": [
        "# Limpiamos todas las variables\n",
        "%reset -f\n"
      ]
    },
    {
      "cell_type": "markdown",
      "metadata": {
        "id": "PFBptPud5LcT"
      },
      "source": [
        "# Integrantes\n",
        "|N° SIU| NOMBRE APELLIDO--------------| CORREO---------------------|\n",
        "|-----|-------------------------------|----------------------------|\n",
        "|a1904|\tMarck Anthony Murillo Ronquillo| murillo.ronq.50c2@gmail.com|\n",
        "|a1906|\tYandri Jair\tUchuari Gallardo| yandriuchuari@gmail.com|\n",
        "|a1823|\tLuis Alberto Santamaria Jimenez| santamaria.luigi@gmail.com|"
      ]
    },
    {
      "cell_type": "markdown",
      "metadata": {
        "id": "tv1p-Yzp5LcX"
      },
      "source": [
        "# **TACO Trash -\t[taco-trash-dataset](https://www.kaggle.com/datasets/kneroma/tacotrashdataset)**\n",
        "\n",
        "### Tipo de problema : Detección\n",
        "- Objetivo detección de residuos: Utilizar imágenes para identificar la presencia de residuos. Este modelo puede ser útil para planificar limpiar y preservar estos espacios.​\n",
        "- Entrenar un modelo para identificar la presencia de residuos plásticos en imágenes.\n",
        "\n",
        "\n",
        "### **Descripción general**\n",
        "En el presente Notebook estamos realizando un testing de entrenamiento utilizando la arquitectura de yolo 11 tomando en cuenta los siguientes puntos\n",
        "\n",
        "- Para determinar un baseline se realizó una búsqueda de otros trabajos encontrando que las arquitecturas de 2 pasos YOLOv5 han sido utilizadas para resolver este tipo de problemas obteniendo buenos resultados en la detección de basura en tiempo real\n",
        "- Se realizó una primera prueba con la arquitectura YOLOv5 en Google colab donde obtuvimos un mAP (precisión media promedio) de 0.023 principalmente debido a limitaciones computacionales\n",
        "- Después se probó con la arquitectura YOLOv11 dado que uno de los integrantes la había usado anteriormente obtuvimos un mejor resultado.\n",
        "- Podemos comentar que entre los testing realizado consideramos mas siguientes configuraciones como las mas optimas   \n",
        "    - Establece el número de épocas de entrenamiento en `epochs=50`\n",
        "    -\tDe momento Todas las imágenes se redimensionan a 640x640 píxeles antes de incorporarse al modelo, aun estamos definiendo cual es el tamaño optimo puesto que tenemos imágenes muy grandes y objetos a detectar muy pequeños teniendo en si un mal etiquetado, estamos haciendo pruebas redimensionando a `imgsz=1542` y ver que tanto mejora\n",
        "    -\tSe procesarán 16 imágenes simultáneamente durante cada paso de entrenamiento antes de que se actualicen los pesos del modelo `batch=16`. Durante las pruebas con yolov5 el batch se probó con 64 y el resultado fue muy lento el entrenamiento\n",
        "    - Nos queda pendiente el testing de las distintas variantes del modelo  Yolo11 (YOLOv11n -Nano, YOLOv11s - Small, YOLOv11m medium, YOLOv11l - Large , YOLOv11x - Extra Large) ver que tanto mejora la detección  \n",
        "\n",
        "\n",
        "\n",
        "modelos pre-entrenados: [Ultralytics YOLO11](https://huggingface.co/Ultralytics/YOLO11)\n",
        "\n",
        "\n"
      ]
    },
    {
      "cell_type": "code",
      "execution_count": null,
      "metadata": {
        "id": "JRXWB7omyeeA",
        "outputId": "88b49636-d724-4942-ff21-890e702d23fa"
      },
      "outputs": [
        {
          "name": "stdout",
          "output_type": "stream",
          "text": [
            "Requirement already satisfied: gdown in ./yolov_env/lib/python3.12/site-packages (5.2.0)\n",
            "Requirement already satisfied: beautifulsoup4 in ./yolov_env/lib/python3.12/site-packages (from gdown) (4.13.4)\n",
            "Requirement already satisfied: filelock in ./yolov_env/lib/python3.12/site-packages (from gdown) (3.18.0)\n",
            "Requirement already satisfied: requests[socks] in ./yolov_env/lib/python3.12/site-packages (from gdown) (2.32.4)\n",
            "Requirement already satisfied: tqdm in ./yolov_env/lib/python3.12/site-packages (from gdown) (4.67.1)\n",
            "Requirement already satisfied: soupsieve>1.2 in ./yolov_env/lib/python3.12/site-packages (from beautifulsoup4->gdown) (2.7)\n",
            "Requirement already satisfied: typing-extensions>=4.0.0 in ./yolov_env/lib/python3.12/site-packages (from beautifulsoup4->gdown) (4.14.1)\n",
            "Requirement already satisfied: charset_normalizer<4,>=2 in ./yolov_env/lib/python3.12/site-packages (from requests[socks]->gdown) (3.4.2)\n",
            "Requirement already satisfied: idna<4,>=2.5 in ./yolov_env/lib/python3.12/site-packages (from requests[socks]->gdown) (3.10)\n",
            "Requirement already satisfied: urllib3<3,>=1.21.1 in ./yolov_env/lib/python3.12/site-packages (from requests[socks]->gdown) (2.5.0)\n",
            "Requirement already satisfied: certifi>=2017.4.17 in ./yolov_env/lib/python3.12/site-packages (from requests[socks]->gdown) (2025.7.14)\n",
            "Requirement already satisfied: PySocks!=1.5.7,>=1.5.6 in ./yolov_env/lib/python3.12/site-packages (from requests[socks]->gdown) (1.7.1)\n",
            "Downloading...\n",
            "From (original): https://drive.google.com/uc?id=1ORFJYbu2-O30vm609xddWSBZjvGvaYE9\n",
            "From (redirected): https://drive.google.com/uc?id=1ORFJYbu2-O30vm609xddWSBZjvGvaYE9&confirm=t&uuid=47df5e83-875b-4ead-9e75-c673ec1c3582\n",
            "To: /home/ose/Documents/Proyecto Yandri CEIA/archive.zip\n",
            "100%|██████████████████████████████████████| 2.99G/2.99G [02:29<00:00, 20.0MB/s]\n",
            "unzip:  cannot find or open /content/archive.zip, /content/archive.zip.zip or /content/archive.zip.ZIP.\n"
          ]
        }
      ],
      "source": [
        "# Descargamos archivos y descomprimimos\n",
        "!pip install gdown\n",
        "# https://drive.google.com/file/d/1ORFJYbu2-O30vm609xddWSBZjvGvaYE9/view?usp=sharing\n",
        "!gdown https://drive.google.com/uc?id=1ORFJYbu2-O30vm609xddWSBZjvGvaYE9 -O archive.zip\n"
      ]
    },
    {
      "cell_type": "code",
      "execution_count": null,
      "metadata": {
        "id": "zSRGrF9R5Lcb",
        "outputId": "c4c87208-f885-467a-e96b-4b684ce50d0a"
      },
      "outputs": [
        {
          "name": "stdout",
          "output_type": "stream",
          "text": [
            "Archive:  archive.zip\n",
            "  inflating: taco_trash_dataset/best-checkpoint-003epoch.bin  \n",
            "  inflating: taco_trash_dataset/data/annotations.json  \n",
            "  inflating: taco_trash_dataset/data/batch_1/000000.jpg  \n",
            "  inflating: taco_trash_dataset/data/batch_1/000001.jpg  \n",
            "  inflating: taco_trash_dataset/data/batch_1/000003.jpg  \n",
            "  inflating: taco_trash_dataset/data/batch_1/000004.jpg  \n",
            "  inflating: taco_trash_dataset/data/batch_1/000005.jpg  \n",
            "  inflating: taco_trash_dataset/data/batch_1/000006.jpg  \n",
            "  inflating: taco_trash_dataset/data/batch_1/000007.jpg  \n",
            "  inflating: taco_trash_dataset/data/batch_1/000008.jpg  \n",
            "  inflating: taco_trash_dataset/data/batch_1/000010.jpg  \n",
            "  inflating: taco_trash_dataset/data/batch_1/000011.jpg  \n",
            "  inflating: taco_trash_dataset/data/batch_1/000012.jpg  \n",
            "  inflating: taco_trash_dataset/data/batch_1/000013.jpg  \n",
            "  inflating: taco_trash_dataset/data/batch_1/000014.jpg  \n",
            "  inflating: taco_trash_dataset/data/batch_1/000015.jpg  \n",
            "  inflating: taco_trash_dataset/data/batch_1/000016.jpg  \n",
            "  inflating: taco_trash_dataset/data/batch_1/000017.jpg  \n",
            "  inflating: taco_trash_dataset/data/batch_1/000019.jpg  \n",
            "  inflating: taco_trash_dataset/data/batch_1/000021.jpg  \n",
            "  inflating: taco_trash_dataset/data/batch_1/000022.jpg  \n",
            "  inflating: taco_trash_dataset/data/batch_1/000023.jpg  \n",
            "  inflating: taco_trash_dataset/data/batch_1/000024.jpg  \n",
            "  inflating: taco_trash_dataset/data/batch_1/000025.jpg  \n",
            "  inflating: taco_trash_dataset/data/batch_1/000026.jpg  \n",
            "  inflating: taco_trash_dataset/data/batch_1/000027.jpg  \n",
            "  inflating: taco_trash_dataset/data/batch_1/000028.jpg  \n",
            "  inflating: taco_trash_dataset/data/batch_1/000029.jpg  \n",
            "  inflating: taco_trash_dataset/data/batch_1/000030.jpg  \n",
            "  inflating: taco_trash_dataset/data/batch_1/000031.jpg  \n",
            "  inflating: taco_trash_dataset/data/batch_1/000032.jpg  \n",
            "  inflating: taco_trash_dataset/data/batch_1/000035.jpg  \n",
            "  inflating: taco_trash_dataset/data/batch_1/000037.jpg  \n",
            "  inflating: taco_trash_dataset/data/batch_1/000038.jpg  \n",
            "  inflating: taco_trash_dataset/data/batch_1/000040.jpg  \n",
            "  inflating: taco_trash_dataset/data/batch_1/000042.jpg  \n",
            "  inflating: taco_trash_dataset/data/batch_1/000043.jpg  \n",
            "  inflating: taco_trash_dataset/data/batch_1/000045.jpg  \n",
            "  inflating: taco_trash_dataset/data/batch_1/000047.jpg  \n",
            "  inflating: taco_trash_dataset/data/batch_1/000048.jpg  \n",
            "  inflating: taco_trash_dataset/data/batch_1/000049.jpg  \n",
            "  inflating: taco_trash_dataset/data/batch_1/000050.jpg  \n",
            "  inflating: taco_trash_dataset/data/batch_1/000053.jpg  \n",
            "  inflating: taco_trash_dataset/data/batch_1/000054.jpg  \n",
            "  inflating: taco_trash_dataset/data/batch_1/000055.jpg  \n",
            "  inflating: taco_trash_dataset/data/batch_1/000056.jpg  \n",
            "  inflating: taco_trash_dataset/data/batch_1/000058.jpg  \n",
            "  inflating: taco_trash_dataset/data/batch_1/000059.jpg  \n",
            "  inflating: taco_trash_dataset/data/batch_1/000060.jpg  \n",
            "  inflating: taco_trash_dataset/data/batch_1/000061.jpg  \n",
            "  inflating: taco_trash_dataset/data/batch_1/000062.JPG  \n",
            "  inflating: taco_trash_dataset/data/batch_1/000064.JPG  \n",
            "  inflating: taco_trash_dataset/data/batch_1/000065.JPG  \n",
            "  inflating: taco_trash_dataset/data/batch_1/000066.JPG  \n",
            "  inflating: taco_trash_dataset/data/batch_1/000067.JPG  \n",
            "  inflating: taco_trash_dataset/data/batch_1/000068.JPG  \n",
            "  inflating: taco_trash_dataset/data/batch_1/000069.JPG  \n",
            "  inflating: taco_trash_dataset/data/batch_1/000070.JPG  \n",
            "  inflating: taco_trash_dataset/data/batch_1/000071.JPG  \n",
            "  inflating: taco_trash_dataset/data/batch_1/000072.JPG  \n",
            "  inflating: taco_trash_dataset/data/batch_1/000073.JPG  \n",
            "  inflating: taco_trash_dataset/data/batch_1/000074.JPG  \n",
            "  inflating: taco_trash_dataset/data/batch_1/000076.JPG  \n",
            "  inflating: taco_trash_dataset/data/batch_1/000078.JPG  \n",
            "  inflating: taco_trash_dataset/data/batch_1/000079.JPG  \n",
            "  inflating: taco_trash_dataset/data/batch_1/000081.JPG  \n",
            "  inflating: taco_trash_dataset/data/batch_1/000082.JPG  \n",
            "  inflating: taco_trash_dataset/data/batch_1/000083.JPG  \n",
            "  inflating: taco_trash_dataset/data/batch_1/000084.JPG  \n",
            "  inflating: taco_trash_dataset/data/batch_1/000085.JPG  \n",
            "  inflating: taco_trash_dataset/data/batch_1/000086.JPG  \n",
            "  inflating: taco_trash_dataset/data/batch_1/000087.JPG  \n",
            "  inflating: taco_trash_dataset/data/batch_1/000088.JPG  \n",
            "  inflating: taco_trash_dataset/data/batch_1/000090.JPG  \n",
            "  inflating: taco_trash_dataset/data/batch_1/000091.JPG  \n",
            "  inflating: taco_trash_dataset/data/batch_1/000092.JPG  \n",
            "  inflating: taco_trash_dataset/data/batch_1/000093.JPG  \n",
            "  inflating: taco_trash_dataset/data/batch_1/000094.JPG  \n",
            "  inflating: taco_trash_dataset/data/batch_1/000095.JPG  \n",
            "  inflating: taco_trash_dataset/data/batch_1/000096.JPG  \n",
            "  inflating: taco_trash_dataset/data/batch_1/000098.JPG  \n",
            "  inflating: taco_trash_dataset/data/batch_1/000099.JPG  \n",
            "  inflating: taco_trash_dataset/data/batch_1/000100.JPG  \n",
            "  inflating: taco_trash_dataset/data/batch_1/000101.JPG  \n",
            "  inflating: taco_trash_dataset/data/batch_1/000102.JPG  \n",
            "  inflating: taco_trash_dataset/data/batch_1/000104.JPG  \n",
            "  inflating: taco_trash_dataset/data/batch_1/000105.JPG  \n",
            "  inflating: taco_trash_dataset/data/batch_1/000106.JPG  \n",
            "  inflating: taco_trash_dataset/data/batch_1/000107.JPG  \n",
            "  inflating: taco_trash_dataset/data/batch_1/000108.JPG  \n",
            "  inflating: taco_trash_dataset/data/batch_1/000110.JPG  \n",
            "  inflating: taco_trash_dataset/data/batch_1/000111.JPG  \n",
            "  inflating: taco_trash_dataset/data/batch_1/000115.JPG  \n",
            "  inflating: taco_trash_dataset/data/batch_1/000117.JPG  \n",
            "  inflating: taco_trash_dataset/data/batch_1/000118.JPG  \n",
            "  inflating: taco_trash_dataset/data/batch_1/000119.JPG  \n",
            "  inflating: taco_trash_dataset/data/batch_1/000120.JPG  \n",
            "  inflating: taco_trash_dataset/data/batch_1/000121.JPG  \n",
            "  inflating: taco_trash_dataset/data/batch_1/000122.JPG  \n",
            "  inflating: taco_trash_dataset/data/batch_1/000124.JPG  \n",
            "  inflating: taco_trash_dataset/data/batch_1/000127.JPG  \n",
            "  inflating: taco_trash_dataset/data/batch_1/000128.JPG  \n",
            "  inflating: taco_trash_dataset/data/batch_1/000129.JPG  \n",
            "  inflating: taco_trash_dataset/data/batch_10/000000.jpg  \n",
            "  inflating: taco_trash_dataset/data/batch_10/000001.jpg  \n",
            "  inflating: taco_trash_dataset/data/batch_10/000002.jpg  \n",
            "  inflating: taco_trash_dataset/data/batch_10/000003.jpg  \n",
            "  inflating: taco_trash_dataset/data/batch_10/000004.jpg  \n",
            "  inflating: taco_trash_dataset/data/batch_10/000005.jpg  \n",
            "  inflating: taco_trash_dataset/data/batch_10/000006.jpg  \n",
            "  inflating: taco_trash_dataset/data/batch_10/000007.jpg  \n",
            "  inflating: taco_trash_dataset/data/batch_10/000008.jpg  \n",
            "  inflating: taco_trash_dataset/data/batch_10/000009.jpg  \n",
            "  inflating: taco_trash_dataset/data/batch_10/000010.jpg  \n",
            "  inflating: taco_trash_dataset/data/batch_10/000011.jpg  \n",
            "  inflating: taco_trash_dataset/data/batch_10/000012.jpg  \n",
            "  inflating: taco_trash_dataset/data/batch_10/000013.jpg  \n",
            "  inflating: taco_trash_dataset/data/batch_10/000014.jpg  \n",
            "  inflating: taco_trash_dataset/data/batch_10/000015.jpg  \n",
            "  inflating: taco_trash_dataset/data/batch_10/000016.jpg  \n",
            "  inflating: taco_trash_dataset/data/batch_10/000017.jpg  \n",
            "  inflating: taco_trash_dataset/data/batch_10/000018.jpg  \n",
            "  inflating: taco_trash_dataset/data/batch_10/000019.jpg  \n",
            "  inflating: taco_trash_dataset/data/batch_10/000020.jpg  \n",
            "  inflating: taco_trash_dataset/data/batch_10/000021.jpg  \n",
            "  inflating: taco_trash_dataset/data/batch_10/000022.jpg  \n",
            "  inflating: taco_trash_dataset/data/batch_10/000023.jpg  \n",
            "  inflating: taco_trash_dataset/data/batch_10/000024.jpg  \n",
            "  inflating: taco_trash_dataset/data/batch_10/000025.jpg  \n",
            "  inflating: taco_trash_dataset/data/batch_10/000026.jpg  \n",
            "  inflating: taco_trash_dataset/data/batch_10/000027.jpg  \n",
            "  inflating: taco_trash_dataset/data/batch_10/000028.jpg  \n",
            "  inflating: taco_trash_dataset/data/batch_10/000029.jpg  \n",
            "  inflating: taco_trash_dataset/data/batch_10/000030.jpg  \n",
            "  inflating: taco_trash_dataset/data/batch_10/000031.jpg  \n",
            "  inflating: taco_trash_dataset/data/batch_10/000032.jpg  \n",
            "  inflating: taco_trash_dataset/data/batch_10/000033.jpg  \n",
            "  inflating: taco_trash_dataset/data/batch_10/000034.jpg  \n",
            "  inflating: taco_trash_dataset/data/batch_10/000035.jpg  \n",
            "  inflating: taco_trash_dataset/data/batch_10/000036.jpg  \n",
            "  inflating: taco_trash_dataset/data/batch_10/000037.jpg  \n",
            "  inflating: taco_trash_dataset/data/batch_10/000038.jpg  \n",
            "  inflating: taco_trash_dataset/data/batch_10/000039.jpg  \n",
            "  inflating: taco_trash_dataset/data/batch_10/000040.jpg  \n",
            "  inflating: taco_trash_dataset/data/batch_10/000041.jpg  \n",
            "  inflating: taco_trash_dataset/data/batch_10/000042.jpg  \n",
            "  inflating: taco_trash_dataset/data/batch_10/000043.jpg  \n",
            "  inflating: taco_trash_dataset/data/batch_10/000044.jpg  \n",
            "  inflating: taco_trash_dataset/data/batch_10/000045.jpg  \n",
            "  inflating: taco_trash_dataset/data/batch_10/000046.jpg  \n",
            "  inflating: taco_trash_dataset/data/batch_10/000047.jpg  \n",
            "  inflating: taco_trash_dataset/data/batch_10/000048.jpg  \n",
            "  inflating: taco_trash_dataset/data/batch_10/000049.jpg  \n",
            "  inflating: taco_trash_dataset/data/batch_10/000050.jpg  \n",
            "  inflating: taco_trash_dataset/data/batch_10/000051.jpg  \n",
            "  inflating: taco_trash_dataset/data/batch_10/000052.jpg  \n",
            "  inflating: taco_trash_dataset/data/batch_10/000053.jpg  \n",
            "  inflating: taco_trash_dataset/data/batch_10/000054.jpg  \n",
            "  inflating: taco_trash_dataset/data/batch_10/000055.jpg  \n",
            "  inflating: taco_trash_dataset/data/batch_10/000056.jpg  \n",
            "  inflating: taco_trash_dataset/data/batch_10/000057.jpg  \n",
            "  inflating: taco_trash_dataset/data/batch_10/000058.jpg  \n",
            "  inflating: taco_trash_dataset/data/batch_10/000059.jpg  \n",
            "  inflating: taco_trash_dataset/data/batch_10/000060.jpg  \n",
            "  inflating: taco_trash_dataset/data/batch_10/000061.jpg  \n",
            "  inflating: taco_trash_dataset/data/batch_10/000062.jpg  \n",
            "  inflating: taco_trash_dataset/data/batch_10/000063.jpg  \n",
            "  inflating: taco_trash_dataset/data/batch_10/000064.jpg  \n",
            "  inflating: taco_trash_dataset/data/batch_10/000065.jpg  \n",
            "  inflating: taco_trash_dataset/data/batch_10/000066.jpg  \n",
            "  inflating: taco_trash_dataset/data/batch_10/000067.jpg  \n",
            "  inflating: taco_trash_dataset/data/batch_10/000068.jpg  \n",
            "  inflating: taco_trash_dataset/data/batch_10/000069.jpg  \n",
            "  inflating: taco_trash_dataset/data/batch_10/000070.jpg  \n",
            "  inflating: taco_trash_dataset/data/batch_10/000071.jpg  \n",
            "  inflating: taco_trash_dataset/data/batch_10/000072.jpg  \n",
            "  inflating: taco_trash_dataset/data/batch_10/000073.jpg  \n",
            "  inflating: taco_trash_dataset/data/batch_10/000074.jpg  \n",
            "  inflating: taco_trash_dataset/data/batch_10/000075.jpg  \n",
            "  inflating: taco_trash_dataset/data/batch_10/000076.jpg  \n",
            "  inflating: taco_trash_dataset/data/batch_10/000077.jpg  \n",
            "  inflating: taco_trash_dataset/data/batch_10/000078.jpg  \n",
            "  inflating: taco_trash_dataset/data/batch_10/000079.jpg  \n",
            "  inflating: taco_trash_dataset/data/batch_10/000080.jpg  \n",
            "  inflating: taco_trash_dataset/data/batch_10/000081.jpg  \n",
            "  inflating: taco_trash_dataset/data/batch_10/000082.jpg  \n",
            "  inflating: taco_trash_dataset/data/batch_10/000083.jpg  \n",
            "  inflating: taco_trash_dataset/data/batch_10/000084.jpg  \n",
            "  inflating: taco_trash_dataset/data/batch_10/000085.jpg  \n",
            "  inflating: taco_trash_dataset/data/batch_10/000086.jpg  \n",
            "  inflating: taco_trash_dataset/data/batch_10/000087.jpg  \n",
            "  inflating: taco_trash_dataset/data/batch_10/000088.jpg  \n",
            "  inflating: taco_trash_dataset/data/batch_10/000089.jpg  \n",
            "  inflating: taco_trash_dataset/data/batch_10/000090.jpg  \n",
            "  inflating: taco_trash_dataset/data/batch_10/000091.jpg  \n",
            "  inflating: taco_trash_dataset/data/batch_10/000092.jpg  \n",
            "  inflating: taco_trash_dataset/data/batch_10/000093.jpg  \n",
            "  inflating: taco_trash_dataset/data/batch_10/000094.jpg  \n",
            "  inflating: taco_trash_dataset/data/batch_10/000095.jpg  \n",
            "  inflating: taco_trash_dataset/data/batch_10/000096.jpg  \n",
            "  inflating: taco_trash_dataset/data/batch_10/000097.jpg  \n",
            "  inflating: taco_trash_dataset/data/batch_10/000098.jpg  \n",
            "  inflating: taco_trash_dataset/data/batch_10/000099.jpg  \n",
            "  inflating: taco_trash_dataset/data/batch_11/000000.jpg  \n",
            "  inflating: taco_trash_dataset/data/batch_11/000001.jpg  \n",
            "  inflating: taco_trash_dataset/data/batch_11/000002.jpg  \n",
            "  inflating: taco_trash_dataset/data/batch_11/000003.jpg  \n",
            "  inflating: taco_trash_dataset/data/batch_11/000004.jpg  \n",
            "  inflating: taco_trash_dataset/data/batch_11/000005.jpg  \n",
            "  inflating: taco_trash_dataset/data/batch_11/000006.jpg  \n",
            "  inflating: taco_trash_dataset/data/batch_11/000007.jpg  \n",
            "  inflating: taco_trash_dataset/data/batch_11/000008.jpg  \n",
            "  inflating: taco_trash_dataset/data/batch_11/000009.jpg  \n",
            "  inflating: taco_trash_dataset/data/batch_11/000010.jpg  \n",
            "  inflating: taco_trash_dataset/data/batch_11/000011.jpg  \n",
            "  inflating: taco_trash_dataset/data/batch_11/000012.jpg  \n",
            "  inflating: taco_trash_dataset/data/batch_11/000013.jpg  \n",
            "  inflating: taco_trash_dataset/data/batch_11/000014.jpg  \n",
            "  inflating: taco_trash_dataset/data/batch_11/000015.jpg  \n",
            "  inflating: taco_trash_dataset/data/batch_11/000016.jpg  \n",
            "  inflating: taco_trash_dataset/data/batch_11/000017.jpg  \n",
            "  inflating: taco_trash_dataset/data/batch_11/000018.jpg  \n",
            "  inflating: taco_trash_dataset/data/batch_11/000019.jpg  \n",
            "  inflating: taco_trash_dataset/data/batch_11/000020.jpg  \n",
            "  inflating: taco_trash_dataset/data/batch_11/000021.jpg  \n",
            "  inflating: taco_trash_dataset/data/batch_11/000022.jpg  \n",
            "  inflating: taco_trash_dataset/data/batch_11/000023.jpg  \n",
            "  inflating: taco_trash_dataset/data/batch_11/000024.jpg  \n",
            "  inflating: taco_trash_dataset/data/batch_11/000025.jpg  \n",
            "  inflating: taco_trash_dataset/data/batch_11/000026.jpg  \n",
            "  inflating: taco_trash_dataset/data/batch_11/000027.jpg  \n",
            "  inflating: taco_trash_dataset/data/batch_11/000028.jpg  \n",
            "  inflating: taco_trash_dataset/data/batch_11/000029.jpg  \n",
            "  inflating: taco_trash_dataset/data/batch_11/000030.jpg  \n",
            "  inflating: taco_trash_dataset/data/batch_11/000031.jpg  \n",
            "  inflating: taco_trash_dataset/data/batch_11/000032.jpg  \n",
            "  inflating: taco_trash_dataset/data/batch_11/000033.jpg  \n",
            "  inflating: taco_trash_dataset/data/batch_11/000034.jpg  \n",
            "  inflating: taco_trash_dataset/data/batch_11/000035.jpg  \n",
            "  inflating: taco_trash_dataset/data/batch_11/000036.jpg  \n",
            "  inflating: taco_trash_dataset/data/batch_11/000037.jpg  \n",
            "  inflating: taco_trash_dataset/data/batch_11/000038.jpg  \n",
            "  inflating: taco_trash_dataset/data/batch_11/000039.jpg  \n",
            "  inflating: taco_trash_dataset/data/batch_11/000040.jpg  \n",
            "  inflating: taco_trash_dataset/data/batch_11/000041.jpg  \n",
            "  inflating: taco_trash_dataset/data/batch_11/000042.jpg  \n",
            "  inflating: taco_trash_dataset/data/batch_11/000043.jpg  \n",
            "  inflating: taco_trash_dataset/data/batch_11/000044.jpg  \n",
            "  inflating: taco_trash_dataset/data/batch_11/000045.jpg  \n",
            "  inflating: taco_trash_dataset/data/batch_11/000046.jpg  \n",
            "  inflating: taco_trash_dataset/data/batch_11/000047.jpg  \n",
            "  inflating: taco_trash_dataset/data/batch_11/000048.jpg  \n",
            "  inflating: taco_trash_dataset/data/batch_11/000049.jpg  \n",
            "  inflating: taco_trash_dataset/data/batch_11/000050.jpg  \n",
            "  inflating: taco_trash_dataset/data/batch_11/000051.jpg  \n",
            "  inflating: taco_trash_dataset/data/batch_11/000052.jpg  \n",
            "  inflating: taco_trash_dataset/data/batch_11/000053.jpg  \n",
            "  inflating: taco_trash_dataset/data/batch_11/000054.jpg  \n",
            "  inflating: taco_trash_dataset/data/batch_11/000055.jpg  \n",
            "  inflating: taco_trash_dataset/data/batch_11/000056.jpg  \n",
            "  inflating: taco_trash_dataset/data/batch_11/000057.jpg  \n",
            "  inflating: taco_trash_dataset/data/batch_11/000058.jpg  \n",
            "  inflating: taco_trash_dataset/data/batch_11/000059.jpg  \n",
            "  inflating: taco_trash_dataset/data/batch_11/000060.jpg  \n",
            "  inflating: taco_trash_dataset/data/batch_11/000061.jpg  \n",
            "  inflating: taco_trash_dataset/data/batch_11/000062.jpg  \n",
            "  inflating: taco_trash_dataset/data/batch_11/000063.jpg  \n",
            "  inflating: taco_trash_dataset/data/batch_11/000064.jpg  \n",
            "  inflating: taco_trash_dataset/data/batch_11/000065.jpg  \n",
            "  inflating: taco_trash_dataset/data/batch_11/000066.jpg  \n",
            "  inflating: taco_trash_dataset/data/batch_11/000067.jpg  \n",
            "  inflating: taco_trash_dataset/data/batch_11/000068.jpg  \n",
            "  inflating: taco_trash_dataset/data/batch_11/000069.jpg  \n",
            "  inflating: taco_trash_dataset/data/batch_11/000070.jpg  \n",
            "  inflating: taco_trash_dataset/data/batch_11/000071.jpg  \n",
            "  inflating: taco_trash_dataset/data/batch_11/000072.jpg  \n",
            "  inflating: taco_trash_dataset/data/batch_11/000073.jpg  \n",
            "  inflating: taco_trash_dataset/data/batch_11/000074.jpg  \n",
            "  inflating: taco_trash_dataset/data/batch_11/000075.jpg  \n",
            "  inflating: taco_trash_dataset/data/batch_11/000076.jpg  \n",
            "  inflating: taco_trash_dataset/data/batch_11/000077.jpg  \n",
            "  inflating: taco_trash_dataset/data/batch_11/000078.jpg  \n",
            "  inflating: taco_trash_dataset/data/batch_11/000079.jpg  \n",
            "  inflating: taco_trash_dataset/data/batch_11/000080.jpg  \n",
            "  inflating: taco_trash_dataset/data/batch_11/000081.jpg  \n",
            "  inflating: taco_trash_dataset/data/batch_11/000082.jpg  \n",
            "  inflating: taco_trash_dataset/data/batch_11/000083.jpg  \n",
            "  inflating: taco_trash_dataset/data/batch_11/000084.jpg  \n",
            "  inflating: taco_trash_dataset/data/batch_11/000085.jpg  \n",
            "  inflating: taco_trash_dataset/data/batch_11/000086.jpg  \n",
            "  inflating: taco_trash_dataset/data/batch_11/000087.jpg  \n",
            "  inflating: taco_trash_dataset/data/batch_11/000088.jpg  \n",
            "  inflating: taco_trash_dataset/data/batch_11/000089.jpg  \n",
            "  inflating: taco_trash_dataset/data/batch_11/000090.jpg  \n",
            "  inflating: taco_trash_dataset/data/batch_11/000091.jpg  \n",
            "  inflating: taco_trash_dataset/data/batch_11/000092.jpg  \n",
            "  inflating: taco_trash_dataset/data/batch_11/000093.jpg  \n",
            "  inflating: taco_trash_dataset/data/batch_11/000094.jpg  \n",
            "  inflating: taco_trash_dataset/data/batch_11/000095.jpg  \n",
            "  inflating: taco_trash_dataset/data/batch_11/000096.jpg  \n",
            "  inflating: taco_trash_dataset/data/batch_11/000097.jpg  \n",
            "  inflating: taco_trash_dataset/data/batch_11/000098.jpg  \n",
            "  inflating: taco_trash_dataset/data/batch_11/000099.jpg  \n",
            "  inflating: taco_trash_dataset/data/batch_12/000000.jpg  \n",
            "  inflating: taco_trash_dataset/data/batch_12/000001.jpg  \n",
            "  inflating: taco_trash_dataset/data/batch_12/000002.jpg  \n",
            "  inflating: taco_trash_dataset/data/batch_12/000003.jpg  \n",
            "  inflating: taco_trash_dataset/data/batch_12/000004.jpg  \n",
            "  inflating: taco_trash_dataset/data/batch_12/000005.jpg  \n",
            "  inflating: taco_trash_dataset/data/batch_12/000006.jpg  \n",
            "  inflating: taco_trash_dataset/data/batch_12/000007.jpg  \n",
            "  inflating: taco_trash_dataset/data/batch_12/000008.jpg  \n",
            "  inflating: taco_trash_dataset/data/batch_12/000009.jpg  \n",
            "  inflating: taco_trash_dataset/data/batch_12/000010.jpg  \n",
            "  inflating: taco_trash_dataset/data/batch_12/000011.jpg  \n",
            "  inflating: taco_trash_dataset/data/batch_12/000012.jpg  \n",
            "  inflating: taco_trash_dataset/data/batch_12/000013.jpg  \n",
            "  inflating: taco_trash_dataset/data/batch_12/000014.jpg  \n",
            "  inflating: taco_trash_dataset/data/batch_12/000015.jpg  \n",
            "  inflating: taco_trash_dataset/data/batch_12/000016.jpg  \n",
            "  inflating: taco_trash_dataset/data/batch_12/000017.jpg  \n",
            "  inflating: taco_trash_dataset/data/batch_12/000018.jpg  \n",
            "  inflating: taco_trash_dataset/data/batch_12/000019.jpg  \n",
            "  inflating: taco_trash_dataset/data/batch_12/000020.jpg  \n",
            "  inflating: taco_trash_dataset/data/batch_12/000021.jpg  \n",
            "  inflating: taco_trash_dataset/data/batch_12/000022.jpg  \n",
            "  inflating: taco_trash_dataset/data/batch_12/000023.jpg  \n",
            "  inflating: taco_trash_dataset/data/batch_12/000024.jpg  \n",
            "  inflating: taco_trash_dataset/data/batch_12/000025.jpg  \n",
            "  inflating: taco_trash_dataset/data/batch_12/000026.jpg  \n",
            "  inflating: taco_trash_dataset/data/batch_12/000027.jpg  \n",
            "  inflating: taco_trash_dataset/data/batch_12/000028.jpg  \n",
            "  inflating: taco_trash_dataset/data/batch_12/000029.jpg  \n",
            "  inflating: taco_trash_dataset/data/batch_12/000030.jpg  \n",
            "  inflating: taco_trash_dataset/data/batch_12/000031.jpg  \n",
            "  inflating: taco_trash_dataset/data/batch_12/000032.jpg  \n",
            "  inflating: taco_trash_dataset/data/batch_12/000033.jpg  \n",
            "  inflating: taco_trash_dataset/data/batch_12/000034.jpg  \n",
            "  inflating: taco_trash_dataset/data/batch_12/000035.jpg  \n",
            "  inflating: taco_trash_dataset/data/batch_12/000036.jpg  \n",
            "  inflating: taco_trash_dataset/data/batch_12/000037.jpg  \n",
            "  inflating: taco_trash_dataset/data/batch_12/000038.jpg  \n",
            "  inflating: taco_trash_dataset/data/batch_12/000039.jpg  \n",
            "  inflating: taco_trash_dataset/data/batch_12/000040.jpg  \n",
            "  inflating: taco_trash_dataset/data/batch_12/000041.jpg  \n",
            "  inflating: taco_trash_dataset/data/batch_12/000042.jpg  \n",
            "  inflating: taco_trash_dataset/data/batch_12/000043.jpg  \n",
            "  inflating: taco_trash_dataset/data/batch_12/000044.jpg  \n",
            "  inflating: taco_trash_dataset/data/batch_12/000045.jpg  \n",
            "  inflating: taco_trash_dataset/data/batch_12/000046.jpg  \n",
            "  inflating: taco_trash_dataset/data/batch_12/000047.jpg  \n",
            "  inflating: taco_trash_dataset/data/batch_12/000048.jpg  \n",
            "  inflating: taco_trash_dataset/data/batch_12/000049.jpg  \n",
            "  inflating: taco_trash_dataset/data/batch_12/000050.jpg  \n",
            "  inflating: taco_trash_dataset/data/batch_12/000051.jpg  \n",
            "  inflating: taco_trash_dataset/data/batch_12/000052.jpg  \n",
            "  inflating: taco_trash_dataset/data/batch_12/000053.jpg  \n",
            "  inflating: taco_trash_dataset/data/batch_12/000054.jpg  \n",
            "  inflating: taco_trash_dataset/data/batch_12/000055.jpg  \n",
            "  inflating: taco_trash_dataset/data/batch_12/000056.jpg  \n",
            "  inflating: taco_trash_dataset/data/batch_12/000057.jpg  \n",
            "  inflating: taco_trash_dataset/data/batch_12/000058.jpg  \n",
            "  inflating: taco_trash_dataset/data/batch_12/000059.jpg  \n",
            "  inflating: taco_trash_dataset/data/batch_12/000060.jpg  \n",
            "  inflating: taco_trash_dataset/data/batch_12/000061.jpg  \n",
            "  inflating: taco_trash_dataset/data/batch_12/000062.jpg  \n",
            "  inflating: taco_trash_dataset/data/batch_12/000063.jpg  \n",
            "  inflating: taco_trash_dataset/data/batch_12/000064.jpg  \n",
            "  inflating: taco_trash_dataset/data/batch_12/000065.jpg  \n",
            "  inflating: taco_trash_dataset/data/batch_12/000066.jpg  \n",
            "  inflating: taco_trash_dataset/data/batch_12/000067.jpg  \n",
            "  inflating: taco_trash_dataset/data/batch_12/000068.jpg  \n",
            "  inflating: taco_trash_dataset/data/batch_12/000069.jpg  \n",
            "  inflating: taco_trash_dataset/data/batch_12/000070.jpg  \n",
            "  inflating: taco_trash_dataset/data/batch_12/000071.jpg  \n",
            "  inflating: taco_trash_dataset/data/batch_12/000072.jpg  \n",
            "  inflating: taco_trash_dataset/data/batch_12/000073.jpg  \n",
            "  inflating: taco_trash_dataset/data/batch_12/000074.jpg  \n",
            "  inflating: taco_trash_dataset/data/batch_12/000075.jpg  \n",
            "  inflating: taco_trash_dataset/data/batch_12/000076.jpg  \n",
            "  inflating: taco_trash_dataset/data/batch_12/000077.jpg  \n",
            "  inflating: taco_trash_dataset/data/batch_12/000078.jpg  \n",
            "  inflating: taco_trash_dataset/data/batch_12/000079.jpg  \n",
            "  inflating: taco_trash_dataset/data/batch_12/000080.jpg  \n",
            "  inflating: taco_trash_dataset/data/batch_12/000081.jpg  \n",
            "  inflating: taco_trash_dataset/data/batch_12/000082.jpg  \n",
            "  inflating: taco_trash_dataset/data/batch_12/000083.jpg  \n",
            "  inflating: taco_trash_dataset/data/batch_12/000084.jpg  \n",
            "  inflating: taco_trash_dataset/data/batch_12/000085.jpg  \n",
            "  inflating: taco_trash_dataset/data/batch_12/000086.jpg  \n",
            "  inflating: taco_trash_dataset/data/batch_12/000087.jpg  \n",
            "  inflating: taco_trash_dataset/data/batch_12/000088.jpg  \n",
            "  inflating: taco_trash_dataset/data/batch_12/000089.jpg  \n",
            "  inflating: taco_trash_dataset/data/batch_12/000090.jpg  \n",
            "  inflating: taco_trash_dataset/data/batch_12/000091.jpg  \n",
            "  inflating: taco_trash_dataset/data/batch_12/000092.jpg  \n",
            "  inflating: taco_trash_dataset/data/batch_12/000093.jpg  \n",
            "  inflating: taco_trash_dataset/data/batch_12/000094.jpg  \n",
            "  inflating: taco_trash_dataset/data/batch_12/000095.jpg  \n",
            "  inflating: taco_trash_dataset/data/batch_12/000096.jpg  \n",
            "  inflating: taco_trash_dataset/data/batch_12/000097.jpg  \n",
            "  inflating: taco_trash_dataset/data/batch_12/000098.jpg  \n",
            "  inflating: taco_trash_dataset/data/batch_12/000099.jpg  \n",
            "  inflating: taco_trash_dataset/data/batch_13/000000.jpg  \n",
            "  inflating: taco_trash_dataset/data/batch_13/000001.jpg  \n",
            "  inflating: taco_trash_dataset/data/batch_13/000002.jpg  \n",
            "  inflating: taco_trash_dataset/data/batch_13/000003.jpg  \n",
            "  inflating: taco_trash_dataset/data/batch_13/000004.jpg  \n",
            "  inflating: taco_trash_dataset/data/batch_13/000005.jpg  \n",
            "  inflating: taco_trash_dataset/data/batch_13/000006.jpg  \n",
            "  inflating: taco_trash_dataset/data/batch_13/000007.jpg  \n",
            "  inflating: taco_trash_dataset/data/batch_13/000008.jpg  \n",
            "  inflating: taco_trash_dataset/data/batch_13/000009.jpg  \n",
            "  inflating: taco_trash_dataset/data/batch_13/000010.jpg  \n",
            "  inflating: taco_trash_dataset/data/batch_13/000011.jpg  \n",
            "  inflating: taco_trash_dataset/data/batch_13/000012.jpg  \n",
            "  inflating: taco_trash_dataset/data/batch_13/000013.jpg  \n",
            "  inflating: taco_trash_dataset/data/batch_13/000014.jpg  \n",
            "  inflating: taco_trash_dataset/data/batch_13/000015.jpg  \n",
            "  inflating: taco_trash_dataset/data/batch_13/000016.jpg  \n",
            "  inflating: taco_trash_dataset/data/batch_13/000017.jpg  \n",
            "  inflating: taco_trash_dataset/data/batch_13/000018.jpg  \n",
            "  inflating: taco_trash_dataset/data/batch_13/000019.jpg  \n",
            "  inflating: taco_trash_dataset/data/batch_13/000020.jpg  \n",
            "  inflating: taco_trash_dataset/data/batch_13/000021.jpg  \n",
            "  inflating: taco_trash_dataset/data/batch_13/000022.jpg  \n",
            "  inflating: taco_trash_dataset/data/batch_13/000023.jpg  \n",
            "  inflating: taco_trash_dataset/data/batch_13/000024.jpg  \n",
            "  inflating: taco_trash_dataset/data/batch_13/000025.jpg  \n",
            "  inflating: taco_trash_dataset/data/batch_13/000026.jpg  \n",
            "  inflating: taco_trash_dataset/data/batch_13/000027.jpg  \n",
            "  inflating: taco_trash_dataset/data/batch_13/000028.jpg  \n",
            "  inflating: taco_trash_dataset/data/batch_13/000029.jpg  \n",
            "  inflating: taco_trash_dataset/data/batch_13/000030.jpg  \n",
            "  inflating: taco_trash_dataset/data/batch_13/000031.jpg  \n",
            "  inflating: taco_trash_dataset/data/batch_13/000032.jpg  \n",
            "  inflating: taco_trash_dataset/data/batch_13/000033.jpg  \n",
            "  inflating: taco_trash_dataset/data/batch_13/000034.jpg  \n",
            "  inflating: taco_trash_dataset/data/batch_13/000035.jpg  \n",
            "  inflating: taco_trash_dataset/data/batch_13/000036.jpg  \n",
            "  inflating: taco_trash_dataset/data/batch_13/000037.jpg  \n",
            "  inflating: taco_trash_dataset/data/batch_13/000038.jpg  \n",
            "  inflating: taco_trash_dataset/data/batch_13/000039.jpg  \n",
            "  inflating: taco_trash_dataset/data/batch_13/000040.jpg  \n",
            "  inflating: taco_trash_dataset/data/batch_13/000041.jpg  \n",
            "  inflating: taco_trash_dataset/data/batch_13/000042.jpg  \n",
            "  inflating: taco_trash_dataset/data/batch_13/000043.jpg  \n",
            "  inflating: taco_trash_dataset/data/batch_13/000044.jpg  \n",
            "  inflating: taco_trash_dataset/data/batch_13/000045.jpg  \n",
            "  inflating: taco_trash_dataset/data/batch_13/000046.jpg  \n",
            "  inflating: taco_trash_dataset/data/batch_13/000047.jpg  \n",
            "  inflating: taco_trash_dataset/data/batch_13/000048.jpg  \n",
            "  inflating: taco_trash_dataset/data/batch_13/000049.jpg  \n",
            "  inflating: taco_trash_dataset/data/batch_13/000050.jpg  \n",
            "  inflating: taco_trash_dataset/data/batch_13/000051.jpg  \n",
            "  inflating: taco_trash_dataset/data/batch_13/000052.jpg  \n",
            "  inflating: taco_trash_dataset/data/batch_13/000053.jpg  \n",
            "  inflating: taco_trash_dataset/data/batch_13/000054.jpg  \n",
            "  inflating: taco_trash_dataset/data/batch_13/000055.jpg  \n",
            "  inflating: taco_trash_dataset/data/batch_13/000056.jpg  \n",
            "  inflating: taco_trash_dataset/data/batch_13/000057.jpg  \n",
            "  inflating: taco_trash_dataset/data/batch_13/000058.jpg  \n",
            "  inflating: taco_trash_dataset/data/batch_13/000059.jpg  \n",
            "  inflating: taco_trash_dataset/data/batch_13/000060.jpg  \n",
            "  inflating: taco_trash_dataset/data/batch_13/000061.jpg  \n",
            "  inflating: taco_trash_dataset/data/batch_13/000062.jpg  \n",
            "  inflating: taco_trash_dataset/data/batch_13/000063.jpg  \n",
            "  inflating: taco_trash_dataset/data/batch_13/000064.jpg  \n",
            "  inflating: taco_trash_dataset/data/batch_13/000065.jpg  \n",
            "  inflating: taco_trash_dataset/data/batch_13/000066.jpg  \n",
            "  inflating: taco_trash_dataset/data/batch_13/000067.jpg  \n",
            "  inflating: taco_trash_dataset/data/batch_13/000068.jpg  \n",
            "  inflating: taco_trash_dataset/data/batch_13/000069.jpg  \n",
            "  inflating: taco_trash_dataset/data/batch_13/000070.jpg  \n",
            "  inflating: taco_trash_dataset/data/batch_13/000071.jpg  \n",
            "  inflating: taco_trash_dataset/data/batch_13/000072.jpg  \n",
            "  inflating: taco_trash_dataset/data/batch_13/000073.jpg  \n",
            "  inflating: taco_trash_dataset/data/batch_13/000074.jpg  \n",
            "  inflating: taco_trash_dataset/data/batch_13/000075.jpg  \n",
            "  inflating: taco_trash_dataset/data/batch_13/000076.jpg  \n",
            "  inflating: taco_trash_dataset/data/batch_13/000077.jpg  \n",
            "  inflating: taco_trash_dataset/data/batch_13/000078.jpg  \n",
            "  inflating: taco_trash_dataset/data/batch_13/000079.jpg  \n",
            "  inflating: taco_trash_dataset/data/batch_13/000080.jpg  \n",
            "  inflating: taco_trash_dataset/data/batch_13/000081.jpg  \n",
            "  inflating: taco_trash_dataset/data/batch_13/000082.jpg  \n",
            "  inflating: taco_trash_dataset/data/batch_13/000083.jpg  \n",
            "  inflating: taco_trash_dataset/data/batch_13/000084.jpg  \n",
            "  inflating: taco_trash_dataset/data/batch_13/000085.jpg  \n",
            "  inflating: taco_trash_dataset/data/batch_13/000086.jpg  \n",
            "  inflating: taco_trash_dataset/data/batch_13/000087.jpg  \n",
            "  inflating: taco_trash_dataset/data/batch_13/000088.jpg  \n",
            "  inflating: taco_trash_dataset/data/batch_13/000089.jpg  \n",
            "  inflating: taco_trash_dataset/data/batch_13/000090.jpg  \n",
            "  inflating: taco_trash_dataset/data/batch_13/000091.jpg  \n",
            "  inflating: taco_trash_dataset/data/batch_13/000092.jpg  \n",
            "  inflating: taco_trash_dataset/data/batch_13/000093.jpg  \n",
            "  inflating: taco_trash_dataset/data/batch_13/000094.jpg  \n",
            "  inflating: taco_trash_dataset/data/batch_13/000095.jpg  \n",
            "  inflating: taco_trash_dataset/data/batch_13/000096.jpg  \n",
            "  inflating: taco_trash_dataset/data/batch_13/000097.jpg  \n",
            "  inflating: taco_trash_dataset/data/batch_13/000098.jpg  \n",
            "  inflating: taco_trash_dataset/data/batch_13/000099.jpg  \n",
            "  inflating: taco_trash_dataset/data/batch_14/000000.jpg  \n",
            "  inflating: taco_trash_dataset/data/batch_14/000001.jpg  \n",
            "  inflating: taco_trash_dataset/data/batch_14/000002.jpg  \n",
            "  inflating: taco_trash_dataset/data/batch_14/000003.jpg  \n",
            "  inflating: taco_trash_dataset/data/batch_14/000004.jpg  \n",
            "  inflating: taco_trash_dataset/data/batch_14/000005.jpg  \n",
            "  inflating: taco_trash_dataset/data/batch_14/000006.jpg  \n",
            "  inflating: taco_trash_dataset/data/batch_14/000007.jpg  \n",
            "  inflating: taco_trash_dataset/data/batch_14/000008.jpg  \n",
            "  inflating: taco_trash_dataset/data/batch_14/000009.jpg  \n",
            "  inflating: taco_trash_dataset/data/batch_14/000010.jpg  \n",
            "  inflating: taco_trash_dataset/data/batch_14/000011.jpg  \n",
            "  inflating: taco_trash_dataset/data/batch_14/000012.jpg  \n",
            "  inflating: taco_trash_dataset/data/batch_14/000013.jpg  \n",
            "  inflating: taco_trash_dataset/data/batch_14/000014.jpg  \n",
            "  inflating: taco_trash_dataset/data/batch_14/000015.jpg  \n",
            "  inflating: taco_trash_dataset/data/batch_14/000016.jpg  \n",
            "  inflating: taco_trash_dataset/data/batch_14/000017.jpg  \n",
            "  inflating: taco_trash_dataset/data/batch_14/000018.jpg  \n",
            "  inflating: taco_trash_dataset/data/batch_14/000019.jpg  \n",
            "  inflating: taco_trash_dataset/data/batch_14/000020.jpg  \n",
            "  inflating: taco_trash_dataset/data/batch_14/000021.jpg  \n",
            "  inflating: taco_trash_dataset/data/batch_14/000022.jpg  \n",
            "  inflating: taco_trash_dataset/data/batch_14/000023.jpg  \n",
            "  inflating: taco_trash_dataset/data/batch_14/000024.jpg  \n",
            "  inflating: taco_trash_dataset/data/batch_14/000025.jpg  \n",
            "  inflating: taco_trash_dataset/data/batch_14/000026.jpg  \n",
            "  inflating: taco_trash_dataset/data/batch_14/000027.jpg  \n",
            "  inflating: taco_trash_dataset/data/batch_14/000028.jpg  \n",
            "  inflating: taco_trash_dataset/data/batch_14/000029.jpg  \n",
            "  inflating: taco_trash_dataset/data/batch_14/000030.jpg  \n",
            "  inflating: taco_trash_dataset/data/batch_14/000031.jpg  \n",
            "  inflating: taco_trash_dataset/data/batch_14/000032.jpg  \n",
            "  inflating: taco_trash_dataset/data/batch_14/000033.jpg  \n",
            "  inflating: taco_trash_dataset/data/batch_14/000034.jpg  \n",
            "  inflating: taco_trash_dataset/data/batch_14/000035.jpg  \n",
            "  inflating: taco_trash_dataset/data/batch_14/000036.jpg  \n",
            "  inflating: taco_trash_dataset/data/batch_14/000037.jpg  \n",
            "  inflating: taco_trash_dataset/data/batch_14/000038.jpg  \n",
            "  inflating: taco_trash_dataset/data/batch_14/000039.jpg  \n",
            "  inflating: taco_trash_dataset/data/batch_14/000040.jpg  \n",
            "  inflating: taco_trash_dataset/data/batch_14/000041.jpg  \n",
            "  inflating: taco_trash_dataset/data/batch_14/000042.jpg  \n",
            "  inflating: taco_trash_dataset/data/batch_14/000043.jpg  \n",
            "  inflating: taco_trash_dataset/data/batch_14/000044.jpg  \n",
            "  inflating: taco_trash_dataset/data/batch_14/000045.jpg  \n",
            "  inflating: taco_trash_dataset/data/batch_14/000046.jpg  \n",
            "  inflating: taco_trash_dataset/data/batch_14/000047.jpg  \n",
            "  inflating: taco_trash_dataset/data/batch_14/000048.jpg  \n",
            "  inflating: taco_trash_dataset/data/batch_14/000049.jpg  \n",
            "  inflating: taco_trash_dataset/data/batch_14/000050.jpg  \n",
            "  inflating: taco_trash_dataset/data/batch_14/000051.jpg  \n",
            "  inflating: taco_trash_dataset/data/batch_14/000052.jpg  \n",
            "  inflating: taco_trash_dataset/data/batch_14/000053.jpg  \n",
            "  inflating: taco_trash_dataset/data/batch_14/000054.jpg  \n",
            "  inflating: taco_trash_dataset/data/batch_14/000055.jpg  \n",
            "  inflating: taco_trash_dataset/data/batch_14/000056.jpg  \n",
            "  inflating: taco_trash_dataset/data/batch_14/000057.jpg  \n",
            "  inflating: taco_trash_dataset/data/batch_14/000058.jpg  \n",
            "  inflating: taco_trash_dataset/data/batch_14/000059.jpg  \n",
            "  inflating: taco_trash_dataset/data/batch_14/000060.jpg  \n",
            "  inflating: taco_trash_dataset/data/batch_14/000061.jpg  \n",
            "  inflating: taco_trash_dataset/data/batch_14/000062.jpg  \n",
            "  inflating: taco_trash_dataset/data/batch_14/000063.jpg  \n",
            "  inflating: taco_trash_dataset/data/batch_14/000064.jpg  \n",
            "  inflating: taco_trash_dataset/data/batch_14/000065.jpg  \n",
            "  inflating: taco_trash_dataset/data/batch_14/000066.jpg  \n",
            "  inflating: taco_trash_dataset/data/batch_14/000067.jpg  \n",
            "  inflating: taco_trash_dataset/data/batch_14/000068.jpg  \n",
            "  inflating: taco_trash_dataset/data/batch_14/000069.jpg  \n",
            "  inflating: taco_trash_dataset/data/batch_14/000070.jpg  \n",
            "  inflating: taco_trash_dataset/data/batch_14/000071.jpg  \n",
            "  inflating: taco_trash_dataset/data/batch_14/000072.jpg  \n",
            "  inflating: taco_trash_dataset/data/batch_14/000073.jpg  \n",
            "  inflating: taco_trash_dataset/data/batch_14/000074.jpg  \n",
            "  inflating: taco_trash_dataset/data/batch_14/000075.jpg  \n",
            "  inflating: taco_trash_dataset/data/batch_14/000076.jpg  \n",
            "  inflating: taco_trash_dataset/data/batch_14/000077.jpg  \n",
            "  inflating: taco_trash_dataset/data/batch_14/000078.jpg  \n",
            "  inflating: taco_trash_dataset/data/batch_14/000079.jpg  \n",
            "  inflating: taco_trash_dataset/data/batch_14/000080.jpg  \n",
            "  inflating: taco_trash_dataset/data/batch_14/000081.jpg  \n",
            "  inflating: taco_trash_dataset/data/batch_14/000082.jpg  \n",
            "  inflating: taco_trash_dataset/data/batch_14/000083.jpg  \n",
            "  inflating: taco_trash_dataset/data/batch_14/000084.jpg  \n",
            "  inflating: taco_trash_dataset/data/batch_14/000085.jpg  \n",
            "  inflating: taco_trash_dataset/data/batch_14/000086.jpg  \n",
            "  inflating: taco_trash_dataset/data/batch_14/000087.jpg  \n",
            "  inflating: taco_trash_dataset/data/batch_14/000088.jpg  \n",
            "  inflating: taco_trash_dataset/data/batch_14/000089.jpg  \n",
            "  inflating: taco_trash_dataset/data/batch_14/000090.jpg  \n",
            "  inflating: taco_trash_dataset/data/batch_14/000091.jpg  \n",
            "  inflating: taco_trash_dataset/data/batch_14/000092.jpg  \n",
            "  inflating: taco_trash_dataset/data/batch_14/000093.jpg  \n",
            "  inflating: taco_trash_dataset/data/batch_14/000094.jpg  \n",
            "  inflating: taco_trash_dataset/data/batch_14/000095.jpg  \n",
            "  inflating: taco_trash_dataset/data/batch_14/000096.jpg  \n",
            "  inflating: taco_trash_dataset/data/batch_14/000097.jpg  \n",
            "  inflating: taco_trash_dataset/data/batch_14/000098.jpg  \n",
            "  inflating: taco_trash_dataset/data/batch_14/000099.jpg  \n",
            "  inflating: taco_trash_dataset/data/batch_15/000000.jpg  \n",
            "  inflating: taco_trash_dataset/data/batch_15/000001.jpg  \n",
            "  inflating: taco_trash_dataset/data/batch_15/000002.jpg  \n",
            "  inflating: taco_trash_dataset/data/batch_15/000003.jpg  \n",
            "  inflating: taco_trash_dataset/data/batch_15/000004.jpg  \n",
            "  inflating: taco_trash_dataset/data/batch_15/000005.jpg  \n",
            "  inflating: taco_trash_dataset/data/batch_15/000006.jpg  \n",
            "  inflating: taco_trash_dataset/data/batch_15/000007.jpg  \n",
            "  inflating: taco_trash_dataset/data/batch_15/000008.jpg  \n",
            "  inflating: taco_trash_dataset/data/batch_15/000009.jpg  \n",
            "  inflating: taco_trash_dataset/data/batch_15/000010.jpg  \n",
            "  inflating: taco_trash_dataset/data/batch_15/000011.jpg  \n",
            "  inflating: taco_trash_dataset/data/batch_15/000012.jpg  \n",
            "  inflating: taco_trash_dataset/data/batch_15/000013.jpg  \n",
            "  inflating: taco_trash_dataset/data/batch_15/000014.jpg  \n",
            "  inflating: taco_trash_dataset/data/batch_15/000015.jpg  \n",
            "  inflating: taco_trash_dataset/data/batch_15/000016.jpg  \n",
            "  inflating: taco_trash_dataset/data/batch_15/000017.jpg  \n",
            "  inflating: taco_trash_dataset/data/batch_15/000018.jpg  \n",
            "  inflating: taco_trash_dataset/data/batch_15/000019.jpg  \n",
            "  inflating: taco_trash_dataset/data/batch_15/000020.jpg  \n",
            "  inflating: taco_trash_dataset/data/batch_15/000021.jpg  \n",
            "  inflating: taco_trash_dataset/data/batch_15/000022.jpg  \n",
            "  inflating: taco_trash_dataset/data/batch_15/000023.jpg  \n",
            "  inflating: taco_trash_dataset/data/batch_15/000024.jpg  \n",
            "  inflating: taco_trash_dataset/data/batch_15/000025.jpg  \n",
            "  inflating: taco_trash_dataset/data/batch_15/000026.jpg  \n",
            "  inflating: taco_trash_dataset/data/batch_15/000027.jpg  \n",
            "  inflating: taco_trash_dataset/data/batch_15/000028.jpg  \n",
            "  inflating: taco_trash_dataset/data/batch_15/000029.jpg  \n",
            "  inflating: taco_trash_dataset/data/batch_15/000030.jpg  \n",
            "  inflating: taco_trash_dataset/data/batch_15/000031.jpg  \n",
            "  inflating: taco_trash_dataset/data/batch_15/000032.jpg  \n",
            "  inflating: taco_trash_dataset/data/batch_15/000033.jpg  \n",
            "  inflating: taco_trash_dataset/data/batch_15/000034.jpg  \n",
            "  inflating: taco_trash_dataset/data/batch_15/000035.jpg  \n",
            "  inflating: taco_trash_dataset/data/batch_15/000036.jpg  \n",
            "  inflating: taco_trash_dataset/data/batch_15/000037.jpg  \n",
            "  inflating: taco_trash_dataset/data/batch_15/000038.jpg  \n",
            "  inflating: taco_trash_dataset/data/batch_15/000039.jpg  \n",
            "  inflating: taco_trash_dataset/data/batch_15/000040.jpg  \n",
            "  inflating: taco_trash_dataset/data/batch_15/000041.jpg  \n",
            "  inflating: taco_trash_dataset/data/batch_15/000042.jpg  \n",
            "  inflating: taco_trash_dataset/data/batch_15/000043.jpg  \n",
            "  inflating: taco_trash_dataset/data/batch_15/000044.jpg  \n",
            "  inflating: taco_trash_dataset/data/batch_15/000045.jpg  \n",
            "  inflating: taco_trash_dataset/data/batch_15/000046.jpg  \n",
            "  inflating: taco_trash_dataset/data/batch_15/000047.jpg  \n",
            "  inflating: taco_trash_dataset/data/batch_15/000048.jpg  \n",
            "  inflating: taco_trash_dataset/data/batch_15/000049.jpg  \n",
            "  inflating: taco_trash_dataset/data/batch_15/000050.jpg  \n",
            "  inflating: taco_trash_dataset/data/batch_15/000051.jpg  \n",
            "  inflating: taco_trash_dataset/data/batch_15/000052.jpg  \n",
            "  inflating: taco_trash_dataset/data/batch_15/000053.jpg  \n",
            "  inflating: taco_trash_dataset/data/batch_15/000054.jpg  \n",
            "  inflating: taco_trash_dataset/data/batch_15/000055.jpg  \n",
            "  inflating: taco_trash_dataset/data/batch_15/000056.jpg  \n",
            "  inflating: taco_trash_dataset/data/batch_15/000057.jpg  \n",
            "  inflating: taco_trash_dataset/data/batch_15/000058.jpg  \n",
            "  inflating: taco_trash_dataset/data/batch_15/000059.jpg  \n",
            "  inflating: taco_trash_dataset/data/batch_15/000060.jpg  \n",
            "  inflating: taco_trash_dataset/data/batch_15/000061.jpg  \n",
            "  inflating: taco_trash_dataset/data/batch_15/000062.jpg  \n",
            "  inflating: taco_trash_dataset/data/batch_15/000063.jpg  \n",
            "  inflating: taco_trash_dataset/data/batch_15/000064.jpg  \n",
            "  inflating: taco_trash_dataset/data/batch_15/000065.jpg  \n",
            "  inflating: taco_trash_dataset/data/batch_15/000066.jpg  \n",
            "  inflating: taco_trash_dataset/data/batch_15/000067.jpg  \n",
            "  inflating: taco_trash_dataset/data/batch_15/000068.jpg  \n",
            "  inflating: taco_trash_dataset/data/batch_15/000069.jpg  \n",
            "  inflating: taco_trash_dataset/data/batch_15/000070.jpg  \n",
            "  inflating: taco_trash_dataset/data/batch_15/000071.jpg  \n",
            "  inflating: taco_trash_dataset/data/batch_15/000072.jpg  \n",
            "  inflating: taco_trash_dataset/data/batch_15/000073.jpg  \n",
            "  inflating: taco_trash_dataset/data/batch_15/000074.jpg  \n",
            "  inflating: taco_trash_dataset/data/batch_15/000075.jpg  \n",
            "  inflating: taco_trash_dataset/data/batch_15/000076.jpg  \n",
            "  inflating: taco_trash_dataset/data/batch_15/000077.jpg  \n",
            "  inflating: taco_trash_dataset/data/batch_15/000078.jpg  \n",
            "  inflating: taco_trash_dataset/data/batch_15/000079.jpg  \n",
            "  inflating: taco_trash_dataset/data/batch_15/000080.jpg  \n",
            "  inflating: taco_trash_dataset/data/batch_15/000081.jpg  \n",
            "  inflating: taco_trash_dataset/data/batch_15/000082.jpg  \n",
            "  inflating: taco_trash_dataset/data/batch_15/000083.jpg  \n",
            "  inflating: taco_trash_dataset/data/batch_15/000084.jpg  \n",
            "  inflating: taco_trash_dataset/data/batch_2/000000.JPG  \n",
            "  inflating: taco_trash_dataset/data/batch_2/000001.JPG  \n",
            "  inflating: taco_trash_dataset/data/batch_2/000003.JPG  \n",
            "  inflating: taco_trash_dataset/data/batch_2/000005.JPG  \n",
            "  inflating: taco_trash_dataset/data/batch_2/000006.JPG  \n",
            "  inflating: taco_trash_dataset/data/batch_2/000007.JPG  \n",
            "  inflating: taco_trash_dataset/data/batch_2/000008.JPG  \n",
            "  inflating: taco_trash_dataset/data/batch_2/000009.JPG  \n",
            "  inflating: taco_trash_dataset/data/batch_2/000010.JPG  \n",
            "  inflating: taco_trash_dataset/data/batch_2/000012.JPG  \n",
            "  inflating: taco_trash_dataset/data/batch_2/000013.JPG  \n",
            "  inflating: taco_trash_dataset/data/batch_2/000014.JPG  \n",
            "  inflating: taco_trash_dataset/data/batch_2/000015.JPG  \n",
            "  inflating: taco_trash_dataset/data/batch_2/000016.JPG  \n",
            "  inflating: taco_trash_dataset/data/batch_2/000017.JPG  \n",
            "  inflating: taco_trash_dataset/data/batch_2/000018.JPG  \n",
            "  inflating: taco_trash_dataset/data/batch_2/000019.JPG  \n",
            "  inflating: taco_trash_dataset/data/batch_2/000020.JPG  \n",
            "  inflating: taco_trash_dataset/data/batch_2/000021.JPG  \n",
            "  inflating: taco_trash_dataset/data/batch_2/000022.JPG  \n",
            "  inflating: taco_trash_dataset/data/batch_2/000023.JPG  \n",
            "  inflating: taco_trash_dataset/data/batch_2/000024.JPG  \n",
            "  inflating: taco_trash_dataset/data/batch_2/000025.JPG  \n",
            "  inflating: taco_trash_dataset/data/batch_2/000026.JPG  \n",
            "  inflating: taco_trash_dataset/data/batch_2/000027.JPG  \n",
            "  inflating: taco_trash_dataset/data/batch_2/000029.JPG  \n",
            "  inflating: taco_trash_dataset/data/batch_2/000030.JPG  \n",
            "  inflating: taco_trash_dataset/data/batch_2/000031.JPG  \n",
            "  inflating: taco_trash_dataset/data/batch_2/000032.JPG  \n",
            "  inflating: taco_trash_dataset/data/batch_2/000033.JPG  \n",
            "  inflating: taco_trash_dataset/data/batch_2/000034.JPG  \n",
            "  inflating: taco_trash_dataset/data/batch_2/000035.JPG  \n",
            "  inflating: taco_trash_dataset/data/batch_2/000036.JPG  \n",
            "  inflating: taco_trash_dataset/data/batch_2/000037.JPG  \n",
            "  inflating: taco_trash_dataset/data/batch_2/000038.JPG  \n",
            "  inflating: taco_trash_dataset/data/batch_2/000039.JPG  \n",
            "  inflating: taco_trash_dataset/data/batch_2/000040.JPG  \n",
            "  inflating: taco_trash_dataset/data/batch_2/000041.JPG  \n",
            "  inflating: taco_trash_dataset/data/batch_2/000042.JPG  \n",
            "  inflating: taco_trash_dataset/data/batch_2/000043.JPG  \n",
            "  inflating: taco_trash_dataset/data/batch_2/000044.JPG  \n",
            "  inflating: taco_trash_dataset/data/batch_2/000046.JPG  \n",
            "  inflating: taco_trash_dataset/data/batch_2/000047.JPG  \n",
            "  inflating: taco_trash_dataset/data/batch_2/000048.JPG  \n",
            "  inflating: taco_trash_dataset/data/batch_2/000049.JPG  \n",
            "  inflating: taco_trash_dataset/data/batch_2/000050.JPG  \n",
            "  inflating: taco_trash_dataset/data/batch_2/000051.JPG  \n",
            "  inflating: taco_trash_dataset/data/batch_2/000052.JPG  \n",
            "  inflating: taco_trash_dataset/data/batch_2/000053.JPG  \n",
            "  inflating: taco_trash_dataset/data/batch_2/000054.JPG  \n",
            "  inflating: taco_trash_dataset/data/batch_2/000055.JPG  \n",
            "  inflating: taco_trash_dataset/data/batch_2/000056.JPG  \n",
            "  inflating: taco_trash_dataset/data/batch_2/000057.JPG  \n",
            "  inflating: taco_trash_dataset/data/batch_2/000058.JPG  \n",
            "  inflating: taco_trash_dataset/data/batch_2/000059.JPG  \n",
            "  inflating: taco_trash_dataset/data/batch_2/000060.JPG  \n",
            "  inflating: taco_trash_dataset/data/batch_2/000061.JPG  \n",
            "  inflating: taco_trash_dataset/data/batch_2/000062.JPG  \n",
            "  inflating: taco_trash_dataset/data/batch_2/000063.JPG  \n",
            "  inflating: taco_trash_dataset/data/batch_2/000064.JPG  \n",
            "  inflating: taco_trash_dataset/data/batch_2/000065.JPG  \n",
            "  inflating: taco_trash_dataset/data/batch_2/000067.JPG  \n",
            "  inflating: taco_trash_dataset/data/batch_2/000068.JPG  \n",
            "  inflating: taco_trash_dataset/data/batch_2/000069.JPG  \n",
            "  inflating: taco_trash_dataset/data/batch_2/000070.JPG  \n",
            "  inflating: taco_trash_dataset/data/batch_2/000071.JPG  \n",
            "  inflating: taco_trash_dataset/data/batch_2/000072.JPG  \n",
            "  inflating: taco_trash_dataset/data/batch_2/000073.JPG  \n",
            "  inflating: taco_trash_dataset/data/batch_2/000074.JPG  \n",
            "  inflating: taco_trash_dataset/data/batch_2/000075.JPG  \n",
            "  inflating: taco_trash_dataset/data/batch_2/000076.JPG  \n",
            "  inflating: taco_trash_dataset/data/batch_2/000077.JPG  \n",
            "  inflating: taco_trash_dataset/data/batch_2/000079.JPG  \n",
            "  inflating: taco_trash_dataset/data/batch_2/000080.JPG  \n",
            "  inflating: taco_trash_dataset/data/batch_2/000081.JPG  \n",
            "  inflating: taco_trash_dataset/data/batch_2/000082.JPG  \n",
            "  inflating: taco_trash_dataset/data/batch_2/000083.JPG  \n",
            "  inflating: taco_trash_dataset/data/batch_2/000084.JPG  \n",
            "  inflating: taco_trash_dataset/data/batch_2/000085.JPG  \n",
            "  inflating: taco_trash_dataset/data/batch_2/000086.JPG  \n",
            "  inflating: taco_trash_dataset/data/batch_2/000088.JPG  \n",
            "  inflating: taco_trash_dataset/data/batch_2/000089.JPG  \n",
            "  inflating: taco_trash_dataset/data/batch_2/000090.JPG  \n",
            "  inflating: taco_trash_dataset/data/batch_2/000091.JPG  \n",
            "  inflating: taco_trash_dataset/data/batch_2/000092.JPG  \n",
            "  inflating: taco_trash_dataset/data/batch_2/000093.JPG  \n",
            "  inflating: taco_trash_dataset/data/batch_2/000094.JPG  \n",
            "  inflating: taco_trash_dataset/data/batch_2/000095.JPG  \n",
            "  inflating: taco_trash_dataset/data/batch_2/000096.JPG  \n",
            "  inflating: taco_trash_dataset/data/batch_2/000097.JPG  \n",
            "  inflating: taco_trash_dataset/data/batch_2/000098.JPG  \n",
            "  inflating: taco_trash_dataset/data/batch_2/000099.JPG  \n",
            "  inflating: taco_trash_dataset/data/batch_3/IMG_4852.JPG  \n",
            "  inflating: taco_trash_dataset/data/batch_3/IMG_4854.JPG  \n",
            "  inflating: taco_trash_dataset/data/batch_3/IMG_4855.JPG  \n",
            "  inflating: taco_trash_dataset/data/batch_3/IMG_4856.JPG  \n",
            "  inflating: taco_trash_dataset/data/batch_3/IMG_4857.JPG  \n",
            "  inflating: taco_trash_dataset/data/batch_3/IMG_4859.JPG  \n",
            "  inflating: taco_trash_dataset/data/batch_3/IMG_4860.JPG  \n",
            "  inflating: taco_trash_dataset/data/batch_3/IMG_4862.JPG  \n",
            "  inflating: taco_trash_dataset/data/batch_3/IMG_4865.JPG  \n",
            "  inflating: taco_trash_dataset/data/batch_3/IMG_4868.JPG  \n",
            "  inflating: taco_trash_dataset/data/batch_3/IMG_4869.JPG  \n",
            "  inflating: taco_trash_dataset/data/batch_3/IMG_4874.JPG  \n",
            "  inflating: taco_trash_dataset/data/batch_3/IMG_4875.JPG  \n",
            "  inflating: taco_trash_dataset/data/batch_3/IMG_4876.JPG  \n",
            "  inflating: taco_trash_dataset/data/batch_3/IMG_4877.JPG  \n",
            "  inflating: taco_trash_dataset/data/batch_3/IMG_4878.JPG  \n",
            "  inflating: taco_trash_dataset/data/batch_3/IMG_4879.JPG  \n",
            "  inflating: taco_trash_dataset/data/batch_3/IMG_4881.JPG  \n",
            "  inflating: taco_trash_dataset/data/batch_3/IMG_4883.JPG  \n",
            "  inflating: taco_trash_dataset/data/batch_3/IMG_4887.JPG  \n",
            "  inflating: taco_trash_dataset/data/batch_3/IMG_4889.JPG  \n",
            "  inflating: taco_trash_dataset/data/batch_3/IMG_4891.JPG  \n",
            "  inflating: taco_trash_dataset/data/batch_3/IMG_4893.JPG  \n",
            "  inflating: taco_trash_dataset/data/batch_3/IMG_4895.JPG  \n",
            "  inflating: taco_trash_dataset/data/batch_3/IMG_4897.JPG  \n",
            "  inflating: taco_trash_dataset/data/batch_3/IMG_4898.JPG  \n",
            "  inflating: taco_trash_dataset/data/batch_3/IMG_4901.JPG  \n",
            "  inflating: taco_trash_dataset/data/batch_3/IMG_4902.JPG  \n",
            "  inflating: taco_trash_dataset/data/batch_3/IMG_4907.JPG  \n",
            "  inflating: taco_trash_dataset/data/batch_3/IMG_4911.JPG  \n",
            "  inflating: taco_trash_dataset/data/batch_3/IMG_4913.JPG  \n",
            "  inflating: taco_trash_dataset/data/batch_3/IMG_4914.JPG  \n",
            "  inflating: taco_trash_dataset/data/batch_3/IMG_4915.JPG  \n",
            "  inflating: taco_trash_dataset/data/batch_3/IMG_4916.JPG  \n",
            "  inflating: taco_trash_dataset/data/batch_3/IMG_4917.JPG  \n",
            "  inflating: taco_trash_dataset/data/batch_3/IMG_4919.JPG  \n",
            "  inflating: taco_trash_dataset/data/batch_3/IMG_4921.JPG  \n",
            "  inflating: taco_trash_dataset/data/batch_3/IMG_4922.JPG  \n",
            "  inflating: taco_trash_dataset/data/batch_3/IMG_4924.JPG  \n",
            "  inflating: taco_trash_dataset/data/batch_3/IMG_4926.JPG  \n",
            "  inflating: taco_trash_dataset/data/batch_3/IMG_4928.JPG  \n",
            "  inflating: taco_trash_dataset/data/batch_3/IMG_4929.JPG  \n",
            "  inflating: taco_trash_dataset/data/batch_3/IMG_4932.JPG  \n",
            "  inflating: taco_trash_dataset/data/batch_3/IMG_4934.JPG  \n",
            "  inflating: taco_trash_dataset/data/batch_3/IMG_4936.JPG  \n",
            "  inflating: taco_trash_dataset/data/batch_3/IMG_4939.JPG  \n",
            "  inflating: taco_trash_dataset/data/batch_3/IMG_4941.JPG  \n",
            "  inflating: taco_trash_dataset/data/batch_3/IMG_4948.JPG  \n",
            "  inflating: taco_trash_dataset/data/batch_3/IMG_4950.JPG  \n",
            "  inflating: taco_trash_dataset/data/batch_3/IMG_4961.JPG  \n",
            "  inflating: taco_trash_dataset/data/batch_3/IMG_4963.JPG  \n",
            "  inflating: taco_trash_dataset/data/batch_3/IMG_4964.JPG  \n",
            "  inflating: taco_trash_dataset/data/batch_3/IMG_4965.JPG  \n",
            "  inflating: taco_trash_dataset/data/batch_3/IMG_4966.JPG  \n",
            "  inflating: taco_trash_dataset/data/batch_3/IMG_4967.JPG  \n",
            "  inflating: taco_trash_dataset/data/batch_3/IMG_4969.JPG  \n",
            "  inflating: taco_trash_dataset/data/batch_3/IMG_4971.JPG  \n",
            "  inflating: taco_trash_dataset/data/batch_3/IMG_4972.JPG  \n",
            "  inflating: taco_trash_dataset/data/batch_3/IMG_4977.JPG  \n",
            "  inflating: taco_trash_dataset/data/batch_3/IMG_4978.JPG  \n",
            "  inflating: taco_trash_dataset/data/batch_3/IMG_4980.JPG  \n",
            "  inflating: taco_trash_dataset/data/batch_3/IMG_4992.JPG  \n",
            "  inflating: taco_trash_dataset/data/batch_3/IMG_4994.JPG  \n",
            "  inflating: taco_trash_dataset/data/batch_3/IMG_4996.JPG  \n",
            "  inflating: taco_trash_dataset/data/batch_3/IMG_4997.JPG  \n",
            "  inflating: taco_trash_dataset/data/batch_3/IMG_4998.JPG  \n",
            "  inflating: taco_trash_dataset/data/batch_3/IMG_5002.JPG  \n",
            "  inflating: taco_trash_dataset/data/batch_3/IMG_5003.JPG  \n",
            "  inflating: taco_trash_dataset/data/batch_3/IMG_5036.JPG  \n",
            "  inflating: taco_trash_dataset/data/batch_3/IMG_5037.JPG  \n",
            "  inflating: taco_trash_dataset/data/batch_3/IMG_5039.JPG  \n",
            "  inflating: taco_trash_dataset/data/batch_3/IMG_5040.JPG  \n",
            "  inflating: taco_trash_dataset/data/batch_3/IMG_5041.JPG  \n",
            "  inflating: taco_trash_dataset/data/batch_3/IMG_5042.JPG  \n",
            "  inflating: taco_trash_dataset/data/batch_3/IMG_5043.JPG  \n",
            "  inflating: taco_trash_dataset/data/batch_3/IMG_5044.JPG  \n",
            "  inflating: taco_trash_dataset/data/batch_3/IMG_5045.JPG  \n",
            "  inflating: taco_trash_dataset/data/batch_3/IMG_5046.JPG  \n",
            "  inflating: taco_trash_dataset/data/batch_3/IMG_5048.JPG  \n",
            "  inflating: taco_trash_dataset/data/batch_3/IMG_5049.JPG  \n",
            "  inflating: taco_trash_dataset/data/batch_3/IMG_5050.JPG  \n",
            "  inflating: taco_trash_dataset/data/batch_3/IMG_5051.JPG  \n",
            "  inflating: taco_trash_dataset/data/batch_3/IMG_5052.JPG  \n",
            "  inflating: taco_trash_dataset/data/batch_3/IMG_5053.JPG  \n",
            "  inflating: taco_trash_dataset/data/batch_3/IMG_5054.JPG  \n",
            "  inflating: taco_trash_dataset/data/batch_3/IMG_5055.JPG  \n",
            "  inflating: taco_trash_dataset/data/batch_3/IMG_5056.JPG  \n",
            "  inflating: taco_trash_dataset/data/batch_3/IMG_5057.JPG  \n",
            "  inflating: taco_trash_dataset/data/batch_3/IMG_5058.JPG  \n",
            "  inflating: taco_trash_dataset/data/batch_3/IMG_5060.JPG  \n",
            "  inflating: taco_trash_dataset/data/batch_3/IMG_5061.JPG  \n",
            "  inflating: taco_trash_dataset/data/batch_3/IMG_5063.JPG  \n",
            "  inflating: taco_trash_dataset/data/batch_3/IMG_5064.JPG  \n",
            "  inflating: taco_trash_dataset/data/batch_3/IMG_5065.JPG  \n",
            "  inflating: taco_trash_dataset/data/batch_3/IMG_5066.JPG  \n",
            "  inflating: taco_trash_dataset/data/batch_3/IMG_5067.JPG  \n",
            "  inflating: taco_trash_dataset/data/batch_3/IMG_5068.JPG  \n",
            "  inflating: taco_trash_dataset/data/batch_4/000000.JPG  \n",
            "  inflating: taco_trash_dataset/data/batch_4/000002.JPG  \n",
            "  inflating: taco_trash_dataset/data/batch_4/000003.JPG  \n",
            "  inflating: taco_trash_dataset/data/batch_4/000004.JPG  \n",
            "  inflating: taco_trash_dataset/data/batch_4/000005.JPG  \n",
            "  inflating: taco_trash_dataset/data/batch_4/000006.JPG  \n",
            "  inflating: taco_trash_dataset/data/batch_4/000007.JPG  \n",
            "  inflating: taco_trash_dataset/data/batch_4/000008.JPG  \n",
            "  inflating: taco_trash_dataset/data/batch_4/000009.JPG  \n",
            "  inflating: taco_trash_dataset/data/batch_4/000010.JPG  \n",
            "  inflating: taco_trash_dataset/data/batch_4/000011.JPG  \n",
            "  inflating: taco_trash_dataset/data/batch_4/000012.JPG  \n",
            "  inflating: taco_trash_dataset/data/batch_4/000013.JPG  \n",
            "  inflating: taco_trash_dataset/data/batch_4/000014.JPG  \n",
            "  inflating: taco_trash_dataset/data/batch_4/000015.JPG  \n",
            "  inflating: taco_trash_dataset/data/batch_4/000016.JPG  \n",
            "  inflating: taco_trash_dataset/data/batch_4/000018.JPG  \n",
            "  inflating: taco_trash_dataset/data/batch_4/000019.JPG  \n",
            "  inflating: taco_trash_dataset/data/batch_4/000020.JPG  \n",
            "  inflating: taco_trash_dataset/data/batch_4/000021.JPG  \n",
            "  inflating: taco_trash_dataset/data/batch_4/000022.JPG  \n",
            "  inflating: taco_trash_dataset/data/batch_4/000023.JPG  \n",
            "  inflating: taco_trash_dataset/data/batch_4/000025.JPG  \n",
            "  inflating: taco_trash_dataset/data/batch_4/000026.JPG  \n",
            "  inflating: taco_trash_dataset/data/batch_4/000027.JPG  \n",
            "  inflating: taco_trash_dataset/data/batch_4/000028.JPG  \n",
            "  inflating: taco_trash_dataset/data/batch_4/000029.JPG  \n",
            "  inflating: taco_trash_dataset/data/batch_4/000031.JPG  \n",
            "  inflating: taco_trash_dataset/data/batch_4/000032.JPG  \n",
            "  inflating: taco_trash_dataset/data/batch_4/000034.JPG  \n",
            "  inflating: taco_trash_dataset/data/batch_4/000035.JPG  \n",
            "  inflating: taco_trash_dataset/data/batch_4/000036.JPG  \n",
            "  inflating: taco_trash_dataset/data/batch_4/000037.JPG  \n",
            "  inflating: taco_trash_dataset/data/batch_4/000039.JPG  \n",
            "  inflating: taco_trash_dataset/data/batch_4/000040.JPG  \n",
            "  inflating: taco_trash_dataset/data/batch_4/000041.JPG  \n",
            "  inflating: taco_trash_dataset/data/batch_4/000042.JPG  \n",
            "  inflating: taco_trash_dataset/data/batch_4/000043.JPG  \n",
            "  inflating: taco_trash_dataset/data/batch_4/000045.JPG  \n",
            "  inflating: taco_trash_dataset/data/batch_4/000046.JPG  \n",
            "  inflating: taco_trash_dataset/data/batch_4/000047.JPG  \n",
            "  inflating: taco_trash_dataset/data/batch_4/000048.JPG  \n",
            "  inflating: taco_trash_dataset/data/batch_4/000049.JPG  \n",
            "  inflating: taco_trash_dataset/data/batch_4/000050.JPG  \n",
            "  inflating: taco_trash_dataset/data/batch_4/000051.JPG  \n",
            "  inflating: taco_trash_dataset/data/batch_4/000052.JPG  \n",
            "  inflating: taco_trash_dataset/data/batch_4/000053.JPG  \n",
            "  inflating: taco_trash_dataset/data/batch_4/000054.JPG  \n",
            "  inflating: taco_trash_dataset/data/batch_4/000055.JPG  \n",
            "  inflating: taco_trash_dataset/data/batch_4/000056.JPG  \n",
            "  inflating: taco_trash_dataset/data/batch_4/000057.JPG  \n",
            "  inflating: taco_trash_dataset/data/batch_4/000058.JPG  \n",
            "  inflating: taco_trash_dataset/data/batch_4/000059.JPG  \n",
            "  inflating: taco_trash_dataset/data/batch_4/000060.JPG  \n",
            "  inflating: taco_trash_dataset/data/batch_4/000061.JPG  \n",
            "  inflating: taco_trash_dataset/data/batch_4/000062.JPG  \n",
            "  inflating: taco_trash_dataset/data/batch_4/000063.JPG  \n",
            "  inflating: taco_trash_dataset/data/batch_4/000064.JPG  \n",
            "  inflating: taco_trash_dataset/data/batch_4/000065.JPG  \n",
            "  inflating: taco_trash_dataset/data/batch_4/000066.JPG  \n",
            "  inflating: taco_trash_dataset/data/batch_4/000067.JPG  \n",
            "  inflating: taco_trash_dataset/data/batch_4/000068.JPG  \n",
            "  inflating: taco_trash_dataset/data/batch_4/000069.JPG  \n",
            "  inflating: taco_trash_dataset/data/batch_4/000070.JPG  \n",
            "  inflating: taco_trash_dataset/data/batch_4/000071.JPG  \n",
            "  inflating: taco_trash_dataset/data/batch_4/000072.JPG  \n",
            "  inflating: taco_trash_dataset/data/batch_4/000073.JPG  \n",
            "  inflating: taco_trash_dataset/data/batch_4/000074.JPG  \n",
            "  inflating: taco_trash_dataset/data/batch_4/000076.JPG  \n",
            "  inflating: taco_trash_dataset/data/batch_4/000077.JPG  \n",
            "  inflating: taco_trash_dataset/data/batch_4/000079.JPG  \n",
            "  inflating: taco_trash_dataset/data/batch_4/000080.JPG  \n",
            "  inflating: taco_trash_dataset/data/batch_4/000081.JPG  \n",
            "  inflating: taco_trash_dataset/data/batch_4/000082.JPG  \n",
            "  inflating: taco_trash_dataset/data/batch_4/000083.JPG  \n",
            "  inflating: taco_trash_dataset/data/batch_4/000084.JPG  \n",
            "  inflating: taco_trash_dataset/data/batch_4/000085.JPG  \n",
            "  inflating: taco_trash_dataset/data/batch_4/000086.JPG  \n",
            "  inflating: taco_trash_dataset/data/batch_4/000087.JPG  \n",
            "  inflating: taco_trash_dataset/data/batch_4/000088.JPG  \n",
            "  inflating: taco_trash_dataset/data/batch_4/000089.JPG  \n",
            "  inflating: taco_trash_dataset/data/batch_4/000090.JPG  \n",
            "  inflating: taco_trash_dataset/data/batch_4/000092.JPG  \n",
            "  inflating: taco_trash_dataset/data/batch_4/000093.JPG  \n",
            "  inflating: taco_trash_dataset/data/batch_4/000094.JPG  \n",
            "  inflating: taco_trash_dataset/data/batch_4/000095.JPG  \n",
            "  inflating: taco_trash_dataset/data/batch_4/000096.JPG  \n",
            "  inflating: taco_trash_dataset/data/batch_4/000097.JPG  \n",
            "  inflating: taco_trash_dataset/data/batch_4/000098.JPG  \n",
            "  inflating: taco_trash_dataset/data/batch_5/000000.JPG  \n",
            "  inflating: taco_trash_dataset/data/batch_5/000001.JPG  \n",
            "  inflating: taco_trash_dataset/data/batch_5/000002.JPG  \n",
            "  inflating: taco_trash_dataset/data/batch_5/000004.JPG  \n",
            "  inflating: taco_trash_dataset/data/batch_5/000005.JPG  \n",
            "  inflating: taco_trash_dataset/data/batch_5/000006.JPG  \n",
            "  inflating: taco_trash_dataset/data/batch_5/000007.JPG  \n",
            "  inflating: taco_trash_dataset/data/batch_5/000008.JPG  \n",
            "  inflating: taco_trash_dataset/data/batch_5/000009.JPG  \n",
            "  inflating: taco_trash_dataset/data/batch_5/000010.JPG  \n",
            "  inflating: taco_trash_dataset/data/batch_5/000011.JPG  \n",
            "  inflating: taco_trash_dataset/data/batch_5/000012.JPG  \n",
            "  inflating: taco_trash_dataset/data/batch_5/000013.JPG  \n",
            "  inflating: taco_trash_dataset/data/batch_5/000014.JPG  \n",
            "  inflating: taco_trash_dataset/data/batch_5/000015.JPG  \n",
            "  inflating: taco_trash_dataset/data/batch_5/000016.JPG  \n",
            "  inflating: taco_trash_dataset/data/batch_5/000017.JPG  \n",
            "  inflating: taco_trash_dataset/data/batch_5/000018.JPG  \n",
            "  inflating: taco_trash_dataset/data/batch_5/000019.JPG  \n",
            "  inflating: taco_trash_dataset/data/batch_5/000020.JPG  \n",
            "  inflating: taco_trash_dataset/data/batch_5/000021.JPG  \n",
            "  inflating: taco_trash_dataset/data/batch_5/000022.JPG  \n",
            "  inflating: taco_trash_dataset/data/batch_5/000023.JPG  \n",
            "  inflating: taco_trash_dataset/data/batch_5/000024.JPG  \n",
            "  inflating: taco_trash_dataset/data/batch_5/000025.JPG  \n",
            "  inflating: taco_trash_dataset/data/batch_5/000026.JPG  \n",
            "  inflating: taco_trash_dataset/data/batch_5/000027.JPG  \n",
            "  inflating: taco_trash_dataset/data/batch_5/000028.JPG  \n",
            "  inflating: taco_trash_dataset/data/batch_5/000029.JPG  \n",
            "  inflating: taco_trash_dataset/data/batch_5/000030.JPG  \n",
            "  inflating: taco_trash_dataset/data/batch_5/000031.JPG  \n",
            "  inflating: taco_trash_dataset/data/batch_5/000033.JPG  \n",
            "  inflating: taco_trash_dataset/data/batch_5/000034.JPG  \n",
            "  inflating: taco_trash_dataset/data/batch_5/000035.JPG  \n",
            "  inflating: taco_trash_dataset/data/batch_5/000036.JPG  \n",
            "  inflating: taco_trash_dataset/data/batch_5/000037.JPG  \n",
            "  inflating: taco_trash_dataset/data/batch_5/000038.JPG  \n",
            "  inflating: taco_trash_dataset/data/batch_5/000039.JPG  \n",
            "  inflating: taco_trash_dataset/data/batch_5/000040.JPG  \n",
            "  inflating: taco_trash_dataset/data/batch_5/000041.JPG  \n",
            "  inflating: taco_trash_dataset/data/batch_5/000042.JPG  \n",
            "  inflating: taco_trash_dataset/data/batch_5/000043.JPG  \n",
            "  inflating: taco_trash_dataset/data/batch_5/000045.JPG  \n",
            "  inflating: taco_trash_dataset/data/batch_5/000046.JPG  \n",
            "  inflating: taco_trash_dataset/data/batch_5/000047.JPG  \n",
            "  inflating: taco_trash_dataset/data/batch_5/000048.JPG  \n",
            "  inflating: taco_trash_dataset/data/batch_5/000049.JPG  \n",
            "  inflating: taco_trash_dataset/data/batch_5/000050.JPG  \n",
            "  inflating: taco_trash_dataset/data/batch_5/000051.JPG  \n",
            "  inflating: taco_trash_dataset/data/batch_5/000052.JPG  \n",
            "  inflating: taco_trash_dataset/data/batch_5/000054.JPG  \n",
            "  inflating: taco_trash_dataset/data/batch_5/000055.JPG  \n",
            "  inflating: taco_trash_dataset/data/batch_5/000056.JPG  \n",
            "  inflating: taco_trash_dataset/data/batch_5/000057.JPG  \n",
            "  inflating: taco_trash_dataset/data/batch_5/000058.JPG  \n",
            "  inflating: taco_trash_dataset/data/batch_5/000059.JPG  \n",
            "  inflating: taco_trash_dataset/data/batch_5/000060.JPG  \n",
            "  inflating: taco_trash_dataset/data/batch_5/000061.JPG  \n",
            "  inflating: taco_trash_dataset/data/batch_5/000062.JPG  \n",
            "  inflating: taco_trash_dataset/data/batch_5/000063.JPG  \n",
            "  inflating: taco_trash_dataset/data/batch_5/000064.JPG  \n",
            "  inflating: taco_trash_dataset/data/batch_5/000066.JPG  \n",
            "  inflating: taco_trash_dataset/data/batch_5/000067.JPG  \n",
            "  inflating: taco_trash_dataset/data/batch_5/000068.JPG  \n",
            "  inflating: taco_trash_dataset/data/batch_5/000069.JPG  \n",
            "  inflating: taco_trash_dataset/data/batch_5/000070.JPG  \n",
            "  inflating: taco_trash_dataset/data/batch_5/000071.JPG  \n",
            "  inflating: taco_trash_dataset/data/batch_5/000072.JPG  \n",
            "  inflating: taco_trash_dataset/data/batch_5/000073.JPG  \n",
            "  inflating: taco_trash_dataset/data/batch_5/000074.JPG  \n",
            "  inflating: taco_trash_dataset/data/batch_5/000075.JPG  \n",
            "  inflating: taco_trash_dataset/data/batch_5/000076.JPG  \n",
            "  inflating: taco_trash_dataset/data/batch_5/000079.JPG  \n",
            "  inflating: taco_trash_dataset/data/batch_5/000081.JPG  \n",
            "  inflating: taco_trash_dataset/data/batch_5/000082.JPG  \n",
            "  inflating: taco_trash_dataset/data/batch_5/000083.JPG  \n",
            "  inflating: taco_trash_dataset/data/batch_5/000084.JPG  \n",
            "  inflating: taco_trash_dataset/data/batch_5/000085.JPG  \n",
            "  inflating: taco_trash_dataset/data/batch_5/000086.JPG  \n",
            "  inflating: taco_trash_dataset/data/batch_5/000087.JPG  \n",
            "  inflating: taco_trash_dataset/data/batch_5/000088.JPG  \n",
            "  inflating: taco_trash_dataset/data/batch_5/000089.JPG  \n",
            "  inflating: taco_trash_dataset/data/batch_5/000090.JPG  \n",
            "  inflating: taco_trash_dataset/data/batch_5/000091.JPG  \n",
            "  inflating: taco_trash_dataset/data/batch_5/000092.JPG  \n",
            "  inflating: taco_trash_dataset/data/batch_5/000093.JPG  \n",
            "  inflating: taco_trash_dataset/data/batch_5/000094.JPG  \n",
            "  inflating: taco_trash_dataset/data/batch_5/000095.JPG  \n",
            "  inflating: taco_trash_dataset/data/batch_5/000096.JPG  \n",
            "  inflating: taco_trash_dataset/data/batch_5/000097.JPG  \n",
            "  inflating: taco_trash_dataset/data/batch_5/000098.JPG  \n",
            "  inflating: taco_trash_dataset/data/batch_5/000099.JPG  \n",
            "  inflating: taco_trash_dataset/data/batch_5/000100.JPG  \n",
            "  inflating: taco_trash_dataset/data/batch_5/000101.JPG  \n",
            "  inflating: taco_trash_dataset/data/batch_5/000102.JPG  \n",
            "  inflating: taco_trash_dataset/data/batch_5/000103.JPG  \n",
            "  inflating: taco_trash_dataset/data/batch_5/000104.JPG  \n",
            "  inflating: taco_trash_dataset/data/batch_5/000105.JPG  \n",
            "  inflating: taco_trash_dataset/data/batch_5/000106.JPG  \n",
            "  inflating: taco_trash_dataset/data/batch_5/000107.JPG  \n",
            "  inflating: taco_trash_dataset/data/batch_5/000108.JPG  \n",
            "  inflating: taco_trash_dataset/data/batch_5/000110.JPG  \n",
            "  inflating: taco_trash_dataset/data/batch_5/000111.JPG  \n",
            "  inflating: taco_trash_dataset/data/batch_5/000112.JPG  \n",
            "  inflating: taco_trash_dataset/data/batch_5/000113.JPG  \n",
            "  inflating: taco_trash_dataset/data/batch_5/000114.JPG  \n",
            "  inflating: taco_trash_dataset/data/batch_5/000115.JPG  \n",
            "  inflating: taco_trash_dataset/data/batch_5/000116.JPG  \n",
            "  inflating: taco_trash_dataset/data/batch_5/000117.JPG  \n",
            "  inflating: taco_trash_dataset/data/batch_5/000118.JPG  \n",
            "  inflating: taco_trash_dataset/data/batch_5/000119.JPG  \n",
            "  inflating: taco_trash_dataset/data/batch_5/000120.JPG  \n",
            "  inflating: taco_trash_dataset/data/batch_6/000000.JPG  \n",
            "  inflating: taco_trash_dataset/data/batch_6/000001.JPG  \n",
            "  inflating: taco_trash_dataset/data/batch_6/000002.JPG  \n",
            "  inflating: taco_trash_dataset/data/batch_6/000003.JPG  \n",
            "  inflating: taco_trash_dataset/data/batch_6/000005.JPG  \n",
            "  inflating: taco_trash_dataset/data/batch_6/000006.JPG  \n",
            "  inflating: taco_trash_dataset/data/batch_6/000007.JPG  \n",
            "  inflating: taco_trash_dataset/data/batch_6/000008.JPG  \n",
            "  inflating: taco_trash_dataset/data/batch_6/000009.JPG  \n",
            "  inflating: taco_trash_dataset/data/batch_6/000010.JPG  \n",
            "  inflating: taco_trash_dataset/data/batch_6/000011.JPG  \n",
            "  inflating: taco_trash_dataset/data/batch_6/000013.JPG  \n",
            "  inflating: taco_trash_dataset/data/batch_6/000014.JPG  \n",
            "  inflating: taco_trash_dataset/data/batch_6/000015.JPG  \n",
            "  inflating: taco_trash_dataset/data/batch_6/000017.JPG  \n",
            "  inflating: taco_trash_dataset/data/batch_6/000018.JPG  \n",
            "  inflating: taco_trash_dataset/data/batch_6/000019.JPG  \n",
            "  inflating: taco_trash_dataset/data/batch_6/000020.JPG  \n",
            "  inflating: taco_trash_dataset/data/batch_6/000021.JPG  \n",
            "  inflating: taco_trash_dataset/data/batch_6/000022.JPG  \n",
            "  inflating: taco_trash_dataset/data/batch_6/000023.JPG  \n",
            "  inflating: taco_trash_dataset/data/batch_6/000024.JPG  \n",
            "  inflating: taco_trash_dataset/data/batch_6/000025.JPG  \n",
            "  inflating: taco_trash_dataset/data/batch_6/000026.JPG  \n",
            "  inflating: taco_trash_dataset/data/batch_6/000027.JPG  \n",
            "  inflating: taco_trash_dataset/data/batch_6/000028.JPG  \n",
            "  inflating: taco_trash_dataset/data/batch_6/000029.JPG  \n",
            "  inflating: taco_trash_dataset/data/batch_6/000031.JPG  \n",
            "  inflating: taco_trash_dataset/data/batch_6/000032.JPG  \n",
            "  inflating: taco_trash_dataset/data/batch_6/000033.JPG  \n",
            "  inflating: taco_trash_dataset/data/batch_6/000034.JPG  \n",
            "  inflating: taco_trash_dataset/data/batch_6/000035.JPG  \n",
            "  inflating: taco_trash_dataset/data/batch_6/000036.JPG  \n",
            "  inflating: taco_trash_dataset/data/batch_6/000037.JPG  \n",
            "  inflating: taco_trash_dataset/data/batch_6/000038.JPG  \n",
            "  inflating: taco_trash_dataset/data/batch_6/000039.JPG  \n",
            "  inflating: taco_trash_dataset/data/batch_6/000040.JPG  \n",
            "  inflating: taco_trash_dataset/data/batch_6/000041.JPG  \n",
            "  inflating: taco_trash_dataset/data/batch_6/000042.JPG  \n",
            "  inflating: taco_trash_dataset/data/batch_6/000043.JPG  \n",
            "  inflating: taco_trash_dataset/data/batch_6/000045.JPG  \n",
            "  inflating: taco_trash_dataset/data/batch_6/000046.JPG  \n",
            "  inflating: taco_trash_dataset/data/batch_6/000047.JPG  \n",
            "  inflating: taco_trash_dataset/data/batch_6/000048.JPG  \n",
            "  inflating: taco_trash_dataset/data/batch_6/000049.JPG  \n",
            "  inflating: taco_trash_dataset/data/batch_6/000050.JPG  \n",
            "  inflating: taco_trash_dataset/data/batch_6/000051.JPG  \n",
            "  inflating: taco_trash_dataset/data/batch_6/000052.JPG  \n",
            "  inflating: taco_trash_dataset/data/batch_6/000053.JPG  \n",
            "  inflating: taco_trash_dataset/data/batch_6/000054.JPG  \n",
            "  inflating: taco_trash_dataset/data/batch_6/000055.JPG  \n",
            "  inflating: taco_trash_dataset/data/batch_6/000056.JPG  \n",
            "  inflating: taco_trash_dataset/data/batch_6/000057.JPG  \n",
            "  inflating: taco_trash_dataset/data/batch_6/000058.JPG  \n",
            "  inflating: taco_trash_dataset/data/batch_6/000059.JPG  \n",
            "  inflating: taco_trash_dataset/data/batch_6/000060.JPG  \n",
            "  inflating: taco_trash_dataset/data/batch_6/000061.JPG  \n",
            "  inflating: taco_trash_dataset/data/batch_6/000062.JPG  \n",
            "  inflating: taco_trash_dataset/data/batch_6/000063.JPG  \n",
            "  inflating: taco_trash_dataset/data/batch_6/000064.JPG  \n",
            "  inflating: taco_trash_dataset/data/batch_6/000065.JPG  \n",
            "  inflating: taco_trash_dataset/data/batch_6/000066.JPG  \n",
            "  inflating: taco_trash_dataset/data/batch_6/000068.JPG  \n",
            "  inflating: taco_trash_dataset/data/batch_6/000069.JPG  \n",
            "  inflating: taco_trash_dataset/data/batch_6/000070.JPG  \n",
            "  inflating: taco_trash_dataset/data/batch_6/000071.JPG  \n",
            "  inflating: taco_trash_dataset/data/batch_6/000072.JPG  \n",
            "  inflating: taco_trash_dataset/data/batch_6/000073.JPG  \n",
            "  inflating: taco_trash_dataset/data/batch_6/000074.JPG  \n",
            "  inflating: taco_trash_dataset/data/batch_6/000075.JPG  \n",
            "  inflating: taco_trash_dataset/data/batch_6/000076.JPG  \n",
            "  inflating: taco_trash_dataset/data/batch_6/000077.JPG  \n",
            "  inflating: taco_trash_dataset/data/batch_6/000078.JPG  \n",
            "  inflating: taco_trash_dataset/data/batch_6/000079.JPG  \n",
            "  inflating: taco_trash_dataset/data/batch_6/000080.JPG  \n",
            "  inflating: taco_trash_dataset/data/batch_6/000082.JPG  \n",
            "  inflating: taco_trash_dataset/data/batch_6/000083.JPG  \n",
            "  inflating: taco_trash_dataset/data/batch_6/000085.JPG  \n",
            "  inflating: taco_trash_dataset/data/batch_6/000086.JPG  \n",
            "  inflating: taco_trash_dataset/data/batch_6/000087.JPG  \n",
            "  inflating: taco_trash_dataset/data/batch_6/000088.JPG  \n",
            "  inflating: taco_trash_dataset/data/batch_6/000089.JPG  \n",
            "  inflating: taco_trash_dataset/data/batch_6/000090.JPG  \n",
            "  inflating: taco_trash_dataset/data/batch_6/000091.JPG  \n",
            "  inflating: taco_trash_dataset/data/batch_6/000092.JPG  \n",
            "  inflating: taco_trash_dataset/data/batch_6/000093.JPG  \n",
            "  inflating: taco_trash_dataset/data/batch_6/000094.JPG  \n",
            "  inflating: taco_trash_dataset/data/batch_6/000095.JPG  \n",
            "  inflating: taco_trash_dataset/data/batch_6/000096.JPG  \n",
            "  inflating: taco_trash_dataset/data/batch_6/000097.JPG  \n",
            "  inflating: taco_trash_dataset/data/batch_6/000098.JPG  \n",
            "  inflating: taco_trash_dataset/data/batch_6/000099.JPG  \n",
            "  inflating: taco_trash_dataset/data/batch_6/000100.JPG  \n",
            "  inflating: taco_trash_dataset/data/batch_6/000101.JPG  \n",
            "  inflating: taco_trash_dataset/data/batch_6/000102.JPG  \n",
            "  inflating: taco_trash_dataset/data/batch_6/000103.JPG  \n",
            "  inflating: taco_trash_dataset/data/batch_6/000104.JPG  \n",
            "  inflating: taco_trash_dataset/data/batch_7/000000.JPG  \n",
            "  inflating: taco_trash_dataset/data/batch_7/000001.JPG  \n",
            "  inflating: taco_trash_dataset/data/batch_7/000002.JPG  \n",
            "  inflating: taco_trash_dataset/data/batch_7/000003.JPG  \n",
            "  inflating: taco_trash_dataset/data/batch_7/000004.JPG  \n",
            "  inflating: taco_trash_dataset/data/batch_7/000005.JPG  \n",
            "  inflating: taco_trash_dataset/data/batch_7/000006.JPG  \n",
            "  inflating: taco_trash_dataset/data/batch_7/000008.JPG  \n",
            "  inflating: taco_trash_dataset/data/batch_7/000010.JPG  \n",
            "  inflating: taco_trash_dataset/data/batch_7/000011.JPG  \n",
            "  inflating: taco_trash_dataset/data/batch_7/000012.JPG  \n",
            "  inflating: taco_trash_dataset/data/batch_7/000013.JPG  \n",
            "  inflating: taco_trash_dataset/data/batch_7/000014.JPG  \n",
            "  inflating: taco_trash_dataset/data/batch_7/000015.JPG  \n",
            "  inflating: taco_trash_dataset/data/batch_7/000016.JPG  \n",
            "  inflating: taco_trash_dataset/data/batch_7/000017.JPG  \n",
            "  inflating: taco_trash_dataset/data/batch_7/000018.JPG  \n",
            "  inflating: taco_trash_dataset/data/batch_7/000019.JPG  \n",
            "  inflating: taco_trash_dataset/data/batch_7/000020.JPG  \n",
            "  inflating: taco_trash_dataset/data/batch_7/000021.JPG  \n",
            "  inflating: taco_trash_dataset/data/batch_7/000022.JPG  \n",
            "  inflating: taco_trash_dataset/data/batch_7/000023.JPG  \n",
            "  inflating: taco_trash_dataset/data/batch_7/000024.JPG  \n",
            "  inflating: taco_trash_dataset/data/batch_7/000025.JPG  \n",
            "  inflating: taco_trash_dataset/data/batch_7/000029.JPG  \n",
            "  inflating: taco_trash_dataset/data/batch_7/000030.JPG  \n",
            "  inflating: taco_trash_dataset/data/batch_7/000031.JPG  \n",
            "  inflating: taco_trash_dataset/data/batch_7/000033.JPG  \n",
            "  inflating: taco_trash_dataset/data/batch_7/000034.JPG  \n",
            "  inflating: taco_trash_dataset/data/batch_7/000035.JPG  \n",
            "  inflating: taco_trash_dataset/data/batch_7/000036.JPG  \n",
            "  inflating: taco_trash_dataset/data/batch_7/000037.JPG  \n",
            "  inflating: taco_trash_dataset/data/batch_7/000038.JPG  \n",
            "  inflating: taco_trash_dataset/data/batch_7/000039.JPG  \n",
            "  inflating: taco_trash_dataset/data/batch_7/000042.JPG  \n",
            "  inflating: taco_trash_dataset/data/batch_7/000043.JPG  \n",
            "  inflating: taco_trash_dataset/data/batch_7/000044.JPG  \n",
            "  inflating: taco_trash_dataset/data/batch_7/000045.JPG  \n",
            "  inflating: taco_trash_dataset/data/batch_7/000047.JPG  \n",
            "  inflating: taco_trash_dataset/data/batch_7/000048.JPG  \n",
            "  inflating: taco_trash_dataset/data/batch_7/000049.JPG  \n",
            "  inflating: taco_trash_dataset/data/batch_7/000050.JPG  \n",
            "  inflating: taco_trash_dataset/data/batch_7/000051.JPG  \n",
            "  inflating: taco_trash_dataset/data/batch_7/000052.JPG  \n",
            "  inflating: taco_trash_dataset/data/batch_7/000053.JPG  \n",
            "  inflating: taco_trash_dataset/data/batch_7/000054.JPG  \n",
            "  inflating: taco_trash_dataset/data/batch_7/000055.JPG  \n",
            "  inflating: taco_trash_dataset/data/batch_7/000056.JPG  \n",
            "  inflating: taco_trash_dataset/data/batch_7/000057.JPG  \n",
            "  inflating: taco_trash_dataset/data/batch_7/000058.JPG  \n",
            "  inflating: taco_trash_dataset/data/batch_7/000060.JPG  \n",
            "  inflating: taco_trash_dataset/data/batch_7/000062.JPG  \n",
            "  inflating: taco_trash_dataset/data/batch_7/000063.JPG  \n",
            "  inflating: taco_trash_dataset/data/batch_7/000064.JPG  \n",
            "  inflating: taco_trash_dataset/data/batch_7/000065.JPG  \n",
            "  inflating: taco_trash_dataset/data/batch_7/000066.JPG  \n",
            "  inflating: taco_trash_dataset/data/batch_7/000067.JPG  \n",
            "  inflating: taco_trash_dataset/data/batch_7/000068.JPG  \n",
            "  inflating: taco_trash_dataset/data/batch_7/000069.JPG  \n",
            "  inflating: taco_trash_dataset/data/batch_7/000070.JPG  \n",
            "  inflating: taco_trash_dataset/data/batch_7/000071.JPG  \n",
            "  inflating: taco_trash_dataset/data/batch_7/000072.JPG  \n",
            "  inflating: taco_trash_dataset/data/batch_7/000073.JPG  \n",
            "  inflating: taco_trash_dataset/data/batch_7/000075.JPG  \n",
            "  inflating: taco_trash_dataset/data/batch_7/000076.JPG  \n",
            "  inflating: taco_trash_dataset/data/batch_7/000077.JPG  \n",
            "  inflating: taco_trash_dataset/data/batch_7/000078.JPG  \n",
            "  inflating: taco_trash_dataset/data/batch_7/000079.JPG  \n",
            "  inflating: taco_trash_dataset/data/batch_7/000080.JPG  \n",
            "  inflating: taco_trash_dataset/data/batch_7/000081.JPG  \n",
            "  inflating: taco_trash_dataset/data/batch_7/000082.JPG  \n",
            "  inflating: taco_trash_dataset/data/batch_7/000083.JPG  \n",
            "  inflating: taco_trash_dataset/data/batch_7/000084.JPG  \n",
            "  inflating: taco_trash_dataset/data/batch_7/000085.JPG  \n",
            "  inflating: taco_trash_dataset/data/batch_7/000086.JPG  \n",
            "  inflating: taco_trash_dataset/data/batch_7/000087.JPG  \n",
            "  inflating: taco_trash_dataset/data/batch_7/000088.JPG  \n",
            "  inflating: taco_trash_dataset/data/batch_7/000089.JPG  \n",
            "  inflating: taco_trash_dataset/data/batch_7/000090.JPG  \n",
            "  inflating: taco_trash_dataset/data/batch_7/000091.JPG  \n",
            "  inflating: taco_trash_dataset/data/batch_7/000092.JPG  \n",
            "  inflating: taco_trash_dataset/data/batch_7/000093.JPG  \n",
            "  inflating: taco_trash_dataset/data/batch_7/000094.JPG  \n",
            "  inflating: taco_trash_dataset/data/batch_7/000095.JPG  \n",
            "  inflating: taco_trash_dataset/data/batch_7/000096.JPG  \n",
            "  inflating: taco_trash_dataset/data/batch_7/000097.JPG  \n",
            "  inflating: taco_trash_dataset/data/batch_7/000098.JPG  \n",
            "  inflating: taco_trash_dataset/data/batch_7/000100.JPG  \n",
            "  inflating: taco_trash_dataset/data/batch_7/000101.JPG  \n",
            "  inflating: taco_trash_dataset/data/batch_7/000102.JPG  \n",
            "  inflating: taco_trash_dataset/data/batch_7/000103.JPG  \n",
            "  inflating: taco_trash_dataset/data/batch_7/000104.JPG  \n",
            "  inflating: taco_trash_dataset/data/batch_7/000106.JPG  \n",
            "  inflating: taco_trash_dataset/data/batch_7/000107.JPG  \n",
            "  inflating: taco_trash_dataset/data/batch_7/000108.JPG  \n",
            "  inflating: taco_trash_dataset/data/batch_7/000109.JPG  \n",
            "  inflating: taco_trash_dataset/data/batch_7/000110.JPG  \n",
            "  inflating: taco_trash_dataset/data/batch_7/000111.JPG  \n",
            "  inflating: taco_trash_dataset/data/batch_7/000112.JPG  \n",
            "  inflating: taco_trash_dataset/data/batch_7/000113.JPG  \n",
            "  inflating: taco_trash_dataset/data/batch_7/000114.JPG  \n",
            "  inflating: taco_trash_dataset/data/batch_7/000115.JPG  \n",
            "  inflating: taco_trash_dataset/data/batch_7/000117.JPG  \n",
            "  inflating: taco_trash_dataset/data/batch_7/000118.JPG  \n",
            "  inflating: taco_trash_dataset/data/batch_7/000119.JPG  \n",
            "  inflating: taco_trash_dataset/data/batch_7/000120.JPG  \n",
            "  inflating: taco_trash_dataset/data/batch_7/000121.JPG  \n",
            "  inflating: taco_trash_dataset/data/batch_7/000122.JPG  \n",
            "  inflating: taco_trash_dataset/data/batch_7/000123.JPG  \n",
            "  inflating: taco_trash_dataset/data/batch_7/000124.JPG  \n",
            "  inflating: taco_trash_dataset/data/batch_7/000125.JPG  \n",
            "  inflating: taco_trash_dataset/data/batch_7/000126.JPG  \n",
            "  inflating: taco_trash_dataset/data/batch_7/000127.JPG  \n",
            "  inflating: taco_trash_dataset/data/batch_7/000128.JPG  \n",
            "  inflating: taco_trash_dataset/data/batch_7/000129.JPG  \n",
            "  inflating: taco_trash_dataset/data/batch_7/000131.JPG  \n",
            "  inflating: taco_trash_dataset/data/batch_7/000132.JPG  \n",
            "  inflating: taco_trash_dataset/data/batch_7/000133.JPG  \n",
            "  inflating: taco_trash_dataset/data/batch_7/000134.JPG  \n",
            "  inflating: taco_trash_dataset/data/batch_7/000135.JPG  \n",
            "  inflating: taco_trash_dataset/data/batch_7/000136.JPG  \n",
            "  inflating: taco_trash_dataset/data/batch_7/000137.JPG  \n",
            "  inflating: taco_trash_dataset/data/batch_7/000138.JPG  \n",
            "  inflating: taco_trash_dataset/data/batch_7/000139.JPG  \n",
            "  inflating: taco_trash_dataset/data/batch_7/000140.JPG  \n",
            "  inflating: taco_trash_dataset/data/batch_7/000141.JPG  \n",
            "  inflating: taco_trash_dataset/data/batch_7/000142.JPG  \n",
            "  inflating: taco_trash_dataset/data/batch_8/000000.jpg  \n",
            "  inflating: taco_trash_dataset/data/batch_8/000001.jpg  \n",
            "  inflating: taco_trash_dataset/data/batch_8/000002.jpg  \n",
            "  inflating: taco_trash_dataset/data/batch_8/000003.jpg  \n",
            "  inflating: taco_trash_dataset/data/batch_8/000004.jpg  \n",
            "  inflating: taco_trash_dataset/data/batch_8/000005.jpg  \n",
            "  inflating: taco_trash_dataset/data/batch_8/000006.jpg  \n",
            "  inflating: taco_trash_dataset/data/batch_8/000007.jpg  \n",
            "  inflating: taco_trash_dataset/data/batch_8/000008.jpg  \n",
            "  inflating: taco_trash_dataset/data/batch_8/000009.jpg  \n",
            "  inflating: taco_trash_dataset/data/batch_8/000010.jpg  \n",
            "  inflating: taco_trash_dataset/data/batch_8/000011.jpg  \n",
            "  inflating: taco_trash_dataset/data/batch_8/000012.jpg  \n",
            "  inflating: taco_trash_dataset/data/batch_8/000013.jpg  \n",
            "  inflating: taco_trash_dataset/data/batch_8/000014.jpg  \n",
            "  inflating: taco_trash_dataset/data/batch_8/000015.jpg  \n",
            "  inflating: taco_trash_dataset/data/batch_8/000016.jpg  \n",
            "  inflating: taco_trash_dataset/data/batch_8/000017.jpg  \n",
            "  inflating: taco_trash_dataset/data/batch_8/000018.jpg  \n",
            "  inflating: taco_trash_dataset/data/batch_8/000019.jpg  \n",
            "  inflating: taco_trash_dataset/data/batch_8/000020.jpg  \n",
            "  inflating: taco_trash_dataset/data/batch_8/000021.jpg  \n",
            "  inflating: taco_trash_dataset/data/batch_8/000022.jpg  \n",
            "  inflating: taco_trash_dataset/data/batch_8/000023.jpg  \n",
            "  inflating: taco_trash_dataset/data/batch_8/000024.jpg  \n",
            "  inflating: taco_trash_dataset/data/batch_8/000025.jpg  \n",
            "  inflating: taco_trash_dataset/data/batch_8/000026.jpg  \n",
            "  inflating: taco_trash_dataset/data/batch_8/000027.jpg  \n",
            "  inflating: taco_trash_dataset/data/batch_8/000028.jpg  \n",
            "  inflating: taco_trash_dataset/data/batch_8/000029.jpg  \n",
            "  inflating: taco_trash_dataset/data/batch_8/000030.jpg  \n",
            "  inflating: taco_trash_dataset/data/batch_8/000031.jpg  \n",
            "  inflating: taco_trash_dataset/data/batch_8/000032.jpg  \n",
            "  inflating: taco_trash_dataset/data/batch_8/000033.jpg  \n",
            "  inflating: taco_trash_dataset/data/batch_8/000034.jpg  \n",
            "  inflating: taco_trash_dataset/data/batch_8/000035.jpg  \n",
            "  inflating: taco_trash_dataset/data/batch_8/000036.jpg  \n",
            "  inflating: taco_trash_dataset/data/batch_8/000037.jpg  \n",
            "  inflating: taco_trash_dataset/data/batch_8/000038.jpg  \n",
            "  inflating: taco_trash_dataset/data/batch_8/000039.jpg  \n",
            "  inflating: taco_trash_dataset/data/batch_8/000040.jpg  \n",
            "  inflating: taco_trash_dataset/data/batch_8/000041.jpg  \n",
            "  inflating: taco_trash_dataset/data/batch_8/000042.jpg  \n",
            "  inflating: taco_trash_dataset/data/batch_8/000043.jpg  \n",
            "  inflating: taco_trash_dataset/data/batch_8/000044.jpg  \n",
            "  inflating: taco_trash_dataset/data/batch_8/000045.jpg  \n",
            "  inflating: taco_trash_dataset/data/batch_8/000046.jpg  \n",
            "  inflating: taco_trash_dataset/data/batch_8/000047.jpg  \n",
            "  inflating: taco_trash_dataset/data/batch_8/000048.jpg  \n",
            "  inflating: taco_trash_dataset/data/batch_8/000049.jpg  \n",
            "  inflating: taco_trash_dataset/data/batch_8/000050.jpg  \n",
            "  inflating: taco_trash_dataset/data/batch_8/000051.jpg  \n",
            "  inflating: taco_trash_dataset/data/batch_8/000052.jpg  \n",
            "  inflating: taco_trash_dataset/data/batch_8/000053.jpg  \n",
            "  inflating: taco_trash_dataset/data/batch_8/000054.jpg  \n",
            "  inflating: taco_trash_dataset/data/batch_8/000055.jpg  \n",
            "  inflating: taco_trash_dataset/data/batch_8/000056.jpg  \n",
            "  inflating: taco_trash_dataset/data/batch_8/000057.jpg  \n",
            "  inflating: taco_trash_dataset/data/batch_8/000058.jpg  \n",
            "  inflating: taco_trash_dataset/data/batch_8/000059.jpg  \n",
            "  inflating: taco_trash_dataset/data/batch_8/000060.jpg  \n",
            "  inflating: taco_trash_dataset/data/batch_8/000061.jpg  \n",
            "  inflating: taco_trash_dataset/data/batch_8/000062.jpg  \n",
            "  inflating: taco_trash_dataset/data/batch_8/000063.jpg  \n",
            "  inflating: taco_trash_dataset/data/batch_8/000064.jpg  \n",
            "  inflating: taco_trash_dataset/data/batch_8/000065.jpg  \n",
            "  inflating: taco_trash_dataset/data/batch_8/000066.jpg  \n",
            "  inflating: taco_trash_dataset/data/batch_8/000067.jpg  \n",
            "  inflating: taco_trash_dataset/data/batch_8/000068.jpg  \n",
            "  inflating: taco_trash_dataset/data/batch_8/000069.jpg  \n",
            "  inflating: taco_trash_dataset/data/batch_8/000070.jpg  \n",
            "  inflating: taco_trash_dataset/data/batch_8/000071.jpg  \n",
            "  inflating: taco_trash_dataset/data/batch_8/000072.jpg  \n",
            "  inflating: taco_trash_dataset/data/batch_8/000073.jpg  \n",
            "  inflating: taco_trash_dataset/data/batch_8/000074.jpg  \n",
            "  inflating: taco_trash_dataset/data/batch_8/000075.jpg  \n",
            "  inflating: taco_trash_dataset/data/batch_8/000076.jpg  \n",
            "  inflating: taco_trash_dataset/data/batch_8/000077.jpg  \n",
            "  inflating: taco_trash_dataset/data/batch_8/000078.jpg  \n",
            "  inflating: taco_trash_dataset/data/batch_8/000079.jpg  \n",
            "  inflating: taco_trash_dataset/data/batch_8/000080.jpg  \n",
            "  inflating: taco_trash_dataset/data/batch_8/000081.jpg  \n",
            "  inflating: taco_trash_dataset/data/batch_8/000082.jpg  \n",
            "  inflating: taco_trash_dataset/data/batch_8/000083.jpg  \n",
            "  inflating: taco_trash_dataset/data/batch_8/000084.jpg  \n",
            "  inflating: taco_trash_dataset/data/batch_8/000085.jpg  \n",
            "  inflating: taco_trash_dataset/data/batch_8/000086.jpg  \n",
            "  inflating: taco_trash_dataset/data/batch_8/000087.jpg  \n",
            "  inflating: taco_trash_dataset/data/batch_8/000088.jpg  \n",
            "  inflating: taco_trash_dataset/data/batch_8/000089.jpg  \n",
            "  inflating: taco_trash_dataset/data/batch_8/000090.jpg  \n",
            "  inflating: taco_trash_dataset/data/batch_8/000091.jpg  \n",
            "  inflating: taco_trash_dataset/data/batch_8/000092.jpg  \n",
            "  inflating: taco_trash_dataset/data/batch_8/000093.jpg  \n",
            "  inflating: taco_trash_dataset/data/batch_8/000094.jpg  \n",
            "  inflating: taco_trash_dataset/data/batch_8/000095.jpg  \n",
            "  inflating: taco_trash_dataset/data/batch_8/000096.jpg  \n",
            "  inflating: taco_trash_dataset/data/batch_8/000097.jpg  \n",
            "  inflating: taco_trash_dataset/data/batch_8/000098.jpg  \n",
            "  inflating: taco_trash_dataset/data/batch_8/000099.jpg  \n",
            "  inflating: taco_trash_dataset/data/batch_9/000000.jpg  \n",
            "  inflating: taco_trash_dataset/data/batch_9/000001.jpg  \n",
            "  inflating: taco_trash_dataset/data/batch_9/000002.jpg  \n",
            "  inflating: taco_trash_dataset/data/batch_9/000003.jpg  \n",
            "  inflating: taco_trash_dataset/data/batch_9/000004.jpg  \n",
            "  inflating: taco_trash_dataset/data/batch_9/000005.jpg  \n",
            "  inflating: taco_trash_dataset/data/batch_9/000006.jpg  \n",
            "  inflating: taco_trash_dataset/data/batch_9/000007.jpg  \n",
            "  inflating: taco_trash_dataset/data/batch_9/000008.jpg  \n",
            "  inflating: taco_trash_dataset/data/batch_9/000009.jpg  \n",
            "  inflating: taco_trash_dataset/data/batch_9/000010.jpg  \n",
            "  inflating: taco_trash_dataset/data/batch_9/000011.jpg  \n",
            "  inflating: taco_trash_dataset/data/batch_9/000012.jpg  \n",
            "  inflating: taco_trash_dataset/data/batch_9/000013.jpg  \n",
            "  inflating: taco_trash_dataset/data/batch_9/000014.jpg  \n",
            "  inflating: taco_trash_dataset/data/batch_9/000015.jpg  \n",
            "  inflating: taco_trash_dataset/data/batch_9/000016.jpg  \n",
            "  inflating: taco_trash_dataset/data/batch_9/000017.jpg  \n",
            "  inflating: taco_trash_dataset/data/batch_9/000018.jpg  \n",
            "  inflating: taco_trash_dataset/data/batch_9/000019.jpg  \n",
            "  inflating: taco_trash_dataset/data/batch_9/000020.jpg  \n",
            "  inflating: taco_trash_dataset/data/batch_9/000021.jpg  \n",
            "  inflating: taco_trash_dataset/data/batch_9/000022.jpg  \n",
            "  inflating: taco_trash_dataset/data/batch_9/000023.jpg  \n",
            "  inflating: taco_trash_dataset/data/batch_9/000024.jpg  \n",
            "  inflating: taco_trash_dataset/data/batch_9/000025.jpg  \n",
            "  inflating: taco_trash_dataset/data/batch_9/000026.jpg  \n",
            "  inflating: taco_trash_dataset/data/batch_9/000027.jpg  \n",
            "  inflating: taco_trash_dataset/data/batch_9/000028.jpg  \n",
            "  inflating: taco_trash_dataset/data/batch_9/000029.jpg  \n",
            "  inflating: taco_trash_dataset/data/batch_9/000030.jpg  \n",
            "  inflating: taco_trash_dataset/data/batch_9/000031.jpg  \n",
            "  inflating: taco_trash_dataset/data/batch_9/000032.jpg  \n",
            "  inflating: taco_trash_dataset/data/batch_9/000033.jpg  \n",
            "  inflating: taco_trash_dataset/data/batch_9/000034.jpg  \n",
            "  inflating: taco_trash_dataset/data/batch_9/000035.jpg  \n",
            "  inflating: taco_trash_dataset/data/batch_9/000036.jpg  \n",
            "  inflating: taco_trash_dataset/data/batch_9/000037.jpg  \n",
            "  inflating: taco_trash_dataset/data/batch_9/000038.jpg  \n",
            "  inflating: taco_trash_dataset/data/batch_9/000039.jpg  \n",
            "  inflating: taco_trash_dataset/data/batch_9/000040.jpg  \n",
            "  inflating: taco_trash_dataset/data/batch_9/000041.jpg  \n",
            "  inflating: taco_trash_dataset/data/batch_9/000042.jpg  \n",
            "  inflating: taco_trash_dataset/data/batch_9/000043.jpg  \n",
            "  inflating: taco_trash_dataset/data/batch_9/000044.jpg  \n",
            "  inflating: taco_trash_dataset/data/batch_9/000045.jpg  \n",
            "  inflating: taco_trash_dataset/data/batch_9/000046.jpg  \n",
            "  inflating: taco_trash_dataset/data/batch_9/000047.jpg  \n",
            "  inflating: taco_trash_dataset/data/batch_9/000048.jpg  \n",
            "  inflating: taco_trash_dataset/data/batch_9/000049.jpg  \n",
            "  inflating: taco_trash_dataset/data/batch_9/000050.jpg  \n",
            "  inflating: taco_trash_dataset/data/batch_9/000051.jpg  \n",
            "  inflating: taco_trash_dataset/data/batch_9/000052.jpg  \n",
            "  inflating: taco_trash_dataset/data/batch_9/000053.jpg  \n",
            "  inflating: taco_trash_dataset/data/batch_9/000054.jpg  \n",
            "  inflating: taco_trash_dataset/data/batch_9/000055.jpg  \n",
            "  inflating: taco_trash_dataset/data/batch_9/000056.jpg  \n",
            "  inflating: taco_trash_dataset/data/batch_9/000057.jpg  \n",
            "  inflating: taco_trash_dataset/data/batch_9/000058.jpg  \n",
            "  inflating: taco_trash_dataset/data/batch_9/000059.jpg  \n",
            "  inflating: taco_trash_dataset/data/batch_9/000060.jpg  \n",
            "  inflating: taco_trash_dataset/data/batch_9/000061.jpg  \n",
            "  inflating: taco_trash_dataset/data/batch_9/000062.jpg  \n",
            "  inflating: taco_trash_dataset/data/batch_9/000063.jpg  \n",
            "  inflating: taco_trash_dataset/data/batch_9/000064.jpg  \n",
            "  inflating: taco_trash_dataset/data/batch_9/000065.jpg  \n",
            "  inflating: taco_trash_dataset/data/batch_9/000066.jpg  \n",
            "  inflating: taco_trash_dataset/data/batch_9/000067.jpg  \n",
            "  inflating: taco_trash_dataset/data/batch_9/000068.jpg  \n",
            "  inflating: taco_trash_dataset/data/batch_9/000069.jpg  \n",
            "  inflating: taco_trash_dataset/data/batch_9/000070.jpg  \n",
            "  inflating: taco_trash_dataset/data/batch_9/000071.jpg  \n",
            "  inflating: taco_trash_dataset/data/batch_9/000072.jpg  \n",
            "  inflating: taco_trash_dataset/data/batch_9/000073.jpg  \n",
            "  inflating: taco_trash_dataset/data/batch_9/000074.jpg  \n",
            "  inflating: taco_trash_dataset/data/batch_9/000075.jpg  \n",
            "  inflating: taco_trash_dataset/data/batch_9/000076.jpg  \n",
            "  inflating: taco_trash_dataset/data/batch_9/000077.jpg  \n",
            "  inflating: taco_trash_dataset/data/batch_9/000078.jpg  \n",
            "  inflating: taco_trash_dataset/data/batch_9/000079.jpg  \n",
            "  inflating: taco_trash_dataset/data/batch_9/000080.jpg  \n",
            "  inflating: taco_trash_dataset/data/batch_9/000081.jpg  \n",
            "  inflating: taco_trash_dataset/data/batch_9/000082.jpg  \n",
            "  inflating: taco_trash_dataset/data/batch_9/000083.jpg  \n",
            "  inflating: taco_trash_dataset/data/batch_9/000084.jpg  \n",
            "  inflating: taco_trash_dataset/data/batch_9/000085.jpg  \n",
            "  inflating: taco_trash_dataset/data/batch_9/000086.jpg  \n",
            "  inflating: taco_trash_dataset/data/batch_9/000087.jpg  \n",
            "  inflating: taco_trash_dataset/data/batch_9/000088.jpg  \n",
            "  inflating: taco_trash_dataset/data/batch_9/000089.jpg  \n",
            "  inflating: taco_trash_dataset/data/batch_9/000090.jpg  \n",
            "  inflating: taco_trash_dataset/data/batch_9/000091.jpg  \n",
            "  inflating: taco_trash_dataset/data/batch_9/000092.jpg  \n",
            "  inflating: taco_trash_dataset/data/batch_9/000093.jpg  \n",
            "  inflating: taco_trash_dataset/data/batch_9/000094.jpg  \n",
            "  inflating: taco_trash_dataset/data/batch_9/000095.jpg  \n",
            "  inflating: taco_trash_dataset/data/batch_9/000096.jpg  \n",
            "  inflating: taco_trash_dataset/data/batch_9/000097.jpg  \n",
            "  inflating: taco_trash_dataset/data/batch_9/000098.jpg  \n",
            "  inflating: taco_trash_dataset/data/batch_9/000099.jpg  \n",
            "  inflating: taco_trash_dataset/kle_log.txt  \n",
            "  inflating: taco_trash_dataset/meta_df.csv  \n"
          ]
        }
      ],
      "source": [
        "!unzip archive.zip -d taco_trash_dataset"
      ]
    },
    {
      "cell_type": "code",
      "execution_count": null,
      "metadata": {
        "id": "EEX4t6_J5Lcd",
        "outputId": "76e96720-0ae3-4778-e01d-d09770e48bac"
      },
      "outputs": [
        {
          "name": "stdout",
          "output_type": "stream",
          "text": [
            "Requirement already satisfied: pycocotools in ./yolov_env/lib/python3.12/site-packages (2.0.10)\n",
            "Requirement already satisfied: numpy in ./yolov_env/lib/python3.12/site-packages (from pycocotools) (2.2.6)\n"
          ]
        }
      ],
      "source": [
        "!pip install pycocotools\n"
      ]
    },
    {
      "cell_type": "code",
      "execution_count": null,
      "metadata": {
        "colab": {
          "base_uri": "https://localhost:8080/"
        },
        "id": "03a2OvzJyqxJ",
        "outputId": "3f45a843-0572-4855-da7f-f01b35d2aa22"
      },
      "outputs": [
        {
          "name": "stdout",
          "output_type": "stream",
          "text": [
            "loading annotations into memory...\n",
            "Done (t=0.03s)\n",
            "creating index...\n",
            "index created!\n"
          ]
        }
      ],
      "source": [
        "import os\n",
        "import shutil\n",
        "import numpy as np\n",
        "import tqdm\n",
        "from pycocotools.coco import COCO\n",
        "data_source = COCO(annotation_file='/home/ose/Documents/Proyecto Yandri CEIA/taco_trash_dataset/data/annotations.json')"
      ]
    },
    {
      "cell_type": "code",
      "execution_count": null,
      "metadata": {
        "id": "9gvE0HO71DJ5"
      },
      "outputs": [],
      "source": [
        "# remapping label id to 0~1\n",
        "\n",
        "# 'Clear plastic bottle': 5  -> 0\n",
        "# 'Plastic bottle cap': 7 -> 1\n",
        "# 'Drink can': 12 -> 2\n",
        "# 'Other plastic': 29 -> 3\n",
        "# 'Plastic film': 36 -> 4\n",
        "# 'Other plastic wrapper': 39 -> 5\n",
        "# 'Unlabeled litter': 58 -> 6\n",
        "# 'Cigarette': 59 -> 7\n",
        "label_transfer = {5: 0,\n",
        "                  7: 1,\n",
        "                  12: 2,\n",
        "                  29: 3,\n",
        "                  36: 4,\n",
        "                  39: 5,\n",
        "                  58: 6}\n"
      ]
    },
    {
      "cell_type": "code",
      "execution_count": null,
      "metadata": {
        "id": "KmUFWxJ91GRI"
      },
      "outputs": [],
      "source": [
        "img_ids = data_source.getImgIds()\n",
        "\n",
        "catIds = data_source.getCatIds()\n",
        "categories = data_source.loadCats(catIds)\n",
        "categories.sort(key=lambda x: x['id'])\n",
        "classes = {}\n",
        "coco_labels = {}\n",
        "coco_labels_inverse = {}\n",
        "for c in categories:\n",
        "    coco_labels[len(classes)] = c['id']\n",
        "    coco_labels_inverse[c['id']] = len(classes)\n",
        "    classes[c['name']] = len(classes)\n",
        "\n",
        "class_num = {}"
      ]
    },
    {
      "cell_type": "code",
      "execution_count": null,
      "metadata": {
        "id": "pE0PxBWT1Iqa"
      },
      "outputs": [],
      "source": [
        "!mkdir -p tmp/labels tmp/images\n",
        "save_base_path  = 'tmp/labels/'\n",
        "save_image_path = 'tmp/images/'"
      ]
    },
    {
      "cell_type": "code",
      "execution_count": null,
      "metadata": {
        "colab": {
          "base_uri": "https://localhost:8080/"
        },
        "id": "ddD6ihIA1L4A",
        "outputId": "1fbb548a-56ac-4ccd-e2b7-84bed0a45976"
      },
      "outputs": [
        {
          "name": "stderr",
          "output_type": "stream",
          "text": [
            "change .json file to .txt file: 1500it [00:00, 1840.16it/s]\n"
          ]
        }
      ],
      "source": [
        "for index, img_id in tqdm.tqdm(enumerate(img_ids), desc='change .json file to .txt file'):\n",
        "    img_info = data_source.loadImgs(img_id)[0]\n",
        "\n",
        "    save_name = img_info['file_name'].replace('/', '_')\n",
        "\n",
        "    file_name = save_name.split('.')[0]\n",
        "\n",
        "    height = img_info['height']\n",
        "    width = img_info['width']\n",
        "\n",
        "    save_path = save_base_path + file_name + '.txt'\n",
        "    is_exist = False\n",
        "    with open(save_path, mode='w') as fp:\n",
        "\n",
        "        annotation_id = data_source.getAnnIds(img_id)\n",
        "        boxes = np.zeros((0, 5))\n",
        "        if len(annotation_id) == 0:\n",
        "            fp.write('')\n",
        "            continue\n",
        "\n",
        "        annotations = data_source.loadAnns(annotation_id)\n",
        "        lines = ''\n",
        "\n",
        "        for annotation in annotations:\n",
        "\n",
        "            label = coco_labels_inverse[annotation['category_id']]\n",
        "            if label in label_transfer.keys():\n",
        "\n",
        "                is_exist = True\n",
        "                box = annotation['bbox']\n",
        "                if box[2] < 1 or box[3] < 1:\n",
        "\n",
        "                    continue\n",
        "\n",
        "                box[0] = round((box[0] + box[2] / 2) / width, 6)\n",
        "                box[1] = round((box[1] + box[3] / 2) / height, 6)\n",
        "                box[2] = round(box[2] / width, 6)\n",
        "                box[3] = round(box[3] / height, 6)\n",
        "                label = label_transfer[label]\n",
        "                if label not in class_num.keys():\n",
        "                    class_num[label] = 0\n",
        "                class_num[label] += 1\n",
        "                lines = lines + str(label)\n",
        "                for i in box:\n",
        "                    lines += ' ' + str(i)\n",
        "                lines += '\\n'\n",
        "        fp.writelines(lines)\n",
        "    if is_exist:\n",
        "\n",
        "        shutil.copy('/home/ose/Documents/Proyecto Yandri CEIA/taco_trash_dataset/data/{}'.format(img_info['file_name']), os.path.join(save_image_path, save_name))\n",
        "    else:\n",
        "\n",
        "        os.remove(save_path)"
      ]
    },
    {
      "cell_type": "code",
      "execution_count": null,
      "metadata": {
        "colab": {
          "base_uri": "https://localhost:8080/"
        },
        "id": "Zn-mOrDh1MW6",
        "outputId": "27c0a502-faf0-4663-a8c1-a7fcaee6835c"
      },
      "outputs": [
        {
          "name": "stdout",
          "output_type": "stream",
          "text": [
            "Collecting split-folders\n",
            "  Downloading split_folders-0.5.1-py3-none-any.whl.metadata (6.2 kB)\n",
            "Downloading split_folders-0.5.1-py3-none-any.whl (8.4 kB)\n",
            "Installing collected packages: split-folders\n",
            "Successfully installed split-folders-0.5.1\n"
          ]
        }
      ],
      "source": [
        "!pip install split-folders"
      ]
    },
    {
      "cell_type": "code",
      "execution_count": null,
      "metadata": {
        "colab": {
          "base_uri": "https://localhost:8080/"
        },
        "id": "-2GeKSTR1OaZ",
        "outputId": "e63fcd3f-55f4-4609-8a49-f4f0d949d32e"
      },
      "outputs": [
        {
          "name": "stderr",
          "output_type": "stream",
          "text": [
            "\n",
            "\u001b[A\n",
            "\u001b[A\n",
            "\u001b[A\n",
            "Copying files: 2034 files [00:01, 1931.51 files/s]\n"
          ]
        }
      ],
      "source": [
        "import splitfolders\n",
        "splitfolders.ratio('tmp', output=\"taco/\", seed=1337, ratio=(.8, 0.1,0.1))"
      ]
    },
    {
      "cell_type": "code",
      "execution_count": null,
      "metadata": {
        "colab": {
          "base_uri": "https://localhost:8080/"
        },
        "id": "dwwk2dsP1QeG",
        "outputId": "1488be1d-a22a-4aed-82e2-3f160f3dd09b"
      },
      "outputs": [
        {
          "name": "stderr",
          "output_type": "stream",
          "text": [
            "Copying files: 0 files [03:53, ? files/s]\n"
          ]
        },
        {
          "name": "stdout",
          "output_type": "stream",
          "text": [
            "WARNING ⚠️ Ultralytics settings reset to default values. This may be due to a possible problem with your settings or a recent ultralytics package update. \n",
            "View Ultralytics Settings with 'yolo settings' or at '/home/ose/.config/Ultralytics/settings.json'\n",
            "Update Settings with 'yolo settings key=value', i.e. 'yolo settings runs_dir=path/to/dir'. For help see https://docs.ultralytics.com/quickstart/#ultralytics-settings.\n",
            "Ultralytics 8.3.170 🚀 Python-3.12.3 torch-2.7.1+cu126 CUDA:0 (NVIDIA GeForce RTX 3090 Ti, 24241MiB)\n",
            "\u001b[34m\u001b[1mengine/trainer: \u001b[0magnostic_nms=False, amp=True, augment=False, auto_augment=randaugment, batch=16, bgr=0.0, box=7.5, cache=False, cfg=None, classes=None, close_mosaic=10, cls=0.5, conf=None, copy_paste=0.0, copy_paste_mode=flip, cos_lr=False, cutmix=0.0, data=taco_trash.yaml, degrees=0.0, deterministic=True, device=None, dfl=1.5, dnn=False, dropout=0.0, dynamic=False, embed=None, epochs=50, erasing=0.4, exist_ok=False, fliplr=0.5, flipud=0.0, format=torchscript, fraction=1.0, freeze=None, half=False, hsv_h=0.015, hsv_s=0.7, hsv_v=0.4, imgsz=640, int8=False, iou=0.7, keras=False, kobj=1.0, line_width=None, lr0=0.01, lrf=0.01, mask_ratio=4, max_det=300, mixup=0.0, mode=train, model=yolo11n.pt, momentum=0.937, mosaic=1.0, multi_scale=False, name=train, nbs=64, nms=False, opset=None, optimize=False, optimizer=auto, overlap_mask=True, patience=100, perspective=0.0, plots=True, pose=12.0, pretrained=True, profile=False, project=None, rect=False, resume=False, retina_masks=False, save=True, save_conf=False, save_crop=False, save_dir=runs/detect/train, save_frames=False, save_json=False, save_period=-1, save_txt=False, scale=0.5, seed=0, shear=0.0, show=False, show_boxes=True, show_conf=True, show_labels=True, simplify=True, single_cls=False, source=None, split=val, stream_buffer=False, task=detect, time=None, tracker=botsort.yaml, translate=0.1, val=True, verbose=True, vid_stride=1, visualize=False, warmup_bias_lr=0.1, warmup_epochs=3.0, warmup_momentum=0.8, weight_decay=0.0005, workers=8, workspace=None\n",
            "Overriding model.yaml nc=80 with nc=8\n",
            "\n",
            "                   from  n    params  module                                       arguments                     \n",
            "  0                  -1  1       464  ultralytics.nn.modules.conv.Conv             [3, 16, 3, 2]                 \n",
            "  1                  -1  1      4672  ultralytics.nn.modules.conv.Conv             [16, 32, 3, 2]                \n",
            "  2                  -1  1      6640  ultralytics.nn.modules.block.C3k2            [32, 64, 1, False, 0.25]      \n",
            "  3                  -1  1     36992  ultralytics.nn.modules.conv.Conv             [64, 64, 3, 2]                \n",
            "  4                  -1  1     26080  ultralytics.nn.modules.block.C3k2            [64, 128, 1, False, 0.25]     \n",
            "  5                  -1  1    147712  ultralytics.nn.modules.conv.Conv             [128, 128, 3, 2]              \n",
            "  6                  -1  1     87040  ultralytics.nn.modules.block.C3k2            [128, 128, 1, True]           \n",
            "  7                  -1  1    295424  ultralytics.nn.modules.conv.Conv             [128, 256, 3, 2]              \n",
            "  8                  -1  1    346112  ultralytics.nn.modules.block.C3k2            [256, 256, 1, True]           \n",
            "  9                  -1  1    164608  ultralytics.nn.modules.block.SPPF            [256, 256, 5]                 \n",
            " 10                  -1  1    249728  ultralytics.nn.modules.block.C2PSA           [256, 256, 1]                 \n",
            " 11                  -1  1         0  torch.nn.modules.upsampling.Upsample         [None, 2, 'nearest']          \n",
            " 12             [-1, 6]  1         0  ultralytics.nn.modules.conv.Concat           [1]                           \n",
            " 13                  -1  1    111296  ultralytics.nn.modules.block.C3k2            [384, 128, 1, False]          \n",
            " 14                  -1  1         0  torch.nn.modules.upsampling.Upsample         [None, 2, 'nearest']          \n",
            " 15             [-1, 4]  1         0  ultralytics.nn.modules.conv.Concat           [1]                           \n",
            " 16                  -1  1     32096  ultralytics.nn.modules.block.C3k2            [256, 64, 1, False]           \n",
            " 17                  -1  1     36992  ultralytics.nn.modules.conv.Conv             [64, 64, 3, 2]                \n",
            " 18            [-1, 13]  1         0  ultralytics.nn.modules.conv.Concat           [1]                           \n",
            " 19                  -1  1     86720  ultralytics.nn.modules.block.C3k2            [192, 128, 1, False]          \n",
            " 20                  -1  1    147712  ultralytics.nn.modules.conv.Conv             [128, 128, 3, 2]              \n",
            " 21            [-1, 10]  1         0  ultralytics.nn.modules.conv.Concat           [1]                           \n",
            " 22                  -1  1    378880  ultralytics.nn.modules.block.C3k2            [384, 256, 1, True]           \n",
            " 23        [16, 19, 22]  1    432232  ultralytics.nn.modules.head.Detect           [8, [64, 128, 256]]           \n",
            "YOLO11n summary: 181 layers, 2,591,400 parameters, 2,591,384 gradients, 6.4 GFLOPs\n",
            "\n",
            "Transferred 448/499 items from pretrained weights\n",
            "Freezing layer 'model.23.dfl.conv.weight'\n",
            "\u001b[34m\u001b[1mAMP: \u001b[0mrunning Automatic Mixed Precision (AMP) checks...\n",
            "\u001b[34m\u001b[1mAMP: \u001b[0mchecks passed ✅\n",
            "\u001b[34m\u001b[1mtrain: \u001b[0mFast image access ✅ (ping: 0.0±0.0 ms, read: 6237.1±1163.5 MB/s, size: 1698.8 KB)\n"
          ]
        },
        {
          "name": "stderr",
          "output_type": "stream",
          "text": [
            "\u001b[34m\u001b[1mtrain: \u001b[0mScanning /home/ose/Documents/Proyecto Yandri CEIA/taco/train/labels... 813 images, 3 backgrounds, 0 corrupt: 100%|██████████| 813/813 [00:00<00:00, 3829.88it/s]"
          ]
        },
        {
          "name": "stdout",
          "output_type": "stream",
          "text": [
            "\u001b[34m\u001b[1mtrain: \u001b[0mNew cache created: /home/ose/Documents/Proyecto Yandri CEIA/taco/train/labels.cache\n"
          ]
        },
        {
          "name": "stderr",
          "output_type": "stream",
          "text": [
            "\n"
          ]
        },
        {
          "name": "stdout",
          "output_type": "stream",
          "text": [
            "\u001b[34m\u001b[1mval: \u001b[0mFast image access ✅ (ping: 0.0±0.0 ms, read: 3666.6±2792.0 MB/s, size: 1081.6 KB)\n"
          ]
        },
        {
          "name": "stderr",
          "output_type": "stream",
          "text": [
            "\u001b[34m\u001b[1mval: \u001b[0mScanning /home/ose/Documents/Proyecto Yandri CEIA/taco/val/labels... 101 images, 0 backgrounds, 0 corrupt: 100%|██████████| 101/101 [00:00<00:00, 867.31it/s]"
          ]
        },
        {
          "name": "stdout",
          "output_type": "stream",
          "text": [
            "\u001b[34m\u001b[1mval: \u001b[0mNew cache created: /home/ose/Documents/Proyecto Yandri CEIA/taco/val/labels.cache\n"
          ]
        },
        {
          "name": "stderr",
          "output_type": "stream",
          "text": [
            "\n"
          ]
        },
        {
          "name": "stdout",
          "output_type": "stream",
          "text": [
            "Plotting labels to runs/detect/train/labels.jpg... \n",
            "\u001b[34m\u001b[1moptimizer:\u001b[0m 'optimizer=auto' found, ignoring 'lr0=0.01' and 'momentum=0.937' and determining best 'optimizer', 'lr0' and 'momentum' automatically... \n",
            "\u001b[34m\u001b[1moptimizer:\u001b[0m AdamW(lr=0.000833, momentum=0.9) with parameter groups 81 weight(decay=0.0), 88 weight(decay=0.0005), 87 bias(decay=0.0)\n",
            "Image sizes 640 train, 640 val\n",
            "Using 8 dataloader workers\n",
            "Logging results to \u001b[1mruns/detect/train\u001b[0m\n",
            "Starting training for 50 epochs...\n",
            "\n",
            "      Epoch    GPU_mem   box_loss   cls_loss   dfl_loss  Instances       Size\n"
          ]
        },
        {
          "name": "stderr",
          "output_type": "stream",
          "text": [
            "       1/50      2.47G      1.345      4.378      1.193         30        640: 100%|██████████| 51/51 [00:09<00:00,  5.48it/s]\n",
            "                 Class     Images  Instances      Box(P          R      mAP50  mAP50-95): 100%|██████████| 4/4 [00:00<00:00,  4.77it/s]"
          ]
        },
        {
          "name": "stdout",
          "output_type": "stream",
          "text": [
            "                   all        101        224    0.00409      0.399     0.0534     0.0374\n"
          ]
        },
        {
          "name": "stderr",
          "output_type": "stream",
          "text": [
            "\n"
          ]
        },
        {
          "name": "stdout",
          "output_type": "stream",
          "text": [
            "\n",
            "      Epoch    GPU_mem   box_loss   cls_loss   dfl_loss  Instances       Size\n"
          ]
        },
        {
          "name": "stderr",
          "output_type": "stream",
          "text": [
            "       2/50      2.73G      1.411       3.79      1.162         46        640: 100%|██████████| 51/51 [00:06<00:00,  8.41it/s]\n",
            "                 Class     Images  Instances      Box(P          R      mAP50  mAP50-95): 100%|██████████| 4/4 [00:00<00:00,  7.51it/s]"
          ]
        },
        {
          "name": "stdout",
          "output_type": "stream",
          "text": [
            "                   all        101        224      0.261     0.0906     0.0626     0.0414\n"
          ]
        },
        {
          "name": "stderr",
          "output_type": "stream",
          "text": [
            "\n"
          ]
        },
        {
          "name": "stdout",
          "output_type": "stream",
          "text": [
            "\n",
            "      Epoch    GPU_mem   box_loss   cls_loss   dfl_loss  Instances       Size\n"
          ]
        },
        {
          "name": "stderr",
          "output_type": "stream",
          "text": [
            "       3/50      2.75G      1.435      3.477      1.221         51        640: 100%|██████████| 51/51 [00:06<00:00,  7.62it/s]\n",
            "                 Class     Images  Instances      Box(P          R      mAP50  mAP50-95): 100%|██████████| 4/4 [00:00<00:00,  8.50it/s]"
          ]
        },
        {
          "name": "stdout",
          "output_type": "stream",
          "text": [
            "                   all        101        224     0.0875      0.115     0.0884     0.0573\n"
          ]
        },
        {
          "name": "stderr",
          "output_type": "stream",
          "text": [
            "\n"
          ]
        },
        {
          "name": "stdout",
          "output_type": "stream",
          "text": [
            "\n",
            "      Epoch    GPU_mem   box_loss   cls_loss   dfl_loss  Instances       Size\n"
          ]
        },
        {
          "name": "stderr",
          "output_type": "stream",
          "text": [
            "       4/50      2.76G      1.459      3.262       1.23         39        640: 100%|██████████| 51/51 [00:06<00:00,  7.90it/s]\n",
            "                 Class     Images  Instances      Box(P          R      mAP50  mAP50-95): 100%|██████████| 4/4 [00:00<00:00,  6.54it/s]"
          ]
        },
        {
          "name": "stdout",
          "output_type": "stream",
          "text": [
            "                   all        101        224      0.126      0.249     0.0943     0.0533\n"
          ]
        },
        {
          "name": "stderr",
          "output_type": "stream",
          "text": [
            "\n"
          ]
        },
        {
          "name": "stdout",
          "output_type": "stream",
          "text": [
            "\n",
            "      Epoch    GPU_mem   box_loss   cls_loss   dfl_loss  Instances       Size\n"
          ]
        },
        {
          "name": "stderr",
          "output_type": "stream",
          "text": [
            "       5/50      2.78G      1.419      3.207       1.23         52        640: 100%|██████████| 51/51 [00:06<00:00,  7.80it/s]\n",
            "                 Class     Images  Instances      Box(P          R      mAP50  mAP50-95): 100%|██████████| 4/4 [00:00<00:00,  7.40it/s]"
          ]
        },
        {
          "name": "stdout",
          "output_type": "stream",
          "text": [
            "                   all        101        224       0.14      0.274      0.118     0.0772\n"
          ]
        },
        {
          "name": "stderr",
          "output_type": "stream",
          "text": [
            "\n"
          ]
        },
        {
          "name": "stdout",
          "output_type": "stream",
          "text": [
            "\n",
            "      Epoch    GPU_mem   box_loss   cls_loss   dfl_loss  Instances       Size\n"
          ]
        },
        {
          "name": "stderr",
          "output_type": "stream",
          "text": [
            "       6/50      2.79G      1.388      2.985      1.193         63        640: 100%|██████████| 51/51 [00:06<00:00,  7.79it/s]\n",
            "                 Class     Images  Instances      Box(P          R      mAP50  mAP50-95): 100%|██████████| 4/4 [00:00<00:00,  7.38it/s]"
          ]
        },
        {
          "name": "stdout",
          "output_type": "stream",
          "text": [
            "                   all        101        224      0.145      0.256       0.13     0.0871\n"
          ]
        },
        {
          "name": "stderr",
          "output_type": "stream",
          "text": [
            "\n"
          ]
        },
        {
          "name": "stdout",
          "output_type": "stream",
          "text": [
            "\n",
            "      Epoch    GPU_mem   box_loss   cls_loss   dfl_loss  Instances       Size\n"
          ]
        },
        {
          "name": "stderr",
          "output_type": "stream",
          "text": [
            "       7/50       2.8G      1.395       2.88      1.196         43        640: 100%|██████████| 51/51 [00:06<00:00,  7.45it/s]\n",
            "                 Class     Images  Instances      Box(P          R      mAP50  mAP50-95): 100%|██████████| 4/4 [00:00<00:00,  7.55it/s]\n"
          ]
        },
        {
          "name": "stdout",
          "output_type": "stream",
          "text": [
            "                   all        101        224      0.195      0.222      0.171       0.12\n",
            "\n",
            "      Epoch    GPU_mem   box_loss   cls_loss   dfl_loss  Instances       Size\n"
          ]
        },
        {
          "name": "stderr",
          "output_type": "stream",
          "text": [
            "       8/50      2.82G      1.307      2.714      1.158         58        640: 100%|██████████| 51/51 [00:06<00:00,  7.72it/s]\n",
            "                 Class     Images  Instances      Box(P          R      mAP50  mAP50-95): 100%|██████████| 4/4 [00:00<00:00,  7.98it/s]"
          ]
        },
        {
          "name": "stdout",
          "output_type": "stream",
          "text": [
            "                   all        101        224      0.239      0.167      0.153      0.107\n"
          ]
        },
        {
          "name": "stderr",
          "output_type": "stream",
          "text": [
            "\n"
          ]
        },
        {
          "name": "stdout",
          "output_type": "stream",
          "text": [
            "\n",
            "      Epoch    GPU_mem   box_loss   cls_loss   dfl_loss  Instances       Size\n"
          ]
        },
        {
          "name": "stderr",
          "output_type": "stream",
          "text": [
            "       9/50      2.84G      1.322      2.617      1.162         42        640: 100%|██████████| 51/51 [00:06<00:00,  7.36it/s]\n",
            "                 Class     Images  Instances      Box(P          R      mAP50  mAP50-95): 100%|██████████| 4/4 [00:00<00:00,  6.61it/s]"
          ]
        },
        {
          "name": "stdout",
          "output_type": "stream",
          "text": [
            "                   all        101        224      0.308      0.213      0.172       0.11\n"
          ]
        },
        {
          "name": "stderr",
          "output_type": "stream",
          "text": [
            "\n"
          ]
        },
        {
          "name": "stdout",
          "output_type": "stream",
          "text": [
            "\n",
            "      Epoch    GPU_mem   box_loss   cls_loss   dfl_loss  Instances       Size\n"
          ]
        },
        {
          "name": "stderr",
          "output_type": "stream",
          "text": [
            "      10/50      2.85G      1.302      2.595      1.166         87        640: 100%|██████████| 51/51 [00:06<00:00,  7.74it/s]\n",
            "                 Class     Images  Instances      Box(P          R      mAP50  mAP50-95): 100%|██████████| 4/4 [00:00<00:00,  7.81it/s]"
          ]
        },
        {
          "name": "stdout",
          "output_type": "stream",
          "text": [
            "                   all        101        224      0.255      0.237      0.204      0.132\n"
          ]
        },
        {
          "name": "stderr",
          "output_type": "stream",
          "text": [
            "\n"
          ]
        },
        {
          "name": "stdout",
          "output_type": "stream",
          "text": [
            "\n",
            "      Epoch    GPU_mem   box_loss   cls_loss   dfl_loss  Instances       Size\n"
          ]
        },
        {
          "name": "stderr",
          "output_type": "stream",
          "text": [
            "      11/50      2.86G      1.295      2.494      1.149         55        640: 100%|██████████| 51/51 [00:06<00:00,  7.80it/s]\n",
            "                 Class     Images  Instances      Box(P          R      mAP50  mAP50-95): 100%|██████████| 4/4 [00:00<00:00,  8.27it/s]"
          ]
        },
        {
          "name": "stdout",
          "output_type": "stream",
          "text": [
            "                   all        101        224      0.201      0.297      0.181      0.124\n"
          ]
        },
        {
          "name": "stderr",
          "output_type": "stream",
          "text": [
            "\n"
          ]
        },
        {
          "name": "stdout",
          "output_type": "stream",
          "text": [
            "\n",
            "      Epoch    GPU_mem   box_loss   cls_loss   dfl_loss  Instances       Size\n"
          ]
        },
        {
          "name": "stderr",
          "output_type": "stream",
          "text": [
            "      12/50      2.88G       1.24      2.395      1.124         37        640: 100%|██████████| 51/51 [00:06<00:00,  7.52it/s]\n",
            "                 Class     Images  Instances      Box(P          R      mAP50  mAP50-95): 100%|██████████| 4/4 [00:00<00:00,  7.22it/s]\n"
          ]
        },
        {
          "name": "stdout",
          "output_type": "stream",
          "text": [
            "                   all        101        224      0.199      0.252      0.163      0.101\n",
            "\n",
            "      Epoch    GPU_mem   box_loss   cls_loss   dfl_loss  Instances       Size\n"
          ]
        },
        {
          "name": "stderr",
          "output_type": "stream",
          "text": [
            "      13/50      2.89G      1.253      2.389      1.152         44        640: 100%|██████████| 51/51 [00:06<00:00,  7.56it/s]\n",
            "                 Class     Images  Instances      Box(P          R      mAP50  mAP50-95): 100%|██████████| 4/4 [00:00<00:00,  6.90it/s]"
          ]
        },
        {
          "name": "stdout",
          "output_type": "stream",
          "text": [
            "                   all        101        224      0.242      0.223      0.159      0.112\n"
          ]
        },
        {
          "name": "stderr",
          "output_type": "stream",
          "text": [
            "\n"
          ]
        },
        {
          "name": "stdout",
          "output_type": "stream",
          "text": [
            "\n",
            "      Epoch    GPU_mem   box_loss   cls_loss   dfl_loss  Instances       Size\n"
          ]
        },
        {
          "name": "stderr",
          "output_type": "stream",
          "text": [
            "      14/50      2.91G      1.259      2.274      1.139         40        640: 100%|██████████| 51/51 [00:06<00:00,  7.47it/s]\n",
            "                 Class     Images  Instances      Box(P          R      mAP50  mAP50-95): 100%|██████████| 4/4 [00:00<00:00,  7.60it/s]"
          ]
        },
        {
          "name": "stdout",
          "output_type": "stream",
          "text": [
            "                   all        101        224      0.273      0.265      0.223      0.152\n"
          ]
        },
        {
          "name": "stderr",
          "output_type": "stream",
          "text": [
            "\n"
          ]
        },
        {
          "name": "stdout",
          "output_type": "stream",
          "text": [
            "\n",
            "      Epoch    GPU_mem   box_loss   cls_loss   dfl_loss  Instances       Size\n"
          ]
        },
        {
          "name": "stderr",
          "output_type": "stream",
          "text": [
            "      15/50      2.92G      1.199      2.163      1.105         56        640: 100%|██████████| 51/51 [00:06<00:00,  7.65it/s]\n",
            "                 Class     Images  Instances      Box(P          R      mAP50  mAP50-95): 100%|██████████| 4/4 [00:00<00:00,  8.84it/s]"
          ]
        },
        {
          "name": "stdout",
          "output_type": "stream",
          "text": [
            "                   all        101        224      0.262      0.267      0.227      0.157\n"
          ]
        },
        {
          "name": "stderr",
          "output_type": "stream",
          "text": [
            "\n"
          ]
        },
        {
          "name": "stdout",
          "output_type": "stream",
          "text": [
            "\n",
            "      Epoch    GPU_mem   box_loss   cls_loss   dfl_loss  Instances       Size\n"
          ]
        },
        {
          "name": "stderr",
          "output_type": "stream",
          "text": [
            "      16/50      2.94G      1.219      2.169      1.111         26        640: 100%|██████████| 51/51 [00:06<00:00,  7.53it/s]\n",
            "                 Class     Images  Instances      Box(P          R      mAP50  mAP50-95): 100%|██████████| 4/4 [00:00<00:00,  6.75it/s]"
          ]
        },
        {
          "name": "stdout",
          "output_type": "stream",
          "text": [
            "                   all        101        224      0.225      0.317      0.228      0.161\n"
          ]
        },
        {
          "name": "stderr",
          "output_type": "stream",
          "text": [
            "\n"
          ]
        },
        {
          "name": "stdout",
          "output_type": "stream",
          "text": [
            "\n",
            "      Epoch    GPU_mem   box_loss   cls_loss   dfl_loss  Instances       Size\n"
          ]
        },
        {
          "name": "stderr",
          "output_type": "stream",
          "text": [
            "      17/50      2.95G      1.195      2.098      1.119         40        640: 100%|██████████| 51/51 [00:06<00:00,  7.37it/s]\n",
            "                 Class     Images  Instances      Box(P          R      mAP50  mAP50-95): 100%|██████████| 4/4 [00:00<00:00,  9.64it/s]"
          ]
        },
        {
          "name": "stdout",
          "output_type": "stream",
          "text": [
            "                   all        101        224      0.294      0.254      0.217      0.158\n"
          ]
        },
        {
          "name": "stderr",
          "output_type": "stream",
          "text": [
            "\n"
          ]
        },
        {
          "name": "stdout",
          "output_type": "stream",
          "text": [
            "\n",
            "      Epoch    GPU_mem   box_loss   cls_loss   dfl_loss  Instances       Size\n"
          ]
        },
        {
          "name": "stderr",
          "output_type": "stream",
          "text": [
            "      18/50      2.97G      1.205      2.087      1.102         55        640: 100%|██████████| 51/51 [00:06<00:00,  7.39it/s]\n",
            "                 Class     Images  Instances      Box(P          R      mAP50  mAP50-95): 100%|██████████| 4/4 [00:00<00:00,  7.91it/s]"
          ]
        },
        {
          "name": "stdout",
          "output_type": "stream",
          "text": [
            "                   all        101        224      0.231      0.332      0.238      0.167\n"
          ]
        },
        {
          "name": "stderr",
          "output_type": "stream",
          "text": [
            "\n"
          ]
        },
        {
          "name": "stdout",
          "output_type": "stream",
          "text": [
            "\n",
            "      Epoch    GPU_mem   box_loss   cls_loss   dfl_loss  Instances       Size\n"
          ]
        },
        {
          "name": "stderr",
          "output_type": "stream",
          "text": [
            "      19/50      2.98G      1.189      2.061      1.095         64        640: 100%|██████████| 51/51 [00:06<00:00,  7.91it/s]\n",
            "                 Class     Images  Instances      Box(P          R      mAP50  mAP50-95): 100%|██████████| 4/4 [00:00<00:00,  8.28it/s]"
          ]
        },
        {
          "name": "stdout",
          "output_type": "stream",
          "text": [
            "                   all        101        224      0.266      0.278      0.232       0.16\n"
          ]
        },
        {
          "name": "stderr",
          "output_type": "stream",
          "text": [
            "\n"
          ]
        },
        {
          "name": "stdout",
          "output_type": "stream",
          "text": [
            "\n",
            "      Epoch    GPU_mem   box_loss   cls_loss   dfl_loss  Instances       Size\n"
          ]
        },
        {
          "name": "stderr",
          "output_type": "stream",
          "text": [
            "      20/50         3G      1.198      1.957      1.081         79        640: 100%|██████████| 51/51 [00:06<00:00,  7.73it/s]\n",
            "                 Class     Images  Instances      Box(P          R      mAP50  mAP50-95): 100%|██████████| 4/4 [00:00<00:00,  7.47it/s]"
          ]
        },
        {
          "name": "stdout",
          "output_type": "stream",
          "text": [
            "                   all        101        224      0.254      0.316      0.229       0.16\n"
          ]
        },
        {
          "name": "stderr",
          "output_type": "stream",
          "text": [
            "\n"
          ]
        },
        {
          "name": "stdout",
          "output_type": "stream",
          "text": [
            "\n",
            "      Epoch    GPU_mem   box_loss   cls_loss   dfl_loss  Instances       Size\n"
          ]
        },
        {
          "name": "stderr",
          "output_type": "stream",
          "text": [
            "      21/50      3.01G      1.198      1.943      1.088         29        640: 100%|██████████| 51/51 [00:06<00:00,  7.60it/s]\n",
            "                 Class     Images  Instances      Box(P          R      mAP50  mAP50-95): 100%|██████████| 4/4 [00:00<00:00,  7.03it/s]"
          ]
        },
        {
          "name": "stdout",
          "output_type": "stream",
          "text": [
            "                   all        101        224      0.272      0.315      0.245      0.175\n"
          ]
        },
        {
          "name": "stderr",
          "output_type": "stream",
          "text": [
            "\n"
          ]
        },
        {
          "name": "stdout",
          "output_type": "stream",
          "text": [
            "\n",
            "      Epoch    GPU_mem   box_loss   cls_loss   dfl_loss  Instances       Size\n"
          ]
        },
        {
          "name": "stderr",
          "output_type": "stream",
          "text": [
            "      22/50      3.03G      1.128      1.879      1.065         76        640: 100%|██████████| 51/51 [00:06<00:00,  7.52it/s]\n",
            "                 Class     Images  Instances      Box(P          R      mAP50  mAP50-95): 100%|██████████| 4/4 [00:00<00:00,  7.64it/s]"
          ]
        },
        {
          "name": "stdout",
          "output_type": "stream",
          "text": [
            "                   all        101        224       0.28      0.335      0.259      0.173\n"
          ]
        },
        {
          "name": "stderr",
          "output_type": "stream",
          "text": [
            "\n"
          ]
        },
        {
          "name": "stdout",
          "output_type": "stream",
          "text": [
            "\n",
            "      Epoch    GPU_mem   box_loss   cls_loss   dfl_loss  Instances       Size\n"
          ]
        },
        {
          "name": "stderr",
          "output_type": "stream",
          "text": [
            "      23/50      3.04G      1.121       1.85      1.061         31        640: 100%|██████████| 51/51 [00:06<00:00,  7.73it/s]\n",
            "                 Class     Images  Instances      Box(P          R      mAP50  mAP50-95): 100%|██████████| 4/4 [00:00<00:00,  7.11it/s]"
          ]
        },
        {
          "name": "stdout",
          "output_type": "stream",
          "text": [
            "                   all        101        224      0.309      0.314      0.266      0.182\n"
          ]
        },
        {
          "name": "stderr",
          "output_type": "stream",
          "text": [
            "\n"
          ]
        },
        {
          "name": "stdout",
          "output_type": "stream",
          "text": [
            "\n",
            "      Epoch    GPU_mem   box_loss   cls_loss   dfl_loss  Instances       Size\n"
          ]
        },
        {
          "name": "stderr",
          "output_type": "stream",
          "text": [
            "      24/50      3.06G      1.136      1.823      1.067         33        640: 100%|██████████| 51/51 [00:06<00:00,  7.46it/s]\n",
            "                 Class     Images  Instances      Box(P          R      mAP50  mAP50-95): 100%|██████████| 4/4 [00:00<00:00, 10.16it/s]"
          ]
        },
        {
          "name": "stdout",
          "output_type": "stream",
          "text": [
            "                   all        101        224      0.281      0.342      0.261      0.181\n"
          ]
        },
        {
          "name": "stderr",
          "output_type": "stream",
          "text": [
            "\n"
          ]
        },
        {
          "name": "stdout",
          "output_type": "stream",
          "text": [
            "\n",
            "      Epoch    GPU_mem   box_loss   cls_loss   dfl_loss  Instances       Size\n"
          ]
        },
        {
          "name": "stderr",
          "output_type": "stream",
          "text": [
            "      25/50      3.07G       1.12      1.756      1.066         44        640: 100%|██████████| 51/51 [00:06<00:00,  7.58it/s]\n",
            "                 Class     Images  Instances      Box(P          R      mAP50  mAP50-95): 100%|██████████| 4/4 [00:00<00:00,  7.49it/s]"
          ]
        },
        {
          "name": "stdout",
          "output_type": "stream",
          "text": [
            "                   all        101        224       0.27      0.314      0.259      0.179\n"
          ]
        },
        {
          "name": "stderr",
          "output_type": "stream",
          "text": [
            "\n"
          ]
        },
        {
          "name": "stdout",
          "output_type": "stream",
          "text": [
            "\n",
            "      Epoch    GPU_mem   box_loss   cls_loss   dfl_loss  Instances       Size\n"
          ]
        },
        {
          "name": "stderr",
          "output_type": "stream",
          "text": [
            "      26/50      3.09G      1.092      1.714      1.041         51        640: 100%|██████████| 51/51 [00:06<00:00,  7.44it/s]\n",
            "                 Class     Images  Instances      Box(P          R      mAP50  mAP50-95): 100%|██████████| 4/4 [00:00<00:00,  7.63it/s]"
          ]
        },
        {
          "name": "stdout",
          "output_type": "stream",
          "text": [
            "                   all        101        224      0.295      0.329      0.254      0.181\n"
          ]
        },
        {
          "name": "stderr",
          "output_type": "stream",
          "text": [
            "\n"
          ]
        },
        {
          "name": "stdout",
          "output_type": "stream",
          "text": [
            "\n",
            "      Epoch    GPU_mem   box_loss   cls_loss   dfl_loss  Instances       Size\n"
          ]
        },
        {
          "name": "stderr",
          "output_type": "stream",
          "text": [
            "      27/50       3.1G      1.073      1.668      1.048         40        640: 100%|██████████| 51/51 [00:07<00:00,  7.28it/s]\n",
            "                 Class     Images  Instances      Box(P          R      mAP50  mAP50-95): 100%|██████████| 4/4 [00:00<00:00,  7.44it/s]"
          ]
        },
        {
          "name": "stdout",
          "output_type": "stream",
          "text": [
            "                   all        101        224      0.242      0.308      0.224      0.167\n"
          ]
        },
        {
          "name": "stderr",
          "output_type": "stream",
          "text": [
            "\n"
          ]
        },
        {
          "name": "stdout",
          "output_type": "stream",
          "text": [
            "\n",
            "      Epoch    GPU_mem   box_loss   cls_loss   dfl_loss  Instances       Size\n"
          ]
        },
        {
          "name": "stderr",
          "output_type": "stream",
          "text": [
            "      28/50      3.12G      1.101      1.653       1.06         31        640: 100%|██████████| 51/51 [00:06<00:00,  7.60it/s]\n",
            "                 Class     Images  Instances      Box(P          R      mAP50  mAP50-95): 100%|██████████| 4/4 [00:00<00:00,  7.83it/s]"
          ]
        },
        {
          "name": "stdout",
          "output_type": "stream",
          "text": [
            "                   all        101        224      0.265      0.304      0.249      0.179\n"
          ]
        },
        {
          "name": "stderr",
          "output_type": "stream",
          "text": [
            "\n"
          ]
        },
        {
          "name": "stdout",
          "output_type": "stream",
          "text": [
            "\n",
            "      Epoch    GPU_mem   box_loss   cls_loss   dfl_loss  Instances       Size\n"
          ]
        },
        {
          "name": "stderr",
          "output_type": "stream",
          "text": [
            "      29/50      3.13G      1.052      1.599      1.043         33        640: 100%|██████████| 51/51 [00:06<00:00,  7.90it/s]\n",
            "                 Class     Images  Instances      Box(P          R      mAP50  mAP50-95): 100%|██████████| 4/4 [00:00<00:00,  7.95it/s]"
          ]
        },
        {
          "name": "stdout",
          "output_type": "stream",
          "text": [
            "                   all        101        224      0.395        0.3      0.279      0.199\n"
          ]
        },
        {
          "name": "stderr",
          "output_type": "stream",
          "text": [
            "\n"
          ]
        },
        {
          "name": "stdout",
          "output_type": "stream",
          "text": [
            "\n",
            "      Epoch    GPU_mem   box_loss   cls_loss   dfl_loss  Instances       Size\n"
          ]
        },
        {
          "name": "stderr",
          "output_type": "stream",
          "text": [
            "      30/50      3.14G      1.049      1.543      1.038         47        640: 100%|██████████| 51/51 [00:06<00:00,  7.97it/s]\n",
            "                 Class     Images  Instances      Box(P          R      mAP50  mAP50-95): 100%|██████████| 4/4 [00:00<00:00,  8.35it/s]"
          ]
        },
        {
          "name": "stdout",
          "output_type": "stream",
          "text": [
            "                   all        101        224      0.265      0.332      0.254      0.178\n"
          ]
        },
        {
          "name": "stderr",
          "output_type": "stream",
          "text": [
            "\n"
          ]
        },
        {
          "name": "stdout",
          "output_type": "stream",
          "text": [
            "\n",
            "      Epoch    GPU_mem   box_loss   cls_loss   dfl_loss  Instances       Size\n"
          ]
        },
        {
          "name": "stderr",
          "output_type": "stream",
          "text": [
            "      31/50      3.16G      1.053      1.505      1.034         74        640: 100%|██████████| 51/51 [00:06<00:00,  7.44it/s]\n",
            "                 Class     Images  Instances      Box(P          R      mAP50  mAP50-95): 100%|██████████| 4/4 [00:00<00:00,  8.91it/s]\n"
          ]
        },
        {
          "name": "stdout",
          "output_type": "stream",
          "text": [
            "                   all        101        224      0.398      0.303      0.277      0.201\n",
            "\n",
            "      Epoch    GPU_mem   box_loss   cls_loss   dfl_loss  Instances       Size\n"
          ]
        },
        {
          "name": "stderr",
          "output_type": "stream",
          "text": [
            "      32/50      3.18G      1.036      1.494      1.023        113        640: 100%|██████████| 51/51 [00:06<00:00,  7.62it/s]\n",
            "                 Class     Images  Instances      Box(P          R      mAP50  mAP50-95): 100%|██████████| 4/4 [00:00<00:00,  8.74it/s]"
          ]
        },
        {
          "name": "stdout",
          "output_type": "stream",
          "text": [
            "                   all        101        224      0.287      0.288      0.256      0.184\n"
          ]
        },
        {
          "name": "stderr",
          "output_type": "stream",
          "text": [
            "\n"
          ]
        },
        {
          "name": "stdout",
          "output_type": "stream",
          "text": [
            "\n",
            "      Epoch    GPU_mem   box_loss   cls_loss   dfl_loss  Instances       Size\n"
          ]
        },
        {
          "name": "stderr",
          "output_type": "stream",
          "text": [
            "      33/50      3.19G      1.043      1.508      1.025         65        640: 100%|██████████| 51/51 [00:06<00:00,  7.50it/s]\n",
            "                 Class     Images  Instances      Box(P          R      mAP50  mAP50-95): 100%|██████████| 4/4 [00:00<00:00,  8.51it/s]\n"
          ]
        },
        {
          "name": "stdout",
          "output_type": "stream",
          "text": [
            "                   all        101        224      0.322      0.337      0.278        0.2\n",
            "\n",
            "      Epoch    GPU_mem   box_loss   cls_loss   dfl_loss  Instances       Size\n"
          ]
        },
        {
          "name": "stderr",
          "output_type": "stream",
          "text": [
            "      34/50       3.2G      1.015      1.485      1.023         61        640: 100%|██████████| 51/51 [00:06<00:00,  7.46it/s]\n",
            "                 Class     Images  Instances      Box(P          R      mAP50  mAP50-95): 100%|██████████| 4/4 [00:00<00:00,  8.12it/s]"
          ]
        },
        {
          "name": "stdout",
          "output_type": "stream",
          "text": [
            "                   all        101        224      0.281       0.33       0.27      0.199\n"
          ]
        },
        {
          "name": "stderr",
          "output_type": "stream",
          "text": [
            "\n"
          ]
        },
        {
          "name": "stdout",
          "output_type": "stream",
          "text": [
            "\n",
            "      Epoch    GPU_mem   box_loss   cls_loss   dfl_loss  Instances       Size\n"
          ]
        },
        {
          "name": "stderr",
          "output_type": "stream",
          "text": [
            "      35/50      3.22G      1.007      1.412      1.017         40        640: 100%|██████████| 51/51 [00:06<00:00,  7.70it/s]\n",
            "                 Class     Images  Instances      Box(P          R      mAP50  mAP50-95): 100%|██████████| 4/4 [00:00<00:00,  7.25it/s]"
          ]
        },
        {
          "name": "stdout",
          "output_type": "stream",
          "text": [
            "                   all        101        224      0.386      0.255      0.286      0.204\n"
          ]
        },
        {
          "name": "stderr",
          "output_type": "stream",
          "text": [
            "\n"
          ]
        },
        {
          "name": "stdout",
          "output_type": "stream",
          "text": [
            "\n",
            "      Epoch    GPU_mem   box_loss   cls_loss   dfl_loss  Instances       Size\n"
          ]
        },
        {
          "name": "stderr",
          "output_type": "stream",
          "text": [
            "      36/50      3.23G      1.008      1.385      1.009         83        640: 100%|██████████| 51/51 [00:06<00:00,  7.71it/s]\n",
            "                 Class     Images  Instances      Box(P          R      mAP50  mAP50-95): 100%|██████████| 4/4 [00:00<00:00,  7.39it/s]"
          ]
        },
        {
          "name": "stdout",
          "output_type": "stream",
          "text": [
            "                   all        101        224      0.364      0.288      0.269      0.198\n"
          ]
        },
        {
          "name": "stderr",
          "output_type": "stream",
          "text": [
            "\n"
          ]
        },
        {
          "name": "stdout",
          "output_type": "stream",
          "text": [
            "\n",
            "      Epoch    GPU_mem   box_loss   cls_loss   dfl_loss  Instances       Size\n"
          ]
        },
        {
          "name": "stderr",
          "output_type": "stream",
          "text": [
            "      37/50      3.25G      1.024      1.378       1.01         60        640: 100%|██████████| 51/51 [00:06<00:00,  7.84it/s]\n",
            "                 Class     Images  Instances      Box(P          R      mAP50  mAP50-95): 100%|██████████| 4/4 [00:00<00:00,  8.73it/s]\n"
          ]
        },
        {
          "name": "stdout",
          "output_type": "stream",
          "text": [
            "                   all        101        224      0.338      0.322      0.291      0.216\n",
            "\n",
            "      Epoch    GPU_mem   box_loss   cls_loss   dfl_loss  Instances       Size\n"
          ]
        },
        {
          "name": "stderr",
          "output_type": "stream",
          "text": [
            "      38/50      3.26G      1.009      1.363      1.007         42        640: 100%|██████████| 51/51 [00:06<00:00,  7.58it/s]\n",
            "                 Class     Images  Instances      Box(P          R      mAP50  mAP50-95): 100%|██████████| 4/4 [00:00<00:00,  7.14it/s]"
          ]
        },
        {
          "name": "stdout",
          "output_type": "stream",
          "text": [
            "                   all        101        224       0.34      0.308      0.277        0.2\n"
          ]
        },
        {
          "name": "stderr",
          "output_type": "stream",
          "text": [
            "\n"
          ]
        },
        {
          "name": "stdout",
          "output_type": "stream",
          "text": [
            "\n",
            "      Epoch    GPU_mem   box_loss   cls_loss   dfl_loss  Instances       Size\n"
          ]
        },
        {
          "name": "stderr",
          "output_type": "stream",
          "text": [
            "      39/50      3.28G     0.9509      1.311      0.993         57        640: 100%|██████████| 51/51 [00:06<00:00,  7.39it/s]\n",
            "                 Class     Images  Instances      Box(P          R      mAP50  mAP50-95): 100%|██████████| 4/4 [00:00<00:00,  6.81it/s]"
          ]
        },
        {
          "name": "stdout",
          "output_type": "stream",
          "text": [
            "                   all        101        224      0.335      0.281      0.279      0.201\n"
          ]
        },
        {
          "name": "stderr",
          "output_type": "stream",
          "text": [
            "\n"
          ]
        },
        {
          "name": "stdout",
          "output_type": "stream",
          "text": [
            "\n",
            "      Epoch    GPU_mem   box_loss   cls_loss   dfl_loss  Instances       Size\n"
          ]
        },
        {
          "name": "stderr",
          "output_type": "stream",
          "text": [
            "      40/50      3.29G     0.9574      1.283     0.9938         41        640: 100%|██████████| 51/51 [00:06<00:00,  7.68it/s]\n",
            "                 Class     Images  Instances      Box(P          R      mAP50  mAP50-95): 100%|██████████| 4/4 [00:00<00:00,  7.87it/s]\n"
          ]
        },
        {
          "name": "stdout",
          "output_type": "stream",
          "text": [
            "                   all        101        224      0.257      0.324      0.283      0.202\n",
            "Closing dataloader mosaic\n",
            "\n",
            "      Epoch    GPU_mem   box_loss   cls_loss   dfl_loss  Instances       Size\n"
          ]
        },
        {
          "name": "stderr",
          "output_type": "stream",
          "text": [
            "      41/50      3.31G      0.917      1.371     0.9536         19        640: 100%|██████████| 51/51 [00:09<00:00,  5.66it/s]\n",
            "                 Class     Images  Instances      Box(P          R      mAP50  mAP50-95): 100%|██████████| 4/4 [00:00<00:00,  7.64it/s]"
          ]
        },
        {
          "name": "stdout",
          "output_type": "stream",
          "text": [
            "                   all        101        224      0.343      0.274      0.276      0.204\n"
          ]
        },
        {
          "name": "stderr",
          "output_type": "stream",
          "text": [
            "\n"
          ]
        },
        {
          "name": "stdout",
          "output_type": "stream",
          "text": [
            "\n",
            "      Epoch    GPU_mem   box_loss   cls_loss   dfl_loss  Instances       Size\n"
          ]
        },
        {
          "name": "stderr",
          "output_type": "stream",
          "text": [
            "      42/50      3.32G     0.9032      1.247     0.9453         20        640: 100%|██████████| 51/51 [00:06<00:00,  7.72it/s]\n",
            "                 Class     Images  Instances      Box(P          R      mAP50  mAP50-95): 100%|██████████| 4/4 [00:00<00:00,  7.00it/s]"
          ]
        },
        {
          "name": "stdout",
          "output_type": "stream",
          "text": [
            "                   all        101        224      0.353      0.247      0.275        0.2\n"
          ]
        },
        {
          "name": "stderr",
          "output_type": "stream",
          "text": [
            "\n"
          ]
        },
        {
          "name": "stdout",
          "output_type": "stream",
          "text": [
            "\n",
            "      Epoch    GPU_mem   box_loss   cls_loss   dfl_loss  Instances       Size\n"
          ]
        },
        {
          "name": "stderr",
          "output_type": "stream",
          "text": [
            "      43/50      3.34G     0.8594      1.168     0.9327         21        640: 100%|██████████| 51/51 [00:06<00:00,  7.62it/s]\n",
            "                 Class     Images  Instances      Box(P          R      mAP50  mAP50-95): 100%|██████████| 4/4 [00:00<00:00,  6.96it/s]"
          ]
        },
        {
          "name": "stdout",
          "output_type": "stream",
          "text": [
            "                   all        101        224       0.32      0.265      0.265      0.195\n"
          ]
        },
        {
          "name": "stderr",
          "output_type": "stream",
          "text": [
            "\n"
          ]
        },
        {
          "name": "stdout",
          "output_type": "stream",
          "text": [
            "\n",
            "      Epoch    GPU_mem   box_loss   cls_loss   dfl_loss  Instances       Size\n"
          ]
        },
        {
          "name": "stderr",
          "output_type": "stream",
          "text": [
            "      44/50      3.35G     0.8739      1.174     0.9405         17        640: 100%|██████████| 51/51 [00:06<00:00,  7.76it/s]\n",
            "                 Class     Images  Instances      Box(P          R      mAP50  mAP50-95): 100%|██████████| 4/4 [00:00<00:00,  8.64it/s]"
          ]
        },
        {
          "name": "stdout",
          "output_type": "stream",
          "text": [
            "                   all        101        224      0.333       0.23       0.24       0.18\n"
          ]
        },
        {
          "name": "stderr",
          "output_type": "stream",
          "text": [
            "\n"
          ]
        },
        {
          "name": "stdout",
          "output_type": "stream",
          "text": [
            "\n",
            "      Epoch    GPU_mem   box_loss   cls_loss   dfl_loss  Instances       Size\n"
          ]
        },
        {
          "name": "stderr",
          "output_type": "stream",
          "text": [
            "      45/50      3.37G     0.8322      1.109     0.9264         19        640: 100%|██████████| 51/51 [00:06<00:00,  7.68it/s]\n",
            "                 Class     Images  Instances      Box(P          R      mAP50  mAP50-95): 100%|██████████| 4/4 [00:00<00:00,  7.28it/s]"
          ]
        },
        {
          "name": "stdout",
          "output_type": "stream",
          "text": [
            "                   all        101        224      0.342      0.246      0.251      0.189\n"
          ]
        },
        {
          "name": "stderr",
          "output_type": "stream",
          "text": [
            "\n"
          ]
        },
        {
          "name": "stdout",
          "output_type": "stream",
          "text": [
            "\n",
            "      Epoch    GPU_mem   box_loss   cls_loss   dfl_loss  Instances       Size\n"
          ]
        },
        {
          "name": "stderr",
          "output_type": "stream",
          "text": [
            "      46/50      3.38G     0.8541      1.108     0.9373         56        640: 100%|██████████| 51/51 [00:06<00:00,  7.82it/s]\n",
            "                 Class     Images  Instances      Box(P          R      mAP50  mAP50-95): 100%|██████████| 4/4 [00:00<00:00,  7.65it/s]"
          ]
        },
        {
          "name": "stdout",
          "output_type": "stream",
          "text": [
            "                   all        101        224      0.273      0.318      0.282      0.204\n"
          ]
        },
        {
          "name": "stderr",
          "output_type": "stream",
          "text": [
            "\n"
          ]
        },
        {
          "name": "stdout",
          "output_type": "stream",
          "text": [
            "\n",
            "      Epoch    GPU_mem   box_loss   cls_loss   dfl_loss  Instances       Size\n"
          ]
        },
        {
          "name": "stderr",
          "output_type": "stream",
          "text": [
            "      47/50       3.4G     0.8454      1.094      0.924         16        640: 100%|██████████| 51/51 [00:06<00:00,  7.68it/s]\n",
            "                 Class     Images  Instances      Box(P          R      mAP50  mAP50-95): 100%|██████████| 4/4 [00:00<00:00,  7.39it/s]"
          ]
        },
        {
          "name": "stdout",
          "output_type": "stream",
          "text": [
            "                   all        101        224      0.278      0.277      0.277      0.207\n"
          ]
        },
        {
          "name": "stderr",
          "output_type": "stream",
          "text": [
            "\n"
          ]
        },
        {
          "name": "stdout",
          "output_type": "stream",
          "text": [
            "\n",
            "      Epoch    GPU_mem   box_loss   cls_loss   dfl_loss  Instances       Size\n"
          ]
        },
        {
          "name": "stderr",
          "output_type": "stream",
          "text": [
            "      48/50      3.41G     0.8263      1.042     0.9227         19        640: 100%|██████████| 51/51 [00:06<00:00,  7.67it/s]\n",
            "                 Class     Images  Instances      Box(P          R      mAP50  mAP50-95): 100%|██████████| 4/4 [00:00<00:00,  6.70it/s]"
          ]
        },
        {
          "name": "stdout",
          "output_type": "stream",
          "text": [
            "                   all        101        224      0.246      0.345      0.275      0.205\n"
          ]
        },
        {
          "name": "stderr",
          "output_type": "stream",
          "text": [
            "\n"
          ]
        },
        {
          "name": "stdout",
          "output_type": "stream",
          "text": [
            "\n",
            "      Epoch    GPU_mem   box_loss   cls_loss   dfl_loss  Instances       Size\n"
          ]
        },
        {
          "name": "stderr",
          "output_type": "stream",
          "text": [
            "      49/50      3.43G      0.832      1.056     0.9239         19        640: 100%|██████████| 51/51 [00:06<00:00,  7.90it/s]\n",
            "                 Class     Images  Instances      Box(P          R      mAP50  mAP50-95): 100%|██████████| 4/4 [00:00<00:00,  7.20it/s]"
          ]
        },
        {
          "name": "stdout",
          "output_type": "stream",
          "text": [
            "                   all        101        224      0.327      0.267      0.272      0.198\n"
          ]
        },
        {
          "name": "stderr",
          "output_type": "stream",
          "text": [
            "\n"
          ]
        },
        {
          "name": "stdout",
          "output_type": "stream",
          "text": [
            "\n",
            "      Epoch    GPU_mem   box_loss   cls_loss   dfl_loss  Instances       Size\n"
          ]
        },
        {
          "name": "stderr",
          "output_type": "stream",
          "text": [
            "      50/50      3.44G     0.8281      1.036     0.9293         22        640: 100%|██████████| 51/51 [00:06<00:00,  7.89it/s]\n",
            "                 Class     Images  Instances      Box(P          R      mAP50  mAP50-95): 100%|██████████| 4/4 [00:00<00:00,  7.24it/s]"
          ]
        },
        {
          "name": "stdout",
          "output_type": "stream",
          "text": [
            "                   all        101        224       0.38      0.244      0.276      0.202\n"
          ]
        },
        {
          "name": "stderr",
          "output_type": "stream",
          "text": [
            "\n"
          ]
        },
        {
          "name": "stdout",
          "output_type": "stream",
          "text": [
            "\n",
            "50 epochs completed in 0.108 hours.\n",
            "Optimizer stripped from runs/detect/train/weights/last.pt, 5.5MB\n",
            "Optimizer stripped from runs/detect/train/weights/best.pt, 5.5MB\n",
            "\n",
            "Validating runs/detect/train/weights/best.pt...\n",
            "Ultralytics 8.3.170 🚀 Python-3.12.3 torch-2.7.1+cu126 CUDA:0 (NVIDIA GeForce RTX 3090 Ti, 24241MiB)\n",
            "YOLO11n summary (fused): 100 layers, 2,583,712 parameters, 0 gradients, 6.3 GFLOPs\n"
          ]
        },
        {
          "name": "stderr",
          "output_type": "stream",
          "text": [
            "                 Class     Images  Instances      Box(P          R      mAP50  mAP50-95): 100%|██████████| 4/4 [00:00<00:00,  4.50it/s]\n"
          ]
        },
        {
          "name": "stdout",
          "output_type": "stream",
          "text": [
            "                   all        101        224      0.337      0.321       0.29      0.216\n",
            "  Clear plastic bottle         20         24      0.555      0.792      0.788      0.686\n",
            "             Drink can         22         26      0.294      0.192      0.182     0.0957\n",
            "    Plastic bottle cap         19         35      0.479      0.498      0.533      0.401\n",
            "         Other plastic         16         24      0.123     0.0417     0.0412     0.0229\n",
            "          Plastic film         35         39      0.485      0.338      0.293       0.21\n",
            " Other plastic wrapper         16         24       0.24      0.329      0.129     0.0645\n",
            "      Unlabeled litter         26         52      0.186     0.0577     0.0613     0.0307\n",
            "Speed: 0.3ms preprocess, 0.7ms inference, 0.0ms loss, 3.6ms postprocess per image\n",
            "Results saved to \u001b[1mruns/detect/train\u001b[0m\n",
            "Ultralytics 8.3.170 🚀 Python-3.12.3 torch-2.7.1+cu126 CUDA:0 (NVIDIA GeForce RTX 3090 Ti, 24241MiB)\n",
            "YOLO11n summary (fused): 100 layers, 2,583,712 parameters, 0 gradients, 6.3 GFLOPs\n",
            "\u001b[34m\u001b[1mval: \u001b[0mFast image access ✅ (ping: 0.0±0.0 ms, read: 6532.7±3968.5 MB/s, size: 1288.7 KB)\n"
          ]
        },
        {
          "name": "stderr",
          "output_type": "stream",
          "text": [
            "\u001b[34m\u001b[1mval: \u001b[0mScanning /home/ose/Documents/Proyecto Yandri CEIA/taco/val/labels.cache... 101 images, 0 backgrounds, 0 corrupt: 100%|██████████| 101/101 [00:00<?, ?it/s]\n",
            "                 Class     Images  Instances      Box(P          R      mAP50  mAP50-95): 100%|██████████| 7/7 [00:02<00:00,  2.63it/s]\n"
          ]
        },
        {
          "name": "stdout",
          "output_type": "stream",
          "text": [
            "                   all        101        224      0.337       0.32      0.292      0.219\n",
            "  Clear plastic bottle         20         24      0.557      0.792      0.795      0.694\n",
            "             Drink can         22         26      0.296      0.192      0.182     0.0964\n",
            "    Plastic bottle cap         19         35      0.489       0.52      0.547      0.415\n",
            "         Other plastic         16         24      0.126     0.0417     0.0357     0.0191\n",
            "          Plastic film         35         39      0.473      0.359      0.293      0.207\n",
            " Other plastic wrapper         16         24      0.217      0.277      0.133     0.0676\n",
            "      Unlabeled litter         26         52      0.201     0.0577      0.062     0.0302\n",
            "Speed: 1.8ms preprocess, 9.7ms inference, 0.0ms loss, 1.4ms postprocess per image\n",
            "Results saved to \u001b[1mruns/detect/train2\u001b[0m\n"
          ]
        },
        {
          "data": {
            "text/plain": [
              "ultralytics.utils.metrics.DetMetrics object with attributes:\n",
              "\n",
              "ap_class_index: array([0, 1, 2, 3, 4, 5, 6])\n",
              "box: ultralytics.utils.metrics.Metric object\n",
              "confusion_matrix: <ultralytics.utils.metrics.ConfusionMatrix object at 0x78a3f271dbe0>\n",
              "curves: ['Precision-Recall(B)', 'F1-Confidence(B)', 'Precision-Confidence(B)', 'Recall-Confidence(B)']\n",
              "curves_results: [[array([          0,    0.001001,    0.002002,    0.003003,    0.004004,    0.005005,    0.006006,    0.007007,    0.008008,    0.009009,     0.01001,    0.011011,    0.012012,    0.013013,    0.014014,    0.015015,    0.016016,    0.017017,    0.018018,    0.019019,     0.02002,    0.021021,    0.022022,    0.023023,\n",
              "          0.024024,    0.025025,    0.026026,    0.027027,    0.028028,    0.029029,     0.03003,    0.031031,    0.032032,    0.033033,    0.034034,    0.035035,    0.036036,    0.037037,    0.038038,    0.039039,     0.04004,    0.041041,    0.042042,    0.043043,    0.044044,    0.045045,    0.046046,    0.047047,\n",
              "          0.048048,    0.049049,     0.05005,    0.051051,    0.052052,    0.053053,    0.054054,    0.055055,    0.056056,    0.057057,    0.058058,    0.059059,     0.06006,    0.061061,    0.062062,    0.063063,    0.064064,    0.065065,    0.066066,    0.067067,    0.068068,    0.069069,     0.07007,    0.071071,\n",
              "          0.072072,    0.073073,    0.074074,    0.075075,    0.076076,    0.077077,    0.078078,    0.079079,     0.08008,    0.081081,    0.082082,    0.083083,    0.084084,    0.085085,    0.086086,    0.087087,    0.088088,    0.089089,     0.09009,    0.091091,    0.092092,    0.093093,    0.094094,    0.095095,\n",
              "          0.096096,    0.097097,    0.098098,    0.099099,      0.1001,      0.1011,      0.1021,      0.1031,      0.1041,     0.10511,     0.10611,     0.10711,     0.10811,     0.10911,     0.11011,     0.11111,     0.11211,     0.11311,     0.11411,     0.11512,     0.11612,     0.11712,     0.11812,     0.11912,\n",
              "           0.12012,     0.12112,     0.12212,     0.12312,     0.12412,     0.12513,     0.12613,     0.12713,     0.12813,     0.12913,     0.13013,     0.13113,     0.13213,     0.13313,     0.13413,     0.13514,     0.13614,     0.13714,     0.13814,     0.13914,     0.14014,     0.14114,     0.14214,     0.14314,\n",
              "           0.14414,     0.14515,     0.14615,     0.14715,     0.14815,     0.14915,     0.15015,     0.15115,     0.15215,     0.15315,     0.15415,     0.15516,     0.15616,     0.15716,     0.15816,     0.15916,     0.16016,     0.16116,     0.16216,     0.16316,     0.16416,     0.16517,     0.16617,     0.16717,\n",
              "           0.16817,     0.16917,     0.17017,     0.17117,     0.17217,     0.17317,     0.17417,     0.17518,     0.17618,     0.17718,     0.17818,     0.17918,     0.18018,     0.18118,     0.18218,     0.18318,     0.18418,     0.18519,     0.18619,     0.18719,     0.18819,     0.18919,     0.19019,     0.19119,\n",
              "           0.19219,     0.19319,     0.19419,      0.1952,      0.1962,      0.1972,      0.1982,      0.1992,      0.2002,      0.2012,      0.2022,      0.2032,      0.2042,     0.20521,     0.20621,     0.20721,     0.20821,     0.20921,     0.21021,     0.21121,     0.21221,     0.21321,     0.21421,     0.21522,\n",
              "           0.21622,     0.21722,     0.21822,     0.21922,     0.22022,     0.22122,     0.22222,     0.22322,     0.22422,     0.22523,     0.22623,     0.22723,     0.22823,     0.22923,     0.23023,     0.23123,     0.23223,     0.23323,     0.23423,     0.23524,     0.23624,     0.23724,     0.23824,     0.23924,\n",
              "           0.24024,     0.24124,     0.24224,     0.24324,     0.24424,     0.24525,     0.24625,     0.24725,     0.24825,     0.24925,     0.25025,     0.25125,     0.25225,     0.25325,     0.25425,     0.25526,     0.25626,     0.25726,     0.25826,     0.25926,     0.26026,     0.26126,     0.26226,     0.26326,\n",
              "           0.26426,     0.26527,     0.26627,     0.26727,     0.26827,     0.26927,     0.27027,     0.27127,     0.27227,     0.27327,     0.27427,     0.27528,     0.27628,     0.27728,     0.27828,     0.27928,     0.28028,     0.28128,     0.28228,     0.28328,     0.28428,     0.28529,     0.28629,     0.28729,\n",
              "           0.28829,     0.28929,     0.29029,     0.29129,     0.29229,     0.29329,     0.29429,      0.2953,      0.2963,      0.2973,      0.2983,      0.2993,      0.3003,      0.3013,      0.3023,      0.3033,      0.3043,     0.30531,     0.30631,     0.30731,     0.30831,     0.30931,     0.31031,     0.31131,\n",
              "           0.31231,     0.31331,     0.31431,     0.31532,     0.31632,     0.31732,     0.31832,     0.31932,     0.32032,     0.32132,     0.32232,     0.32332,     0.32432,     0.32533,     0.32633,     0.32733,     0.32833,     0.32933,     0.33033,     0.33133,     0.33233,     0.33333,     0.33433,     0.33534,\n",
              "           0.33634,     0.33734,     0.33834,     0.33934,     0.34034,     0.34134,     0.34234,     0.34334,     0.34434,     0.34535,     0.34635,     0.34735,     0.34835,     0.34935,     0.35035,     0.35135,     0.35235,     0.35335,     0.35435,     0.35536,     0.35636,     0.35736,     0.35836,     0.35936,\n",
              "           0.36036,     0.36136,     0.36236,     0.36336,     0.36436,     0.36537,     0.36637,     0.36737,     0.36837,     0.36937,     0.37037,     0.37137,     0.37237,     0.37337,     0.37437,     0.37538,     0.37638,     0.37738,     0.37838,     0.37938,     0.38038,     0.38138,     0.38238,     0.38338,\n",
              "           0.38438,     0.38539,     0.38639,     0.38739,     0.38839,     0.38939,     0.39039,     0.39139,     0.39239,     0.39339,     0.39439,      0.3954,      0.3964,      0.3974,      0.3984,      0.3994,      0.4004,      0.4014,      0.4024,      0.4034,      0.4044,     0.40541,     0.40641,     0.40741,\n",
              "           0.40841,     0.40941,     0.41041,     0.41141,     0.41241,     0.41341,     0.41441,     0.41542,     0.41642,     0.41742,     0.41842,     0.41942,     0.42042,     0.42142,     0.42242,     0.42342,     0.42442,     0.42543,     0.42643,     0.42743,     0.42843,     0.42943,     0.43043,     0.43143,\n",
              "           0.43243,     0.43343,     0.43443,     0.43544,     0.43644,     0.43744,     0.43844,     0.43944,     0.44044,     0.44144,     0.44244,     0.44344,     0.44444,     0.44545,     0.44645,     0.44745,     0.44845,     0.44945,     0.45045,     0.45145,     0.45245,     0.45345,     0.45445,     0.45546,\n",
              "           0.45646,     0.45746,     0.45846,     0.45946,     0.46046,     0.46146,     0.46246,     0.46346,     0.46446,     0.46547,     0.46647,     0.46747,     0.46847,     0.46947,     0.47047,     0.47147,     0.47247,     0.47347,     0.47447,     0.47548,     0.47648,     0.47748,     0.47848,     0.47948,\n",
              "           0.48048,     0.48148,     0.48248,     0.48348,     0.48448,     0.48549,     0.48649,     0.48749,     0.48849,     0.48949,     0.49049,     0.49149,     0.49249,     0.49349,     0.49449,      0.4955,      0.4965,      0.4975,      0.4985,      0.4995,      0.5005,      0.5015,      0.5025,      0.5035,\n",
              "            0.5045,     0.50551,     0.50651,     0.50751,     0.50851,     0.50951,     0.51051,     0.51151,     0.51251,     0.51351,     0.51451,     0.51552,     0.51652,     0.51752,     0.51852,     0.51952,     0.52052,     0.52152,     0.52252,     0.52352,     0.52452,     0.52553,     0.52653,     0.52753,\n",
              "           0.52853,     0.52953,     0.53053,     0.53153,     0.53253,     0.53353,     0.53453,     0.53554,     0.53654,     0.53754,     0.53854,     0.53954,     0.54054,     0.54154,     0.54254,     0.54354,     0.54454,     0.54555,     0.54655,     0.54755,     0.54855,     0.54955,     0.55055,     0.55155,\n",
              "           0.55255,     0.55355,     0.55455,     0.55556,     0.55656,     0.55756,     0.55856,     0.55956,     0.56056,     0.56156,     0.56256,     0.56356,     0.56456,     0.56557,     0.56657,     0.56757,     0.56857,     0.56957,     0.57057,     0.57157,     0.57257,     0.57357,     0.57457,     0.57558,\n",
              "           0.57658,     0.57758,     0.57858,     0.57958,     0.58058,     0.58158,     0.58258,     0.58358,     0.58458,     0.58559,     0.58659,     0.58759,     0.58859,     0.58959,     0.59059,     0.59159,     0.59259,     0.59359,     0.59459,      0.5956,      0.5966,      0.5976,      0.5986,      0.5996,\n",
              "            0.6006,      0.6016,      0.6026,      0.6036,      0.6046,     0.60561,     0.60661,     0.60761,     0.60861,     0.60961,     0.61061,     0.61161,     0.61261,     0.61361,     0.61461,     0.61562,     0.61662,     0.61762,     0.61862,     0.61962,     0.62062,     0.62162,     0.62262,     0.62362,\n",
              "           0.62462,     0.62563,     0.62663,     0.62763,     0.62863,     0.62963,     0.63063,     0.63163,     0.63263,     0.63363,     0.63463,     0.63564,     0.63664,     0.63764,     0.63864,     0.63964,     0.64064,     0.64164,     0.64264,     0.64364,     0.64464,     0.64565,     0.64665,     0.64765,\n",
              "           0.64865,     0.64965,     0.65065,     0.65165,     0.65265,     0.65365,     0.65465,     0.65566,     0.65666,     0.65766,     0.65866,     0.65966,     0.66066,     0.66166,     0.66266,     0.66366,     0.66466,     0.66567,     0.66667,     0.66767,     0.66867,     0.66967,     0.67067,     0.67167,\n",
              "           0.67267,     0.67367,     0.67467,     0.67568,     0.67668,     0.67768,     0.67868,     0.67968,     0.68068,     0.68168,     0.68268,     0.68368,     0.68468,     0.68569,     0.68669,     0.68769,     0.68869,     0.68969,     0.69069,     0.69169,     0.69269,     0.69369,     0.69469,      0.6957,\n",
              "            0.6967,      0.6977,      0.6987,      0.6997,      0.7007,      0.7017,      0.7027,      0.7037,      0.7047,     0.70571,     0.70671,     0.70771,     0.70871,     0.70971,     0.71071,     0.71171,     0.71271,     0.71371,     0.71471,     0.71572,     0.71672,     0.71772,     0.71872,     0.71972,\n",
              "           0.72072,     0.72172,     0.72272,     0.72372,     0.72472,     0.72573,     0.72673,     0.72773,     0.72873,     0.72973,     0.73073,     0.73173,     0.73273,     0.73373,     0.73473,     0.73574,     0.73674,     0.73774,     0.73874,     0.73974,     0.74074,     0.74174,     0.74274,     0.74374,\n",
              "           0.74474,     0.74575,     0.74675,     0.74775,     0.74875,     0.74975,     0.75075,     0.75175,     0.75275,     0.75375,     0.75475,     0.75576,     0.75676,     0.75776,     0.75876,     0.75976,     0.76076,     0.76176,     0.76276,     0.76376,     0.76476,     0.76577,     0.76677,     0.76777,\n",
              "           0.76877,     0.76977,     0.77077,     0.77177,     0.77277,     0.77377,     0.77477,     0.77578,     0.77678,     0.77778,     0.77878,     0.77978,     0.78078,     0.78178,     0.78278,     0.78378,     0.78478,     0.78579,     0.78679,     0.78779,     0.78879,     0.78979,     0.79079,     0.79179,\n",
              "           0.79279,     0.79379,     0.79479,      0.7958,      0.7968,      0.7978,      0.7988,      0.7998,      0.8008,      0.8018,      0.8028,      0.8038,      0.8048,     0.80581,     0.80681,     0.80781,     0.80881,     0.80981,     0.81081,     0.81181,     0.81281,     0.81381,     0.81481,     0.81582,\n",
              "           0.81682,     0.81782,     0.81882,     0.81982,     0.82082,     0.82182,     0.82282,     0.82382,     0.82482,     0.82583,     0.82683,     0.82783,     0.82883,     0.82983,     0.83083,     0.83183,     0.83283,     0.83383,     0.83483,     0.83584,     0.83684,     0.83784,     0.83884,     0.83984,\n",
              "           0.84084,     0.84184,     0.84284,     0.84384,     0.84484,     0.84585,     0.84685,     0.84785,     0.84885,     0.84985,     0.85085,     0.85185,     0.85285,     0.85385,     0.85485,     0.85586,     0.85686,     0.85786,     0.85886,     0.85986,     0.86086,     0.86186,     0.86286,     0.86386,\n",
              "           0.86486,     0.86587,     0.86687,     0.86787,     0.86887,     0.86987,     0.87087,     0.87187,     0.87287,     0.87387,     0.87487,     0.87588,     0.87688,     0.87788,     0.87888,     0.87988,     0.88088,     0.88188,     0.88288,     0.88388,     0.88488,     0.88589,     0.88689,     0.88789,\n",
              "           0.88889,     0.88989,     0.89089,     0.89189,     0.89289,     0.89389,     0.89489,      0.8959,      0.8969,      0.8979,      0.8989,      0.8999,      0.9009,      0.9019,      0.9029,      0.9039,      0.9049,     0.90591,     0.90691,     0.90791,     0.90891,     0.90991,     0.91091,     0.91191,\n",
              "           0.91291,     0.91391,     0.91491,     0.91592,     0.91692,     0.91792,     0.91892,     0.91992,     0.92092,     0.92192,     0.92292,     0.92392,     0.92492,     0.92593,     0.92693,     0.92793,     0.92893,     0.92993,     0.93093,     0.93193,     0.93293,     0.93393,     0.93493,     0.93594,\n",
              "           0.93694,     0.93794,     0.93894,     0.93994,     0.94094,     0.94194,     0.94294,     0.94394,     0.94494,     0.94595,     0.94695,     0.94795,     0.94895,     0.94995,     0.95095,     0.95195,     0.95295,     0.95395,     0.95495,     0.95596,     0.95696,     0.95796,     0.95896,     0.95996,\n",
              "           0.96096,     0.96196,     0.96296,     0.96396,     0.96496,     0.96597,     0.96697,     0.96797,     0.96897,     0.96997,     0.97097,     0.97197,     0.97297,     0.97397,     0.97497,     0.97598,     0.97698,     0.97798,     0.97898,     0.97998,     0.98098,     0.98198,     0.98298,     0.98398,\n",
              "           0.98498,     0.98599,     0.98699,     0.98799,     0.98899,     0.98999,     0.99099,     0.99199,     0.99299,     0.99399,     0.99499,       0.996,       0.997,       0.998,       0.999,           1]), array([[          1,           1,           1, ...,   0.0010803,  0.00054013,           0],\n",
              "       [          1,           1,           1, ...,   8.112e-05,   4.056e-05,           0],\n",
              "       [          1,           1,           1, ...,  0.00093661,   0.0004683,           0],\n",
              "       ...,\n",
              "       [          1,           1,           1, ...,  0.00015173,  7.5866e-05,           0],\n",
              "       [        0.5,         0.5,         0.5, ...,  8.4344e-05,  4.2172e-05,           0],\n",
              "       [        0.4,         0.4,         0.4, ...,  4.8054e-05,  2.4027e-05,           0]], shape=(7, 1000)), 'Recall', 'Precision'], [array([          0,    0.001001,    0.002002,    0.003003,    0.004004,    0.005005,    0.006006,    0.007007,    0.008008,    0.009009,     0.01001,    0.011011,    0.012012,    0.013013,    0.014014,    0.015015,    0.016016,    0.017017,    0.018018,    0.019019,     0.02002,    0.021021,    0.022022,    0.023023,\n",
              "          0.024024,    0.025025,    0.026026,    0.027027,    0.028028,    0.029029,     0.03003,    0.031031,    0.032032,    0.033033,    0.034034,    0.035035,    0.036036,    0.037037,    0.038038,    0.039039,     0.04004,    0.041041,    0.042042,    0.043043,    0.044044,    0.045045,    0.046046,    0.047047,\n",
              "          0.048048,    0.049049,     0.05005,    0.051051,    0.052052,    0.053053,    0.054054,    0.055055,    0.056056,    0.057057,    0.058058,    0.059059,     0.06006,    0.061061,    0.062062,    0.063063,    0.064064,    0.065065,    0.066066,    0.067067,    0.068068,    0.069069,     0.07007,    0.071071,\n",
              "          0.072072,    0.073073,    0.074074,    0.075075,    0.076076,    0.077077,    0.078078,    0.079079,     0.08008,    0.081081,    0.082082,    0.083083,    0.084084,    0.085085,    0.086086,    0.087087,    0.088088,    0.089089,     0.09009,    0.091091,    0.092092,    0.093093,    0.094094,    0.095095,\n",
              "          0.096096,    0.097097,    0.098098,    0.099099,      0.1001,      0.1011,      0.1021,      0.1031,      0.1041,     0.10511,     0.10611,     0.10711,     0.10811,     0.10911,     0.11011,     0.11111,     0.11211,     0.11311,     0.11411,     0.11512,     0.11612,     0.11712,     0.11812,     0.11912,\n",
              "           0.12012,     0.12112,     0.12212,     0.12312,     0.12412,     0.12513,     0.12613,     0.12713,     0.12813,     0.12913,     0.13013,     0.13113,     0.13213,     0.13313,     0.13413,     0.13514,     0.13614,     0.13714,     0.13814,     0.13914,     0.14014,     0.14114,     0.14214,     0.14314,\n",
              "           0.14414,     0.14515,     0.14615,     0.14715,     0.14815,     0.14915,     0.15015,     0.15115,     0.15215,     0.15315,     0.15415,     0.15516,     0.15616,     0.15716,     0.15816,     0.15916,     0.16016,     0.16116,     0.16216,     0.16316,     0.16416,     0.16517,     0.16617,     0.16717,\n",
              "           0.16817,     0.16917,     0.17017,     0.17117,     0.17217,     0.17317,     0.17417,     0.17518,     0.17618,     0.17718,     0.17818,     0.17918,     0.18018,     0.18118,     0.18218,     0.18318,     0.18418,     0.18519,     0.18619,     0.18719,     0.18819,     0.18919,     0.19019,     0.19119,\n",
              "           0.19219,     0.19319,     0.19419,      0.1952,      0.1962,      0.1972,      0.1982,      0.1992,      0.2002,      0.2012,      0.2022,      0.2032,      0.2042,     0.20521,     0.20621,     0.20721,     0.20821,     0.20921,     0.21021,     0.21121,     0.21221,     0.21321,     0.21421,     0.21522,\n",
              "           0.21622,     0.21722,     0.21822,     0.21922,     0.22022,     0.22122,     0.22222,     0.22322,     0.22422,     0.22523,     0.22623,     0.22723,     0.22823,     0.22923,     0.23023,     0.23123,     0.23223,     0.23323,     0.23423,     0.23524,     0.23624,     0.23724,     0.23824,     0.23924,\n",
              "           0.24024,     0.24124,     0.24224,     0.24324,     0.24424,     0.24525,     0.24625,     0.24725,     0.24825,     0.24925,     0.25025,     0.25125,     0.25225,     0.25325,     0.25425,     0.25526,     0.25626,     0.25726,     0.25826,     0.25926,     0.26026,     0.26126,     0.26226,     0.26326,\n",
              "           0.26426,     0.26527,     0.26627,     0.26727,     0.26827,     0.26927,     0.27027,     0.27127,     0.27227,     0.27327,     0.27427,     0.27528,     0.27628,     0.27728,     0.27828,     0.27928,     0.28028,     0.28128,     0.28228,     0.28328,     0.28428,     0.28529,     0.28629,     0.28729,\n",
              "           0.28829,     0.28929,     0.29029,     0.29129,     0.29229,     0.29329,     0.29429,      0.2953,      0.2963,      0.2973,      0.2983,      0.2993,      0.3003,      0.3013,      0.3023,      0.3033,      0.3043,     0.30531,     0.30631,     0.30731,     0.30831,     0.30931,     0.31031,     0.31131,\n",
              "           0.31231,     0.31331,     0.31431,     0.31532,     0.31632,     0.31732,     0.31832,     0.31932,     0.32032,     0.32132,     0.32232,     0.32332,     0.32432,     0.32533,     0.32633,     0.32733,     0.32833,     0.32933,     0.33033,     0.33133,     0.33233,     0.33333,     0.33433,     0.33534,\n",
              "           0.33634,     0.33734,     0.33834,     0.33934,     0.34034,     0.34134,     0.34234,     0.34334,     0.34434,     0.34535,     0.34635,     0.34735,     0.34835,     0.34935,     0.35035,     0.35135,     0.35235,     0.35335,     0.35435,     0.35536,     0.35636,     0.35736,     0.35836,     0.35936,\n",
              "           0.36036,     0.36136,     0.36236,     0.36336,     0.36436,     0.36537,     0.36637,     0.36737,     0.36837,     0.36937,     0.37037,     0.37137,     0.37237,     0.37337,     0.37437,     0.37538,     0.37638,     0.37738,     0.37838,     0.37938,     0.38038,     0.38138,     0.38238,     0.38338,\n",
              "           0.38438,     0.38539,     0.38639,     0.38739,     0.38839,     0.38939,     0.39039,     0.39139,     0.39239,     0.39339,     0.39439,      0.3954,      0.3964,      0.3974,      0.3984,      0.3994,      0.4004,      0.4014,      0.4024,      0.4034,      0.4044,     0.40541,     0.40641,     0.40741,\n",
              "           0.40841,     0.40941,     0.41041,     0.41141,     0.41241,     0.41341,     0.41441,     0.41542,     0.41642,     0.41742,     0.41842,     0.41942,     0.42042,     0.42142,     0.42242,     0.42342,     0.42442,     0.42543,     0.42643,     0.42743,     0.42843,     0.42943,     0.43043,     0.43143,\n",
              "           0.43243,     0.43343,     0.43443,     0.43544,     0.43644,     0.43744,     0.43844,     0.43944,     0.44044,     0.44144,     0.44244,     0.44344,     0.44444,     0.44545,     0.44645,     0.44745,     0.44845,     0.44945,     0.45045,     0.45145,     0.45245,     0.45345,     0.45445,     0.45546,\n",
              "           0.45646,     0.45746,     0.45846,     0.45946,     0.46046,     0.46146,     0.46246,     0.46346,     0.46446,     0.46547,     0.46647,     0.46747,     0.46847,     0.46947,     0.47047,     0.47147,     0.47247,     0.47347,     0.47447,     0.47548,     0.47648,     0.47748,     0.47848,     0.47948,\n",
              "           0.48048,     0.48148,     0.48248,     0.48348,     0.48448,     0.48549,     0.48649,     0.48749,     0.48849,     0.48949,     0.49049,     0.49149,     0.49249,     0.49349,     0.49449,      0.4955,      0.4965,      0.4975,      0.4985,      0.4995,      0.5005,      0.5015,      0.5025,      0.5035,\n",
              "            0.5045,     0.50551,     0.50651,     0.50751,     0.50851,     0.50951,     0.51051,     0.51151,     0.51251,     0.51351,     0.51451,     0.51552,     0.51652,     0.51752,     0.51852,     0.51952,     0.52052,     0.52152,     0.52252,     0.52352,     0.52452,     0.52553,     0.52653,     0.52753,\n",
              "           0.52853,     0.52953,     0.53053,     0.53153,     0.53253,     0.53353,     0.53453,     0.53554,     0.53654,     0.53754,     0.53854,     0.53954,     0.54054,     0.54154,     0.54254,     0.54354,     0.54454,     0.54555,     0.54655,     0.54755,     0.54855,     0.54955,     0.55055,     0.55155,\n",
              "           0.55255,     0.55355,     0.55455,     0.55556,     0.55656,     0.55756,     0.55856,     0.55956,     0.56056,     0.56156,     0.56256,     0.56356,     0.56456,     0.56557,     0.56657,     0.56757,     0.56857,     0.56957,     0.57057,     0.57157,     0.57257,     0.57357,     0.57457,     0.57558,\n",
              "           0.57658,     0.57758,     0.57858,     0.57958,     0.58058,     0.58158,     0.58258,     0.58358,     0.58458,     0.58559,     0.58659,     0.58759,     0.58859,     0.58959,     0.59059,     0.59159,     0.59259,     0.59359,     0.59459,      0.5956,      0.5966,      0.5976,      0.5986,      0.5996,\n",
              "            0.6006,      0.6016,      0.6026,      0.6036,      0.6046,     0.60561,     0.60661,     0.60761,     0.60861,     0.60961,     0.61061,     0.61161,     0.61261,     0.61361,     0.61461,     0.61562,     0.61662,     0.61762,     0.61862,     0.61962,     0.62062,     0.62162,     0.62262,     0.62362,\n",
              "           0.62462,     0.62563,     0.62663,     0.62763,     0.62863,     0.62963,     0.63063,     0.63163,     0.63263,     0.63363,     0.63463,     0.63564,     0.63664,     0.63764,     0.63864,     0.63964,     0.64064,     0.64164,     0.64264,     0.64364,     0.64464,     0.64565,     0.64665,     0.64765,\n",
              "           0.64865,     0.64965,     0.65065,     0.65165,     0.65265,     0.65365,     0.65465,     0.65566,     0.65666,     0.65766,     0.65866,     0.65966,     0.66066,     0.66166,     0.66266,     0.66366,     0.66466,     0.66567,     0.66667,     0.66767,     0.66867,     0.66967,     0.67067,     0.67167,\n",
              "           0.67267,     0.67367,     0.67467,     0.67568,     0.67668,     0.67768,     0.67868,     0.67968,     0.68068,     0.68168,     0.68268,     0.68368,     0.68468,     0.68569,     0.68669,     0.68769,     0.68869,     0.68969,     0.69069,     0.69169,     0.69269,     0.69369,     0.69469,      0.6957,\n",
              "            0.6967,      0.6977,      0.6987,      0.6997,      0.7007,      0.7017,      0.7027,      0.7037,      0.7047,     0.70571,     0.70671,     0.70771,     0.70871,     0.70971,     0.71071,     0.71171,     0.71271,     0.71371,     0.71471,     0.71572,     0.71672,     0.71772,     0.71872,     0.71972,\n",
              "           0.72072,     0.72172,     0.72272,     0.72372,     0.72472,     0.72573,     0.72673,     0.72773,     0.72873,     0.72973,     0.73073,     0.73173,     0.73273,     0.73373,     0.73473,     0.73574,     0.73674,     0.73774,     0.73874,     0.73974,     0.74074,     0.74174,     0.74274,     0.74374,\n",
              "           0.74474,     0.74575,     0.74675,     0.74775,     0.74875,     0.74975,     0.75075,     0.75175,     0.75275,     0.75375,     0.75475,     0.75576,     0.75676,     0.75776,     0.75876,     0.75976,     0.76076,     0.76176,     0.76276,     0.76376,     0.76476,     0.76577,     0.76677,     0.76777,\n",
              "           0.76877,     0.76977,     0.77077,     0.77177,     0.77277,     0.77377,     0.77477,     0.77578,     0.77678,     0.77778,     0.77878,     0.77978,     0.78078,     0.78178,     0.78278,     0.78378,     0.78478,     0.78579,     0.78679,     0.78779,     0.78879,     0.78979,     0.79079,     0.79179,\n",
              "           0.79279,     0.79379,     0.79479,      0.7958,      0.7968,      0.7978,      0.7988,      0.7998,      0.8008,      0.8018,      0.8028,      0.8038,      0.8048,     0.80581,     0.80681,     0.80781,     0.80881,     0.80981,     0.81081,     0.81181,     0.81281,     0.81381,     0.81481,     0.81582,\n",
              "           0.81682,     0.81782,     0.81882,     0.81982,     0.82082,     0.82182,     0.82282,     0.82382,     0.82482,     0.82583,     0.82683,     0.82783,     0.82883,     0.82983,     0.83083,     0.83183,     0.83283,     0.83383,     0.83483,     0.83584,     0.83684,     0.83784,     0.83884,     0.83984,\n",
              "           0.84084,     0.84184,     0.84284,     0.84384,     0.84484,     0.84585,     0.84685,     0.84785,     0.84885,     0.84985,     0.85085,     0.85185,     0.85285,     0.85385,     0.85485,     0.85586,     0.85686,     0.85786,     0.85886,     0.85986,     0.86086,     0.86186,     0.86286,     0.86386,\n",
              "           0.86486,     0.86587,     0.86687,     0.86787,     0.86887,     0.86987,     0.87087,     0.87187,     0.87287,     0.87387,     0.87487,     0.87588,     0.87688,     0.87788,     0.87888,     0.87988,     0.88088,     0.88188,     0.88288,     0.88388,     0.88488,     0.88589,     0.88689,     0.88789,\n",
              "           0.88889,     0.88989,     0.89089,     0.89189,     0.89289,     0.89389,     0.89489,      0.8959,      0.8969,      0.8979,      0.8989,      0.8999,      0.9009,      0.9019,      0.9029,      0.9039,      0.9049,     0.90591,     0.90691,     0.90791,     0.90891,     0.90991,     0.91091,     0.91191,\n",
              "           0.91291,     0.91391,     0.91491,     0.91592,     0.91692,     0.91792,     0.91892,     0.91992,     0.92092,     0.92192,     0.92292,     0.92392,     0.92492,     0.92593,     0.92693,     0.92793,     0.92893,     0.92993,     0.93093,     0.93193,     0.93293,     0.93393,     0.93493,     0.93594,\n",
              "           0.93694,     0.93794,     0.93894,     0.93994,     0.94094,     0.94194,     0.94294,     0.94394,     0.94494,     0.94595,     0.94695,     0.94795,     0.94895,     0.94995,     0.95095,     0.95195,     0.95295,     0.95395,     0.95495,     0.95596,     0.95696,     0.95796,     0.95896,     0.95996,\n",
              "           0.96096,     0.96196,     0.96296,     0.96396,     0.96496,     0.96597,     0.96697,     0.96797,     0.96897,     0.96997,     0.97097,     0.97197,     0.97297,     0.97397,     0.97497,     0.97598,     0.97698,     0.97798,     0.97898,     0.97998,     0.98098,     0.98198,     0.98298,     0.98398,\n",
              "           0.98498,     0.98599,     0.98699,     0.98799,     0.98899,     0.98999,     0.99099,     0.99199,     0.99299,     0.99399,     0.99499,       0.996,       0.997,       0.998,       0.999,           1]), array([[   0.043935,    0.043936,    0.065885, ...,           0,           0,           0],\n",
              "       [   0.033296,    0.033296,    0.047377, ...,           0,           0,           0],\n",
              "       [   0.076831,    0.076854,     0.11285, ...,           0,           0,           0],\n",
              "       ...,\n",
              "       [   0.030497,    0.030518,    0.049245, ...,           0,           0,           0],\n",
              "       [   0.020773,    0.020773,    0.029835, ...,           0,           0,           0],\n",
              "       [   0.019077,    0.019094,    0.028205, ...,           0,           0,           0]], shape=(7, 1000)), 'Confidence', 'F1'], [array([          0,    0.001001,    0.002002,    0.003003,    0.004004,    0.005005,    0.006006,    0.007007,    0.008008,    0.009009,     0.01001,    0.011011,    0.012012,    0.013013,    0.014014,    0.015015,    0.016016,    0.017017,    0.018018,    0.019019,     0.02002,    0.021021,    0.022022,    0.023023,\n",
              "          0.024024,    0.025025,    0.026026,    0.027027,    0.028028,    0.029029,     0.03003,    0.031031,    0.032032,    0.033033,    0.034034,    0.035035,    0.036036,    0.037037,    0.038038,    0.039039,     0.04004,    0.041041,    0.042042,    0.043043,    0.044044,    0.045045,    0.046046,    0.047047,\n",
              "          0.048048,    0.049049,     0.05005,    0.051051,    0.052052,    0.053053,    0.054054,    0.055055,    0.056056,    0.057057,    0.058058,    0.059059,     0.06006,    0.061061,    0.062062,    0.063063,    0.064064,    0.065065,    0.066066,    0.067067,    0.068068,    0.069069,     0.07007,    0.071071,\n",
              "          0.072072,    0.073073,    0.074074,    0.075075,    0.076076,    0.077077,    0.078078,    0.079079,     0.08008,    0.081081,    0.082082,    0.083083,    0.084084,    0.085085,    0.086086,    0.087087,    0.088088,    0.089089,     0.09009,    0.091091,    0.092092,    0.093093,    0.094094,    0.095095,\n",
              "          0.096096,    0.097097,    0.098098,    0.099099,      0.1001,      0.1011,      0.1021,      0.1031,      0.1041,     0.10511,     0.10611,     0.10711,     0.10811,     0.10911,     0.11011,     0.11111,     0.11211,     0.11311,     0.11411,     0.11512,     0.11612,     0.11712,     0.11812,     0.11912,\n",
              "           0.12012,     0.12112,     0.12212,     0.12312,     0.12412,     0.12513,     0.12613,     0.12713,     0.12813,     0.12913,     0.13013,     0.13113,     0.13213,     0.13313,     0.13413,     0.13514,     0.13614,     0.13714,     0.13814,     0.13914,     0.14014,     0.14114,     0.14214,     0.14314,\n",
              "           0.14414,     0.14515,     0.14615,     0.14715,     0.14815,     0.14915,     0.15015,     0.15115,     0.15215,     0.15315,     0.15415,     0.15516,     0.15616,     0.15716,     0.15816,     0.15916,     0.16016,     0.16116,     0.16216,     0.16316,     0.16416,     0.16517,     0.16617,     0.16717,\n",
              "           0.16817,     0.16917,     0.17017,     0.17117,     0.17217,     0.17317,     0.17417,     0.17518,     0.17618,     0.17718,     0.17818,     0.17918,     0.18018,     0.18118,     0.18218,     0.18318,     0.18418,     0.18519,     0.18619,     0.18719,     0.18819,     0.18919,     0.19019,     0.19119,\n",
              "           0.19219,     0.19319,     0.19419,      0.1952,      0.1962,      0.1972,      0.1982,      0.1992,      0.2002,      0.2012,      0.2022,      0.2032,      0.2042,     0.20521,     0.20621,     0.20721,     0.20821,     0.20921,     0.21021,     0.21121,     0.21221,     0.21321,     0.21421,     0.21522,\n",
              "           0.21622,     0.21722,     0.21822,     0.21922,     0.22022,     0.22122,     0.22222,     0.22322,     0.22422,     0.22523,     0.22623,     0.22723,     0.22823,     0.22923,     0.23023,     0.23123,     0.23223,     0.23323,     0.23423,     0.23524,     0.23624,     0.23724,     0.23824,     0.23924,\n",
              "           0.24024,     0.24124,     0.24224,     0.24324,     0.24424,     0.24525,     0.24625,     0.24725,     0.24825,     0.24925,     0.25025,     0.25125,     0.25225,     0.25325,     0.25425,     0.25526,     0.25626,     0.25726,     0.25826,     0.25926,     0.26026,     0.26126,     0.26226,     0.26326,\n",
              "           0.26426,     0.26527,     0.26627,     0.26727,     0.26827,     0.26927,     0.27027,     0.27127,     0.27227,     0.27327,     0.27427,     0.27528,     0.27628,     0.27728,     0.27828,     0.27928,     0.28028,     0.28128,     0.28228,     0.28328,     0.28428,     0.28529,     0.28629,     0.28729,\n",
              "           0.28829,     0.28929,     0.29029,     0.29129,     0.29229,     0.29329,     0.29429,      0.2953,      0.2963,      0.2973,      0.2983,      0.2993,      0.3003,      0.3013,      0.3023,      0.3033,      0.3043,     0.30531,     0.30631,     0.30731,     0.30831,     0.30931,     0.31031,     0.31131,\n",
              "           0.31231,     0.31331,     0.31431,     0.31532,     0.31632,     0.31732,     0.31832,     0.31932,     0.32032,     0.32132,     0.32232,     0.32332,     0.32432,     0.32533,     0.32633,     0.32733,     0.32833,     0.32933,     0.33033,     0.33133,     0.33233,     0.33333,     0.33433,     0.33534,\n",
              "           0.33634,     0.33734,     0.33834,     0.33934,     0.34034,     0.34134,     0.34234,     0.34334,     0.34434,     0.34535,     0.34635,     0.34735,     0.34835,     0.34935,     0.35035,     0.35135,     0.35235,     0.35335,     0.35435,     0.35536,     0.35636,     0.35736,     0.35836,     0.35936,\n",
              "           0.36036,     0.36136,     0.36236,     0.36336,     0.36436,     0.36537,     0.36637,     0.36737,     0.36837,     0.36937,     0.37037,     0.37137,     0.37237,     0.37337,     0.37437,     0.37538,     0.37638,     0.37738,     0.37838,     0.37938,     0.38038,     0.38138,     0.38238,     0.38338,\n",
              "           0.38438,     0.38539,     0.38639,     0.38739,     0.38839,     0.38939,     0.39039,     0.39139,     0.39239,     0.39339,     0.39439,      0.3954,      0.3964,      0.3974,      0.3984,      0.3994,      0.4004,      0.4014,      0.4024,      0.4034,      0.4044,     0.40541,     0.40641,     0.40741,\n",
              "           0.40841,     0.40941,     0.41041,     0.41141,     0.41241,     0.41341,     0.41441,     0.41542,     0.41642,     0.41742,     0.41842,     0.41942,     0.42042,     0.42142,     0.42242,     0.42342,     0.42442,     0.42543,     0.42643,     0.42743,     0.42843,     0.42943,     0.43043,     0.43143,\n",
              "           0.43243,     0.43343,     0.43443,     0.43544,     0.43644,     0.43744,     0.43844,     0.43944,     0.44044,     0.44144,     0.44244,     0.44344,     0.44444,     0.44545,     0.44645,     0.44745,     0.44845,     0.44945,     0.45045,     0.45145,     0.45245,     0.45345,     0.45445,     0.45546,\n",
              "           0.45646,     0.45746,     0.45846,     0.45946,     0.46046,     0.46146,     0.46246,     0.46346,     0.46446,     0.46547,     0.46647,     0.46747,     0.46847,     0.46947,     0.47047,     0.47147,     0.47247,     0.47347,     0.47447,     0.47548,     0.47648,     0.47748,     0.47848,     0.47948,\n",
              "           0.48048,     0.48148,     0.48248,     0.48348,     0.48448,     0.48549,     0.48649,     0.48749,     0.48849,     0.48949,     0.49049,     0.49149,     0.49249,     0.49349,     0.49449,      0.4955,      0.4965,      0.4975,      0.4985,      0.4995,      0.5005,      0.5015,      0.5025,      0.5035,\n",
              "            0.5045,     0.50551,     0.50651,     0.50751,     0.50851,     0.50951,     0.51051,     0.51151,     0.51251,     0.51351,     0.51451,     0.51552,     0.51652,     0.51752,     0.51852,     0.51952,     0.52052,     0.52152,     0.52252,     0.52352,     0.52452,     0.52553,     0.52653,     0.52753,\n",
              "           0.52853,     0.52953,     0.53053,     0.53153,     0.53253,     0.53353,     0.53453,     0.53554,     0.53654,     0.53754,     0.53854,     0.53954,     0.54054,     0.54154,     0.54254,     0.54354,     0.54454,     0.54555,     0.54655,     0.54755,     0.54855,     0.54955,     0.55055,     0.55155,\n",
              "           0.55255,     0.55355,     0.55455,     0.55556,     0.55656,     0.55756,     0.55856,     0.55956,     0.56056,     0.56156,     0.56256,     0.56356,     0.56456,     0.56557,     0.56657,     0.56757,     0.56857,     0.56957,     0.57057,     0.57157,     0.57257,     0.57357,     0.57457,     0.57558,\n",
              "           0.57658,     0.57758,     0.57858,     0.57958,     0.58058,     0.58158,     0.58258,     0.58358,     0.58458,     0.58559,     0.58659,     0.58759,     0.58859,     0.58959,     0.59059,     0.59159,     0.59259,     0.59359,     0.59459,      0.5956,      0.5966,      0.5976,      0.5986,      0.5996,\n",
              "            0.6006,      0.6016,      0.6026,      0.6036,      0.6046,     0.60561,     0.60661,     0.60761,     0.60861,     0.60961,     0.61061,     0.61161,     0.61261,     0.61361,     0.61461,     0.61562,     0.61662,     0.61762,     0.61862,     0.61962,     0.62062,     0.62162,     0.62262,     0.62362,\n",
              "           0.62462,     0.62563,     0.62663,     0.62763,     0.62863,     0.62963,     0.63063,     0.63163,     0.63263,     0.63363,     0.63463,     0.63564,     0.63664,     0.63764,     0.63864,     0.63964,     0.64064,     0.64164,     0.64264,     0.64364,     0.64464,     0.64565,     0.64665,     0.64765,\n",
              "           0.64865,     0.64965,     0.65065,     0.65165,     0.65265,     0.65365,     0.65465,     0.65566,     0.65666,     0.65766,     0.65866,     0.65966,     0.66066,     0.66166,     0.66266,     0.66366,     0.66466,     0.66567,     0.66667,     0.66767,     0.66867,     0.66967,     0.67067,     0.67167,\n",
              "           0.67267,     0.67367,     0.67467,     0.67568,     0.67668,     0.67768,     0.67868,     0.67968,     0.68068,     0.68168,     0.68268,     0.68368,     0.68468,     0.68569,     0.68669,     0.68769,     0.68869,     0.68969,     0.69069,     0.69169,     0.69269,     0.69369,     0.69469,      0.6957,\n",
              "            0.6967,      0.6977,      0.6987,      0.6997,      0.7007,      0.7017,      0.7027,      0.7037,      0.7047,     0.70571,     0.70671,     0.70771,     0.70871,     0.70971,     0.71071,     0.71171,     0.71271,     0.71371,     0.71471,     0.71572,     0.71672,     0.71772,     0.71872,     0.71972,\n",
              "           0.72072,     0.72172,     0.72272,     0.72372,     0.72472,     0.72573,     0.72673,     0.72773,     0.72873,     0.72973,     0.73073,     0.73173,     0.73273,     0.73373,     0.73473,     0.73574,     0.73674,     0.73774,     0.73874,     0.73974,     0.74074,     0.74174,     0.74274,     0.74374,\n",
              "           0.74474,     0.74575,     0.74675,     0.74775,     0.74875,     0.74975,     0.75075,     0.75175,     0.75275,     0.75375,     0.75475,     0.75576,     0.75676,     0.75776,     0.75876,     0.75976,     0.76076,     0.76176,     0.76276,     0.76376,     0.76476,     0.76577,     0.76677,     0.76777,\n",
              "           0.76877,     0.76977,     0.77077,     0.77177,     0.77277,     0.77377,     0.77477,     0.77578,     0.77678,     0.77778,     0.77878,     0.77978,     0.78078,     0.78178,     0.78278,     0.78378,     0.78478,     0.78579,     0.78679,     0.78779,     0.78879,     0.78979,     0.79079,     0.79179,\n",
              "           0.79279,     0.79379,     0.79479,      0.7958,      0.7968,      0.7978,      0.7988,      0.7998,      0.8008,      0.8018,      0.8028,      0.8038,      0.8048,     0.80581,     0.80681,     0.80781,     0.80881,     0.80981,     0.81081,     0.81181,     0.81281,     0.81381,     0.81481,     0.81582,\n",
              "           0.81682,     0.81782,     0.81882,     0.81982,     0.82082,     0.82182,     0.82282,     0.82382,     0.82482,     0.82583,     0.82683,     0.82783,     0.82883,     0.82983,     0.83083,     0.83183,     0.83283,     0.83383,     0.83483,     0.83584,     0.83684,     0.83784,     0.83884,     0.83984,\n",
              "           0.84084,     0.84184,     0.84284,     0.84384,     0.84484,     0.84585,     0.84685,     0.84785,     0.84885,     0.84985,     0.85085,     0.85185,     0.85285,     0.85385,     0.85485,     0.85586,     0.85686,     0.85786,     0.85886,     0.85986,     0.86086,     0.86186,     0.86286,     0.86386,\n",
              "           0.86486,     0.86587,     0.86687,     0.86787,     0.86887,     0.86987,     0.87087,     0.87187,     0.87287,     0.87387,     0.87487,     0.87588,     0.87688,     0.87788,     0.87888,     0.87988,     0.88088,     0.88188,     0.88288,     0.88388,     0.88488,     0.88589,     0.88689,     0.88789,\n",
              "           0.88889,     0.88989,     0.89089,     0.89189,     0.89289,     0.89389,     0.89489,      0.8959,      0.8969,      0.8979,      0.8989,      0.8999,      0.9009,      0.9019,      0.9029,      0.9039,      0.9049,     0.90591,     0.90691,     0.90791,     0.90891,     0.90991,     0.91091,     0.91191,\n",
              "           0.91291,     0.91391,     0.91491,     0.91592,     0.91692,     0.91792,     0.91892,     0.91992,     0.92092,     0.92192,     0.92292,     0.92392,     0.92492,     0.92593,     0.92693,     0.92793,     0.92893,     0.92993,     0.93093,     0.93193,     0.93293,     0.93393,     0.93493,     0.93594,\n",
              "           0.93694,     0.93794,     0.93894,     0.93994,     0.94094,     0.94194,     0.94294,     0.94394,     0.94494,     0.94595,     0.94695,     0.94795,     0.94895,     0.94995,     0.95095,     0.95195,     0.95295,     0.95395,     0.95495,     0.95596,     0.95696,     0.95796,     0.95896,     0.95996,\n",
              "           0.96096,     0.96196,     0.96296,     0.96396,     0.96496,     0.96597,     0.96697,     0.96797,     0.96897,     0.96997,     0.97097,     0.97197,     0.97297,     0.97397,     0.97497,     0.97598,     0.97698,     0.97798,     0.97898,     0.97998,     0.98098,     0.98198,     0.98298,     0.98398,\n",
              "           0.98498,     0.98599,     0.98699,     0.98799,     0.98899,     0.98999,     0.99099,     0.99199,     0.99299,     0.99399,     0.99499,       0.996,       0.997,       0.998,       0.999,           1]), array([[   0.022483,    0.022483,    0.034115, ...,           1,           1,           1],\n",
              "       [   0.017143,    0.017143,    0.024778, ...,           1,           1,           1],\n",
              "       [     0.0401,    0.040113,    0.060262, ...,           1,           1,           1],\n",
              "       ...,\n",
              "       [   0.015547,    0.015558,    0.025437, ...,           1,           1,           1],\n",
              "       [   0.010532,    0.010532,    0.015238, ...,           1,           1,           1],\n",
              "       [  0.0096936,   0.0097022,    0.014444, ...,           1,           1,           1]], shape=(7, 1000)), 'Confidence', 'Precision'], [array([          0,    0.001001,    0.002002,    0.003003,    0.004004,    0.005005,    0.006006,    0.007007,    0.008008,    0.009009,     0.01001,    0.011011,    0.012012,    0.013013,    0.014014,    0.015015,    0.016016,    0.017017,    0.018018,    0.019019,     0.02002,    0.021021,    0.022022,    0.023023,\n",
              "          0.024024,    0.025025,    0.026026,    0.027027,    0.028028,    0.029029,     0.03003,    0.031031,    0.032032,    0.033033,    0.034034,    0.035035,    0.036036,    0.037037,    0.038038,    0.039039,     0.04004,    0.041041,    0.042042,    0.043043,    0.044044,    0.045045,    0.046046,    0.047047,\n",
              "          0.048048,    0.049049,     0.05005,    0.051051,    0.052052,    0.053053,    0.054054,    0.055055,    0.056056,    0.057057,    0.058058,    0.059059,     0.06006,    0.061061,    0.062062,    0.063063,    0.064064,    0.065065,    0.066066,    0.067067,    0.068068,    0.069069,     0.07007,    0.071071,\n",
              "          0.072072,    0.073073,    0.074074,    0.075075,    0.076076,    0.077077,    0.078078,    0.079079,     0.08008,    0.081081,    0.082082,    0.083083,    0.084084,    0.085085,    0.086086,    0.087087,    0.088088,    0.089089,     0.09009,    0.091091,    0.092092,    0.093093,    0.094094,    0.095095,\n",
              "          0.096096,    0.097097,    0.098098,    0.099099,      0.1001,      0.1011,      0.1021,      0.1031,      0.1041,     0.10511,     0.10611,     0.10711,     0.10811,     0.10911,     0.11011,     0.11111,     0.11211,     0.11311,     0.11411,     0.11512,     0.11612,     0.11712,     0.11812,     0.11912,\n",
              "           0.12012,     0.12112,     0.12212,     0.12312,     0.12412,     0.12513,     0.12613,     0.12713,     0.12813,     0.12913,     0.13013,     0.13113,     0.13213,     0.13313,     0.13413,     0.13514,     0.13614,     0.13714,     0.13814,     0.13914,     0.14014,     0.14114,     0.14214,     0.14314,\n",
              "           0.14414,     0.14515,     0.14615,     0.14715,     0.14815,     0.14915,     0.15015,     0.15115,     0.15215,     0.15315,     0.15415,     0.15516,     0.15616,     0.15716,     0.15816,     0.15916,     0.16016,     0.16116,     0.16216,     0.16316,     0.16416,     0.16517,     0.16617,     0.16717,\n",
              "           0.16817,     0.16917,     0.17017,     0.17117,     0.17217,     0.17317,     0.17417,     0.17518,     0.17618,     0.17718,     0.17818,     0.17918,     0.18018,     0.18118,     0.18218,     0.18318,     0.18418,     0.18519,     0.18619,     0.18719,     0.18819,     0.18919,     0.19019,     0.19119,\n",
              "           0.19219,     0.19319,     0.19419,      0.1952,      0.1962,      0.1972,      0.1982,      0.1992,      0.2002,      0.2012,      0.2022,      0.2032,      0.2042,     0.20521,     0.20621,     0.20721,     0.20821,     0.20921,     0.21021,     0.21121,     0.21221,     0.21321,     0.21421,     0.21522,\n",
              "           0.21622,     0.21722,     0.21822,     0.21922,     0.22022,     0.22122,     0.22222,     0.22322,     0.22422,     0.22523,     0.22623,     0.22723,     0.22823,     0.22923,     0.23023,     0.23123,     0.23223,     0.23323,     0.23423,     0.23524,     0.23624,     0.23724,     0.23824,     0.23924,\n",
              "           0.24024,     0.24124,     0.24224,     0.24324,     0.24424,     0.24525,     0.24625,     0.24725,     0.24825,     0.24925,     0.25025,     0.25125,     0.25225,     0.25325,     0.25425,     0.25526,     0.25626,     0.25726,     0.25826,     0.25926,     0.26026,     0.26126,     0.26226,     0.26326,\n",
              "           0.26426,     0.26527,     0.26627,     0.26727,     0.26827,     0.26927,     0.27027,     0.27127,     0.27227,     0.27327,     0.27427,     0.27528,     0.27628,     0.27728,     0.27828,     0.27928,     0.28028,     0.28128,     0.28228,     0.28328,     0.28428,     0.28529,     0.28629,     0.28729,\n",
              "           0.28829,     0.28929,     0.29029,     0.29129,     0.29229,     0.29329,     0.29429,      0.2953,      0.2963,      0.2973,      0.2983,      0.2993,      0.3003,      0.3013,      0.3023,      0.3033,      0.3043,     0.30531,     0.30631,     0.30731,     0.30831,     0.30931,     0.31031,     0.31131,\n",
              "           0.31231,     0.31331,     0.31431,     0.31532,     0.31632,     0.31732,     0.31832,     0.31932,     0.32032,     0.32132,     0.32232,     0.32332,     0.32432,     0.32533,     0.32633,     0.32733,     0.32833,     0.32933,     0.33033,     0.33133,     0.33233,     0.33333,     0.33433,     0.33534,\n",
              "           0.33634,     0.33734,     0.33834,     0.33934,     0.34034,     0.34134,     0.34234,     0.34334,     0.34434,     0.34535,     0.34635,     0.34735,     0.34835,     0.34935,     0.35035,     0.35135,     0.35235,     0.35335,     0.35435,     0.35536,     0.35636,     0.35736,     0.35836,     0.35936,\n",
              "           0.36036,     0.36136,     0.36236,     0.36336,     0.36436,     0.36537,     0.36637,     0.36737,     0.36837,     0.36937,     0.37037,     0.37137,     0.37237,     0.37337,     0.37437,     0.37538,     0.37638,     0.37738,     0.37838,     0.37938,     0.38038,     0.38138,     0.38238,     0.38338,\n",
              "           0.38438,     0.38539,     0.38639,     0.38739,     0.38839,     0.38939,     0.39039,     0.39139,     0.39239,     0.39339,     0.39439,      0.3954,      0.3964,      0.3974,      0.3984,      0.3994,      0.4004,      0.4014,      0.4024,      0.4034,      0.4044,     0.40541,     0.40641,     0.40741,\n",
              "           0.40841,     0.40941,     0.41041,     0.41141,     0.41241,     0.41341,     0.41441,     0.41542,     0.41642,     0.41742,     0.41842,     0.41942,     0.42042,     0.42142,     0.42242,     0.42342,     0.42442,     0.42543,     0.42643,     0.42743,     0.42843,     0.42943,     0.43043,     0.43143,\n",
              "           0.43243,     0.43343,     0.43443,     0.43544,     0.43644,     0.43744,     0.43844,     0.43944,     0.44044,     0.44144,     0.44244,     0.44344,     0.44444,     0.44545,     0.44645,     0.44745,     0.44845,     0.44945,     0.45045,     0.45145,     0.45245,     0.45345,     0.45445,     0.45546,\n",
              "           0.45646,     0.45746,     0.45846,     0.45946,     0.46046,     0.46146,     0.46246,     0.46346,     0.46446,     0.46547,     0.46647,     0.46747,     0.46847,     0.46947,     0.47047,     0.47147,     0.47247,     0.47347,     0.47447,     0.47548,     0.47648,     0.47748,     0.47848,     0.47948,\n",
              "           0.48048,     0.48148,     0.48248,     0.48348,     0.48448,     0.48549,     0.48649,     0.48749,     0.48849,     0.48949,     0.49049,     0.49149,     0.49249,     0.49349,     0.49449,      0.4955,      0.4965,      0.4975,      0.4985,      0.4995,      0.5005,      0.5015,      0.5025,      0.5035,\n",
              "            0.5045,     0.50551,     0.50651,     0.50751,     0.50851,     0.50951,     0.51051,     0.51151,     0.51251,     0.51351,     0.51451,     0.51552,     0.51652,     0.51752,     0.51852,     0.51952,     0.52052,     0.52152,     0.52252,     0.52352,     0.52452,     0.52553,     0.52653,     0.52753,\n",
              "           0.52853,     0.52953,     0.53053,     0.53153,     0.53253,     0.53353,     0.53453,     0.53554,     0.53654,     0.53754,     0.53854,     0.53954,     0.54054,     0.54154,     0.54254,     0.54354,     0.54454,     0.54555,     0.54655,     0.54755,     0.54855,     0.54955,     0.55055,     0.55155,\n",
              "           0.55255,     0.55355,     0.55455,     0.55556,     0.55656,     0.55756,     0.55856,     0.55956,     0.56056,     0.56156,     0.56256,     0.56356,     0.56456,     0.56557,     0.56657,     0.56757,     0.56857,     0.56957,     0.57057,     0.57157,     0.57257,     0.57357,     0.57457,     0.57558,\n",
              "           0.57658,     0.57758,     0.57858,     0.57958,     0.58058,     0.58158,     0.58258,     0.58358,     0.58458,     0.58559,     0.58659,     0.58759,     0.58859,     0.58959,     0.59059,     0.59159,     0.59259,     0.59359,     0.59459,      0.5956,      0.5966,      0.5976,      0.5986,      0.5996,\n",
              "            0.6006,      0.6016,      0.6026,      0.6036,      0.6046,     0.60561,     0.60661,     0.60761,     0.60861,     0.60961,     0.61061,     0.61161,     0.61261,     0.61361,     0.61461,     0.61562,     0.61662,     0.61762,     0.61862,     0.61962,     0.62062,     0.62162,     0.62262,     0.62362,\n",
              "           0.62462,     0.62563,     0.62663,     0.62763,     0.62863,     0.62963,     0.63063,     0.63163,     0.63263,     0.63363,     0.63463,     0.63564,     0.63664,     0.63764,     0.63864,     0.63964,     0.64064,     0.64164,     0.64264,     0.64364,     0.64464,     0.64565,     0.64665,     0.64765,\n",
              "           0.64865,     0.64965,     0.65065,     0.65165,     0.65265,     0.65365,     0.65465,     0.65566,     0.65666,     0.65766,     0.65866,     0.65966,     0.66066,     0.66166,     0.66266,     0.66366,     0.66466,     0.66567,     0.66667,     0.66767,     0.66867,     0.66967,     0.67067,     0.67167,\n",
              "           0.67267,     0.67367,     0.67467,     0.67568,     0.67668,     0.67768,     0.67868,     0.67968,     0.68068,     0.68168,     0.68268,     0.68368,     0.68468,     0.68569,     0.68669,     0.68769,     0.68869,     0.68969,     0.69069,     0.69169,     0.69269,     0.69369,     0.69469,      0.6957,\n",
              "            0.6967,      0.6977,      0.6987,      0.6997,      0.7007,      0.7017,      0.7027,      0.7037,      0.7047,     0.70571,     0.70671,     0.70771,     0.70871,     0.70971,     0.71071,     0.71171,     0.71271,     0.71371,     0.71471,     0.71572,     0.71672,     0.71772,     0.71872,     0.71972,\n",
              "           0.72072,     0.72172,     0.72272,     0.72372,     0.72472,     0.72573,     0.72673,     0.72773,     0.72873,     0.72973,     0.73073,     0.73173,     0.73273,     0.73373,     0.73473,     0.73574,     0.73674,     0.73774,     0.73874,     0.73974,     0.74074,     0.74174,     0.74274,     0.74374,\n",
              "           0.74474,     0.74575,     0.74675,     0.74775,     0.74875,     0.74975,     0.75075,     0.75175,     0.75275,     0.75375,     0.75475,     0.75576,     0.75676,     0.75776,     0.75876,     0.75976,     0.76076,     0.76176,     0.76276,     0.76376,     0.76476,     0.76577,     0.76677,     0.76777,\n",
              "           0.76877,     0.76977,     0.77077,     0.77177,     0.77277,     0.77377,     0.77477,     0.77578,     0.77678,     0.77778,     0.77878,     0.77978,     0.78078,     0.78178,     0.78278,     0.78378,     0.78478,     0.78579,     0.78679,     0.78779,     0.78879,     0.78979,     0.79079,     0.79179,\n",
              "           0.79279,     0.79379,     0.79479,      0.7958,      0.7968,      0.7978,      0.7988,      0.7998,      0.8008,      0.8018,      0.8028,      0.8038,      0.8048,     0.80581,     0.80681,     0.80781,     0.80881,     0.80981,     0.81081,     0.81181,     0.81281,     0.81381,     0.81481,     0.81582,\n",
              "           0.81682,     0.81782,     0.81882,     0.81982,     0.82082,     0.82182,     0.82282,     0.82382,     0.82482,     0.82583,     0.82683,     0.82783,     0.82883,     0.82983,     0.83083,     0.83183,     0.83283,     0.83383,     0.83483,     0.83584,     0.83684,     0.83784,     0.83884,     0.83984,\n",
              "           0.84084,     0.84184,     0.84284,     0.84384,     0.84484,     0.84585,     0.84685,     0.84785,     0.84885,     0.84985,     0.85085,     0.85185,     0.85285,     0.85385,     0.85485,     0.85586,     0.85686,     0.85786,     0.85886,     0.85986,     0.86086,     0.86186,     0.86286,     0.86386,\n",
              "           0.86486,     0.86587,     0.86687,     0.86787,     0.86887,     0.86987,     0.87087,     0.87187,     0.87287,     0.87387,     0.87487,     0.87588,     0.87688,     0.87788,     0.87888,     0.87988,     0.88088,     0.88188,     0.88288,     0.88388,     0.88488,     0.88589,     0.88689,     0.88789,\n",
              "           0.88889,     0.88989,     0.89089,     0.89189,     0.89289,     0.89389,     0.89489,      0.8959,      0.8969,      0.8979,      0.8989,      0.8999,      0.9009,      0.9019,      0.9029,      0.9039,      0.9049,     0.90591,     0.90691,     0.90791,     0.90891,     0.90991,     0.91091,     0.91191,\n",
              "           0.91291,     0.91391,     0.91491,     0.91592,     0.91692,     0.91792,     0.91892,     0.91992,     0.92092,     0.92192,     0.92292,     0.92392,     0.92492,     0.92593,     0.92693,     0.92793,     0.92893,     0.92993,     0.93093,     0.93193,     0.93293,     0.93393,     0.93493,     0.93594,\n",
              "           0.93694,     0.93794,     0.93894,     0.93994,     0.94094,     0.94194,     0.94294,     0.94394,     0.94494,     0.94595,     0.94695,     0.94795,     0.94895,     0.94995,     0.95095,     0.95195,     0.95295,     0.95395,     0.95495,     0.95596,     0.95696,     0.95796,     0.95896,     0.95996,\n",
              "           0.96096,     0.96196,     0.96296,     0.96396,     0.96496,     0.96597,     0.96697,     0.96797,     0.96897,     0.96997,     0.97097,     0.97197,     0.97297,     0.97397,     0.97497,     0.97598,     0.97698,     0.97798,     0.97898,     0.97998,     0.98098,     0.98198,     0.98298,     0.98398,\n",
              "           0.98498,     0.98599,     0.98699,     0.98799,     0.98899,     0.98999,     0.99099,     0.99199,     0.99299,     0.99399,     0.99499,       0.996,       0.997,       0.998,       0.999,           1]), array([[    0.95833,     0.95833,     0.95833, ...,           0,           0,           0],\n",
              "       [    0.57692,     0.57692,     0.53846, ...,           0,           0,           0],\n",
              "       [    0.91429,     0.91429,     0.88571, ...,           0,           0,           0],\n",
              "       ...,\n",
              "       [    0.79487,     0.79487,     0.76923, ...,           0,           0,           0],\n",
              "       [       0.75,        0.75,     0.70833, ...,           0,           0,           0],\n",
              "       [    0.59615,     0.59615,     0.59615, ...,           0,           0,           0]], shape=(7, 1000)), 'Confidence', 'Recall']]\n",
              "fitness: np.float64(0.22593403163379377)\n",
              "keys: ['metrics/precision(B)', 'metrics/recall(B)', 'metrics/mAP50(B)', 'metrics/mAP50-95(B)']\n",
              "maps: array([    0.69425,    0.096382,     0.41529,      0.0191,     0.20693,    0.067611,    0.030221,     0.21854])\n",
              "names: {0: 'Clear plastic bottle', 1: 'Drink can', 2: 'Plastic bottle cap', 3: 'Other plastic', 4: 'Plastic film', 5: 'Other plastic wrapper', 6: 'Unlabeled litter', 7: 'Cigarette'}\n",
              "nt_per_class: array([24, 26, 35, 24, 39, 24, 52,  0])\n",
              "nt_per_image: array([20, 22, 19, 16, 35, 16, 26,  0])\n",
              "results_dict: {'metrics/precision(B)': np.float64(0.33702801613361527), 'metrics/recall(B)': np.float64(0.3199291297592393), 'metrics/mAP50(B)': np.float64(0.2924745329733426), 'metrics/mAP50-95(B)': np.float64(0.21854064259606612), 'fitness': np.float64(0.22593403163379377)}\n",
              "save_dir: PosixPath('runs/detect/train2')\n",
              "speed: {'preprocess': 1.7669937029666578, 'inference': 9.728882742572498, 'loss': 0.0006454356435365343, 'postprocess': 1.4010602178294191}\n",
              "stats: {'tp': [], 'conf': [], 'pred_cls': [], 'target_cls': [], 'target_img': []}\n",
              "task: 'detect'"
            ]
          },
          "execution_count": 20,
          "metadata": {},
          "output_type": "execute_result"
        }
      ],
      "source": [
        "# Entrenamiento con YOLOv11\n",
        "from ultralytics import YOLO\n",
        "\n",
        "# Cargar modelo YOLOv11 preentrenado\n",
        "model = YOLO(\"yolo11n.pt\")  # Puedes usar yolov11s.pt o yolov11m.pt según recursos\n",
        "\n",
        "# Entrenar\n",
        "model.train(data=\"taco_trash.yaml\", epochs=50, imgsz=640, batch=16)\n",
        "\n",
        "# Evaluar (opcional)\n",
        "model.val()"
      ]
    },
    {
      "cell_type": "code",
      "execution_count": null,
      "metadata": {
        "id": "-zCm8tv-5Lcr",
        "outputId": "2984b789-38a2-4b16-b0cf-c873b0ce100a"
      },
      "outputs": [
        {
          "name": "stdout",
          "output_type": "stream",
          "text": [
            "Ultralytics 8.3.170 🚀 Python-3.12.3 torch-2.7.1+cu126 CUDA:0 (NVIDIA GeForce RTX 3090 Ti, 24241MiB)\n",
            "\u001b[34m\u001b[1mengine/trainer: \u001b[0magnostic_nms=False, amp=True, augment=False, auto_augment=randaugment, batch=64, bgr=0.0, box=7.5, cache=False, cfg=None, classes=None, close_mosaic=10, cls=0.5, conf=0.6, copy_paste=0.0, copy_paste_mode=flip, cos_lr=False, cutmix=0.0, data=taco_trash.yaml, degrees=0.0, deterministic=True, device=0, dfl=1.5, dnn=False, dropout=0.0, dynamic=False, embed=None, epochs=150, erasing=0.4, exist_ok=False, fliplr=0.5, flipud=0.0, format=torchscript, fraction=1.0, freeze=None, half=False, hsv_h=0.015, hsv_s=0.7, hsv_v=0.4, imgsz=640, int8=False, iou=0.35, keras=False, kobj=1.0, line_width=None, lr0=0.01, lrf=0.01, mask_ratio=4, max_det=300, mixup=0.0, mode=train, model=yolo11n.pt, momentum=0.937, mosaic=1.0, multi_scale=False, name=train3, nbs=64, nms=False, opset=None, optimize=False, optimizer=auto, overlap_mask=True, patience=30, perspective=0.0, plots=True, pose=12.0, pretrained=True, profile=False, project=None, rect=False, resume=False, retina_masks=False, save=True, save_conf=False, save_crop=False, save_dir=runs/detect/train3, save_frames=False, save_json=False, save_period=10, save_txt=False, scale=0.5, seed=0, shear=0.0, show=False, show_boxes=True, show_conf=True, show_labels=True, simplify=True, single_cls=False, source=None, split=val, stream_buffer=False, task=detect, time=None, tracker=botsort.yaml, translate=0.1, val=True, verbose=True, vid_stride=1, visualize=False, warmup_bias_lr=0.1, warmup_epochs=3, warmup_momentum=0.8, weight_decay=0.0005, workers=8, workspace=None\n",
            "Overriding model.yaml nc=80 with nc=8\n",
            "\n",
            "                   from  n    params  module                                       arguments                     \n",
            "  0                  -1  1       464  ultralytics.nn.modules.conv.Conv             [3, 16, 3, 2]                 \n",
            "  1                  -1  1      4672  ultralytics.nn.modules.conv.Conv             [16, 32, 3, 2]                \n",
            "  2                  -1  1      6640  ultralytics.nn.modules.block.C3k2            [32, 64, 1, False, 0.25]      \n",
            "  3                  -1  1     36992  ultralytics.nn.modules.conv.Conv             [64, 64, 3, 2]                \n",
            "  4                  -1  1     26080  ultralytics.nn.modules.block.C3k2            [64, 128, 1, False, 0.25]     \n",
            "  5                  -1  1    147712  ultralytics.nn.modules.conv.Conv             [128, 128, 3, 2]              \n",
            "  6                  -1  1     87040  ultralytics.nn.modules.block.C3k2            [128, 128, 1, True]           \n",
            "  7                  -1  1    295424  ultralytics.nn.modules.conv.Conv             [128, 256, 3, 2]              \n",
            "  8                  -1  1    346112  ultralytics.nn.modules.block.C3k2            [256, 256, 1, True]           \n",
            "  9                  -1  1    164608  ultralytics.nn.modules.block.SPPF            [256, 256, 5]                 \n",
            " 10                  -1  1    249728  ultralytics.nn.modules.block.C2PSA           [256, 256, 1]                 \n",
            " 11                  -1  1         0  torch.nn.modules.upsampling.Upsample         [None, 2, 'nearest']          \n",
            " 12             [-1, 6]  1         0  ultralytics.nn.modules.conv.Concat           [1]                           \n",
            " 13                  -1  1    111296  ultralytics.nn.modules.block.C3k2            [384, 128, 1, False]          \n",
            " 14                  -1  1         0  torch.nn.modules.upsampling.Upsample         [None, 2, 'nearest']          \n",
            " 15             [-1, 4]  1         0  ultralytics.nn.modules.conv.Concat           [1]                           \n",
            " 16                  -1  1     32096  ultralytics.nn.modules.block.C3k2            [256, 64, 1, False]           \n",
            " 17                  -1  1     36992  ultralytics.nn.modules.conv.Conv             [64, 64, 3, 2]                \n",
            " 18            [-1, 13]  1         0  ultralytics.nn.modules.conv.Concat           [1]                           \n",
            " 19                  -1  1     86720  ultralytics.nn.modules.block.C3k2            [192, 128, 1, False]          \n",
            " 20                  -1  1    147712  ultralytics.nn.modules.conv.Conv             [128, 128, 3, 2]              \n",
            " 21            [-1, 10]  1         0  ultralytics.nn.modules.conv.Concat           [1]                           \n",
            " 22                  -1  1    378880  ultralytics.nn.modules.block.C3k2            [384, 256, 1, True]           \n",
            " 23        [16, 19, 22]  1    432232  ultralytics.nn.modules.head.Detect           [8, [64, 128, 256]]           \n",
            "YOLO11n summary: 181 layers, 2,591,400 parameters, 2,591,384 gradients, 6.4 GFLOPs\n",
            "\n",
            "Transferred 448/499 items from pretrained weights\n",
            "Freezing layer 'model.23.dfl.conv.weight'\n",
            "\u001b[34m\u001b[1mAMP: \u001b[0mrunning Automatic Mixed Precision (AMP) checks...\n",
            "\u001b[34m\u001b[1mAMP: \u001b[0mchecks passed ✅\n",
            "\u001b[34m\u001b[1mtrain: \u001b[0mFast image access ✅ (ping: 0.0±0.0 ms, read: 7372.4±1891.2 MB/s, size: 1698.8 KB)\n",
            "\u001b[34m\u001b[1mtrain: \u001b[0mScanning /home/ose/Documents/Proyecto Yandri CEIA/taco/train/labels.cache\u001b[0m\n",
            "\u001b[34m\u001b[1mval: \u001b[0mFast image access ✅ (ping: 0.0±0.0 ms, read: 4013.6±3283.3 MB/s, size: 1081.6 KB)\n",
            "\u001b[34m\u001b[1mval: \u001b[0mScanning /home/ose/Documents/Proyecto Yandri CEIA/taco/val/labels.cache... \u001b[0m\n",
            "Plotting labels to runs/detect/train3/labels.jpg... \n",
            "\u001b[34m\u001b[1moptimizer:\u001b[0m 'optimizer=auto' found, ignoring 'lr0=0.01' and 'momentum=0.937' and determining best 'optimizer', 'lr0' and 'momentum' automatically... \n",
            "\u001b[34m\u001b[1moptimizer:\u001b[0m AdamW(lr=0.000833, momentum=0.9) with parameter groups 81 weight(decay=0.0), 88 weight(decay=0.0005), 87 bias(decay=0.0)\n",
            "Image sizes 640 train, 640 val\n",
            "Using 8 dataloader workers\n",
            "Logging results to \u001b[1mruns/detect/train3\u001b[0m\n",
            "Starting training for 150 epochs...\n",
            "\n",
            "      Epoch    GPU_mem   box_loss   cls_loss   dfl_loss  Instances       Size\n",
            "      1/150      9.69G      1.385      4.661      1.268        135        640: 1\n",
            "                 Class     Images  Instances      Box(P          R      mAP50  m\n",
            "                   all        101        224          0          0          0          0\n",
            "\n",
            "      Epoch    GPU_mem   box_loss   cls_loss   dfl_loss  Instances       Size\n",
            "      2/150      10.3G      1.313      4.297      1.154        136        640: 1\n",
            "                 Class     Images  Instances      Box(P          R      mAP50  m\n",
            "                   all        101        224          0          0          0          0\n",
            "\n",
            "      Epoch    GPU_mem   box_loss   cls_loss   dfl_loss  Instances       Size\n",
            "      3/150      10.3G      1.343      3.784      1.143        200        640: 1\n",
            "                 Class     Images  Instances      Box(P          R      mAP50  m\n",
            "                   all        101        224          0          0          0          0\n",
            "\n",
            "      Epoch    GPU_mem   box_loss   cls_loss   dfl_loss  Instances       Size\n",
            "      4/150        11G      1.343      3.512      1.153        153        640: 1\n",
            "                 Class     Images  Instances      Box(P          R      mAP50  m\n",
            "                   all        101        224          0          0          0          0\n",
            "\n",
            "      Epoch    GPU_mem   box_loss   cls_loss   dfl_loss  Instances       Size\n",
            "      5/150        11G      1.338      3.281      1.162        159        640: 1\n",
            "                 Class     Images  Instances      Box(P          R      mAP50  m\n",
            "                   all        101        224          0          0          0          0\n",
            "\n",
            "      Epoch    GPU_mem   box_loss   cls_loss   dfl_loss  Instances       Size\n",
            "      6/150        11G      1.361      3.087      1.158        169        640: 1\n",
            "                 Class     Images  Instances      Box(P          R      mAP50  m\n",
            "                   all        101        224          0          0          0          0\n",
            "\n",
            "      Epoch    GPU_mem   box_loss   cls_loss   dfl_loss  Instances       Size\n",
            "      7/150        11G      1.374      3.082      1.184        159        640: 1\n",
            "                 Class     Images  Instances      Box(P          R      mAP50  m\n",
            "                   all        101        224          0          0          0          0\n",
            "\n",
            "      Epoch    GPU_mem   box_loss   cls_loss   dfl_loss  Instances       Size\n",
            "      8/150        11G      1.366      2.915      1.187        185        640: 1\n",
            "                 Class     Images  Instances      Box(P          R      mAP50  m\n",
            "                   all        101        224     0.0476    0.00595     0.0259     0.0155\n",
            "\n",
            "      Epoch    GPU_mem   box_loss   cls_loss   dfl_loss  Instances       Size\n",
            "      9/150        11G      1.369      2.889      1.191        157        640: 1\n",
            "                 Class     Images  Instances      Box(P          R      mAP50  m\n",
            "                   all        101        224      0.118     0.0334     0.0671     0.0404\n",
            "\n",
            "      Epoch    GPU_mem   box_loss   cls_loss   dfl_loss  Instances       Size\n",
            "     10/150        11G      1.416      2.797      1.182        190        640: 1\n",
            "                 Class     Images  Instances      Box(P          R      mAP50  m\n",
            "                   all        101        224      0.022     0.0119     0.0128    0.00963\n",
            "\n",
            "      Epoch    GPU_mem   box_loss   cls_loss   dfl_loss  Instances       Size\n",
            "     11/150        11G      1.314      2.613      1.146        155        640: 1\n",
            "                 Class     Images  Instances      Box(P          R      mAP50  m\n",
            "                   all        101        224      0.134     0.0298     0.0768     0.0678\n",
            "\n",
            "      Epoch    GPU_mem   box_loss   cls_loss   dfl_loss  Instances       Size\n",
            "     12/150        11G      1.328      2.604      1.163        153        640: 1\n",
            "                 Class     Images  Instances      Box(P          R      mAP50  m\n",
            "                   all        101        224      0.163      0.026     0.0918     0.0683\n",
            "\n",
            "      Epoch    GPU_mem   box_loss   cls_loss   dfl_loss  Instances       Size\n",
            "     13/150        11G      1.289      2.503      1.146        214        640: 1\n",
            "                 Class     Images  Instances      Box(P          R      mAP50  m\n",
            "                   all        101        224      0.119     0.0298     0.0739     0.0644\n",
            "\n",
            "      Epoch    GPU_mem   box_loss   cls_loss   dfl_loss  Instances       Size\n",
            "     14/150        11G      1.287      2.419      1.127        177        640: 1\n",
            "                 Class     Images  Instances      Box(P          R      mAP50  m\n",
            "                   all        101        224      0.141     0.0461     0.0849     0.0701\n",
            "\n",
            "      Epoch    GPU_mem   box_loss   cls_loss   dfl_loss  Instances       Size\n",
            "     15/150        11G       1.26      2.389       1.13        182        640: 1\n",
            "                 Class     Images  Instances      Box(P          R      mAP50  m\n",
            "                   all        101        224      0.276     0.0398      0.155      0.123\n",
            "\n",
            "      Epoch    GPU_mem   box_loss   cls_loss   dfl_loss  Instances       Size\n",
            "     16/150      11.6G      1.269      2.264      1.121        197        640: 1\n",
            "                 Class     Images  Instances      Box(P          R      mAP50  m\n",
            "                   all        101        224     0.0455     0.0417     0.0406     0.0338\n",
            "\n",
            "      Epoch    GPU_mem   box_loss   cls_loss   dfl_loss  Instances       Size\n",
            "     17/150      11.6G      1.278      2.283      1.119        190        640: 1\n",
            "                 Class     Images  Instances      Box(P          R      mAP50  m\n",
            "                   all        101        224      0.178     0.0583      0.115     0.0851\n",
            "\n",
            "      Epoch    GPU_mem   box_loss   cls_loss   dfl_loss  Instances       Size\n",
            "     18/150      11.6G      1.216       2.16       1.11        121        640: 1\n",
            "                 Class     Images  Instances      Box(P          R      mAP50  m\n",
            "                   all        101        224       0.34      0.112      0.217      0.165\n",
            "\n",
            "      Epoch    GPU_mem   box_loss   cls_loss   dfl_loss  Instances       Size\n",
            "     19/150      11.6G      1.215      2.162      1.102        153        640: 1\n",
            "                 Class     Images  Instances      Box(P          R      mAP50  m\n",
            "                   all        101        224      0.248      0.114      0.171      0.127\n",
            "\n",
            "      Epoch    GPU_mem   box_loss   cls_loss   dfl_loss  Instances       Size\n",
            "     20/150      11.6G      1.212      2.072      1.097        147        640: 1\n",
            "                 Class     Images  Instances      Box(P          R      mAP50  m\n",
            "                   all        101        224      0.311     0.0822      0.118     0.0966\n",
            "\n",
            "      Epoch    GPU_mem   box_loss   cls_loss   dfl_loss  Instances       Size\n",
            "     21/150      11.7G       1.24      2.025      1.106        147        640: 1\n",
            "                 Class     Images  Instances      Box(P          R      mAP50  m\n",
            "                   all        101        224      0.292      0.118      0.212      0.164\n",
            "\n",
            "      Epoch    GPU_mem   box_loss   cls_loss   dfl_loss  Instances       Size\n",
            "     22/150      11.7G      1.176       2.02      1.077        129        640: 1\n",
            "                 Class     Images  Instances      Box(P          R      mAP50  m\n",
            "                   all        101        224       0.35      0.116      0.225      0.171\n",
            "\n",
            "      Epoch    GPU_mem   box_loss   cls_loss   dfl_loss  Instances       Size\n",
            "     23/150      11.7G      1.201      1.924      1.085        189        640: 1\n",
            "                 Class     Images  Instances      Box(P          R      mAP50  m\n",
            "                   all        101        224      0.457      0.043      0.252      0.193\n",
            "\n",
            "      Epoch    GPU_mem   box_loss   cls_loss   dfl_loss  Instances       Size\n",
            "     24/150      11.7G      1.199      1.874      1.105        155        640: 1\n",
            "                 Class     Images  Instances      Box(P          R      mAP50  m\n",
            "                   all        101        224      0.317     0.0838        0.2      0.157\n",
            "\n",
            "      Epoch    GPU_mem   box_loss   cls_loss   dfl_loss  Instances       Size\n",
            "     25/150      11.7G      1.193       1.88      1.094        158        640: 1\n",
            "                 Class     Images  Instances      Box(P          R      mAP50  m\n",
            "                   all        101        224      0.369     0.0876      0.227      0.171\n",
            "\n",
            "      Epoch    GPU_mem   box_loss   cls_loss   dfl_loss  Instances       Size\n",
            "     26/150      11.7G      1.179      1.832      1.085        233        640: 1\n",
            "                 Class     Images  Instances      Box(P          R      mAP50  m\n",
            "                   all        101        224      0.435     0.0993      0.182      0.143\n",
            "\n",
            "      Epoch    GPU_mem   box_loss   cls_loss   dfl_loss  Instances       Size\n",
            "     27/150      11.7G      1.147      1.778      1.066        159        640: 1\n",
            "                 Class     Images  Instances      Box(P          R      mAP50  m\n",
            "                   all        101        224      0.333     0.0316      0.181      0.148\n",
            "\n",
            "      Epoch    GPU_mem   box_loss   cls_loss   dfl_loss  Instances       Size\n",
            "     28/150      11.7G      1.131      1.723      1.065        174        640: 1\n",
            "                 Class     Images  Instances      Box(P          R      mAP50  m\n",
            "                   all        101        224      0.247     0.0847      0.163      0.135\n",
            "\n",
            "      Epoch    GPU_mem   box_loss   cls_loss   dfl_loss  Instances       Size\n",
            "     29/150      11.7G      1.155      1.739       1.06        123        640: 1\n",
            "                 Class     Images  Instances      Box(P          R      mAP50  m\n",
            "                   all        101        224      0.378       0.11      0.244      0.191\n",
            "\n",
            "      Epoch    GPU_mem   box_loss   cls_loss   dfl_loss  Instances       Size\n",
            "     30/150      11.7G       1.16      1.701      1.051        202        640: 1\n",
            "                 Class     Images  Instances      Box(P          R      mAP50  m\n",
            "                   all        101        224      0.336      0.156       0.25        0.2\n",
            "\n",
            "      Epoch    GPU_mem   box_loss   cls_loss   dfl_loss  Instances       Size\n",
            "     31/150      11.7G      1.118      1.633      1.065        117        640: 1\n",
            "                 Class     Images  Instances      Box(P          R      mAP50  m\n",
            "                   all        101        224      0.377      0.164       0.27      0.199\n",
            "\n",
            "      Epoch    GPU_mem   box_loss   cls_loss   dfl_loss  Instances       Size\n",
            "     32/150      11.7G      1.143      1.593      1.062        139        640: 1\n",
            "                 Class     Images  Instances      Box(P          R      mAP50  m\n",
            "                   all        101        224      0.272      0.139      0.186      0.146\n",
            "\n",
            "      Epoch    GPU_mem   box_loss   cls_loss   dfl_loss  Instances       Size\n",
            "     33/150      11.7G      1.114      1.552      1.061        206        640: 1\n",
            "                 Class     Images  Instances      Box(P          R      mAP50  m\n",
            "                   all        101        224      0.296        0.1      0.197      0.157\n",
            "\n",
            "      Epoch    GPU_mem   box_loss   cls_loss   dfl_loss  Instances       Size\n",
            "     34/150      11.7G      1.113       1.61      1.052        180        640: 1\n",
            "                 Class     Images  Instances      Box(P          R      mAP50  m\n",
            "                   all        101        224      0.176      0.082      0.128      0.105\n",
            "\n",
            "      Epoch    GPU_mem   box_loss   cls_loss   dfl_loss  Instances       Size\n",
            "     35/150      11.7G      1.082      1.481      1.046        188        640: 1\n",
            "                 Class     Images  Instances      Box(P          R      mAP50  m\n",
            "                   all        101        224      0.294     0.0951      0.198      0.166\n",
            "\n",
            "      Epoch    GPU_mem   box_loss   cls_loss   dfl_loss  Instances       Size\n",
            "     36/150      11.7G      1.096      1.496      1.044        145        640: 1\n",
            "                 Class     Images  Instances      Box(P          R      mAP50  m\n",
            "                   all        101        224      0.276     0.0883      0.183      0.146\n",
            "\n",
            "      Epoch    GPU_mem   box_loss   cls_loss   dfl_loss  Instances       Size\n",
            "     37/150      11.7G      1.104      1.486      1.045        153        640: 1\n",
            "                 Class     Images  Instances      Box(P          R      mAP50  m\n",
            "                   all        101        224      0.224      0.124      0.168      0.128\n",
            "\n",
            "      Epoch    GPU_mem   box_loss   cls_loss   dfl_loss  Instances       Size\n",
            "     38/150      11.7G      1.118       1.49      1.045        157        640: 1\n",
            "                 Class     Images  Instances      Box(P          R      mAP50  m\n",
            "                   all        101        224      0.321      0.165      0.241      0.184\n",
            "\n",
            "      Epoch    GPU_mem   box_loss   cls_loss   dfl_loss  Instances       Size\n",
            "     39/150      11.7G      1.077      1.426      1.029        157        640: 1\n",
            "                 Class     Images  Instances      Box(P          R      mAP50  m\n",
            "                   all        101        224      0.207      0.103      0.161      0.117\n",
            "\n",
            "      Epoch    GPU_mem   box_loss   cls_loss   dfl_loss  Instances       Size\n",
            "     40/150      11.7G      1.102      1.397      1.053        142        640: 1\n",
            "                 Class     Images  Instances      Box(P          R      mAP50  m\n",
            "                   all        101        224      0.326      0.158      0.247      0.187\n",
            "\n",
            "      Epoch    GPU_mem   box_loss   cls_loss   dfl_loss  Instances       Size\n",
            "     41/150      11.7G      1.053      1.354      1.019        164        640: 1\n",
            "                 Class     Images  Instances      Box(P          R      mAP50  m\n",
            "                   all        101        224      0.279      0.174      0.214      0.163\n",
            "\n",
            "      Epoch    GPU_mem   box_loss   cls_loss   dfl_loss  Instances       Size\n",
            "     42/150      11.7G      1.019      1.314      1.003        206        640: 1\n",
            "                 Class     Images  Instances      Box(P          R      mAP50  m\n",
            "                   all        101        224      0.384      0.176      0.281      0.216\n",
            "\n",
            "      Epoch    GPU_mem   box_loss   cls_loss   dfl_loss  Instances       Size\n",
            "     43/150      11.7G      1.057      1.351      1.025        142        640: 1\n",
            "                 Class     Images  Instances      Box(P          R      mAP50  m\n",
            "                   all        101        224      0.505      0.117      0.318      0.228\n",
            "\n",
            "      Epoch    GPU_mem   box_loss   cls_loss   dfl_loss  Instances       Size\n",
            "     44/150      12.5G      1.026      1.342      1.002        142        640: 1\n",
            "                 Class     Images  Instances      Box(P          R      mAP50  m\n",
            "                   all        101        224      0.315      0.112      0.215      0.148\n",
            "\n",
            "      Epoch    GPU_mem   box_loss   cls_loss   dfl_loss  Instances       Size\n",
            "     45/150      8.79G      1.047      1.272      1.017        194        640: 1\n",
            "                 Class     Images  Instances      Box(P          R      mAP50  m\n",
            "                   all        101        224      0.304      0.117      0.214      0.152\n",
            "\n",
            "      Epoch    GPU_mem   box_loss   cls_loss   dfl_loss  Instances       Size\n",
            "     46/150      9.29G      1.037      1.309      1.017        166        640: 1\n",
            "                 Class     Images  Instances      Box(P          R      mAP50  m\n",
            "                   all        101        224      0.434      0.133      0.289       0.23\n",
            "\n",
            "      Epoch    GPU_mem   box_loss   cls_loss   dfl_loss  Instances       Size\n",
            "     47/150      9.87G      1.051      1.266      1.022        144        640: 1\n",
            "                 Class     Images  Instances      Box(P          R      mAP50  m\n",
            "                   all        101        224      0.463      0.198      0.329      0.242\n",
            "\n",
            "      Epoch    GPU_mem   box_loss   cls_loss   dfl_loss  Instances       Size\n",
            "     48/150      9.87G      1.031      1.236      1.009        172        640: 1\n",
            "                 Class     Images  Instances      Box(P          R      mAP50  m\n",
            "                   all        101        224      0.361      0.135      0.243      0.164\n",
            "\n",
            "      Epoch    GPU_mem   box_loss   cls_loss   dfl_loss  Instances       Size\n",
            "     49/150      9.87G     0.9934      1.223     0.9935        124        640: 1\n",
            "                 Class     Images  Instances      Box(P          R      mAP50  m\n",
            "                   all        101        224      0.367      0.137      0.262      0.187\n",
            "\n",
            "      Epoch    GPU_mem   box_loss   cls_loss   dfl_loss  Instances       Size\n",
            "     50/150      10.5G      1.037      1.213     0.9955        176        640: 1\n",
            "                 Class     Images  Instances      Box(P          R      mAP50  m\n",
            "                   all        101        224      0.519      0.157      0.338      0.234\n",
            "\n",
            "      Epoch    GPU_mem   box_loss   cls_loss   dfl_loss  Instances       Size\n",
            "     51/150      11.1G      1.009      1.188      1.001        157        640: 1\n",
            "                 Class     Images  Instances      Box(P          R      mAP50  m\n",
            "                   all        101        224      0.367      0.143      0.254      0.196\n",
            "\n",
            "      Epoch    GPU_mem   box_loss   cls_loss   dfl_loss  Instances       Size\n",
            "     52/150      11.1G      1.019      1.156     0.9914        199        640: 1\n",
            "                 Class     Images  Instances      Box(P          R      mAP50  m\n",
            "                   all        101        224      0.397      0.121      0.261      0.199\n",
            "\n",
            "      Epoch    GPU_mem   box_loss   cls_loss   dfl_loss  Instances       Size\n",
            "     53/150      11.1G      1.026      1.151     0.9885        184        640: 1\n",
            "                 Class     Images  Instances      Box(P          R      mAP50  m\n",
            "                   all        101        224      0.592      0.195      0.365      0.269\n",
            "\n",
            "      Epoch    GPU_mem   box_loss   cls_loss   dfl_loss  Instances       Size\n",
            "     54/150      11.1G      0.978      1.095     0.9851        168        640: 1\n",
            "                 Class     Images  Instances      Box(P          R      mAP50  m\n",
            "                   all        101        224      0.422      0.163      0.301      0.242\n",
            "\n",
            "      Epoch    GPU_mem   box_loss   cls_loss   dfl_loss  Instances       Size\n",
            "     55/150      11.1G      1.005      1.096          1        118        640: 1\n",
            "                 Class     Images  Instances      Box(P          R      mAP50  m\n",
            "                   all        101        224      0.336      0.151      0.249      0.178\n",
            "\n",
            "      Epoch    GPU_mem   box_loss   cls_loss   dfl_loss  Instances       Size\n",
            "     56/150      11.2G     0.9682      1.079     0.9921        147        640: 1\n",
            "                 Class     Images  Instances      Box(P          R      mAP50  m\n",
            "                   all        101        224      0.375      0.108       0.24      0.178\n",
            "\n",
            "      Epoch    GPU_mem   box_loss   cls_loss   dfl_loss  Instances       Size\n",
            "     57/150      11.2G     0.9707       1.07     0.9905        147        640: 1\n",
            "                 Class     Images  Instances      Box(P          R      mAP50  m\n",
            "                   all        101        224      0.335      0.168      0.251      0.204\n",
            "\n",
            "      Epoch    GPU_mem   box_loss   cls_loss   dfl_loss  Instances       Size\n",
            "     58/150      11.2G     0.9405       1.04     0.9773        169        640: 1\n",
            "                 Class     Images  Instances      Box(P          R      mAP50  m\n",
            "                   all        101        224      0.485      0.143      0.314      0.239\n",
            "\n",
            "      Epoch    GPU_mem   box_loss   cls_loss   dfl_loss  Instances       Size\n",
            "     59/150      11.2G     0.9665      1.062     0.9772        153        640: 1\n",
            "                 Class     Images  Instances      Box(P          R      mAP50  m\n",
            "                   all        101        224      0.337      0.116      0.236      0.183\n",
            "\n",
            "      Epoch    GPU_mem   box_loss   cls_loss   dfl_loss  Instances       Size\n",
            "     60/150      11.2G     0.9766      1.054     0.9861        126        640: 1\n",
            "                 Class     Images  Instances      Box(P          R      mAP50  m\n",
            "                   all        101        224      0.355      0.147      0.247      0.187\n",
            "\n",
            "      Epoch    GPU_mem   box_loss   cls_loss   dfl_loss  Instances       Size\n",
            "     61/150      11.2G     0.9536      1.019     0.9718        220        640: 1\n",
            "                 Class     Images  Instances      Box(P          R      mAP50  m\n",
            "                   all        101        224       0.41      0.146      0.268      0.198\n",
            "\n",
            "      Epoch    GPU_mem   box_loss   cls_loss   dfl_loss  Instances       Size\n",
            "     62/150      11.2G     0.9964      1.016     0.9794        159        640: 1\n",
            "                 Class     Images  Instances      Box(P          R      mAP50  m\n",
            "                   all        101        224      0.324      0.134      0.226      0.175\n",
            "\n",
            "      Epoch    GPU_mem   box_loss   cls_loss   dfl_loss  Instances       Size\n",
            "     63/150      11.2G     0.9437     0.9827     0.9787        194        640: 1\n",
            "                 Class     Images  Instances      Box(P          R      mAP50  m\n",
            "                   all        101        224      0.336      0.132      0.225      0.173\n",
            "\n",
            "      Epoch    GPU_mem   box_loss   cls_loss   dfl_loss  Instances       Size\n",
            "     64/150      11.2G     0.9403     0.9942     0.9671        233        640:  "
          ]
        }
      ],
      "source": [
        "!yolo task=detect mode=train model=yolo11n.pt data=taco_trash.yaml epochs=150 batch=64 plots=True device=0 conf=0.2 patience=30 warmup_epochs=3 save_period=10 iou=0.35\n",
        "\n",
        "#testing  configuración\n",
        "#!yolo task=detect mode=train model=bestm.pt data=taco_trash.yaml epochs=50 batch=8 plots=True device=0 conf=0.45 patience=30  warmup_epochs=15 save_period=5 iou=0.92 \\\n",
        "#    lr0=0.0015 \\\n",
        "#    lrf=0.00015 \\\n",
        "#    weight_decay=0.0003 \\\n",
        "#    optimizer=AdamW \\\n",
        "#    amp=True \\\n",
        "#    pretrained=True \\\n",
        "#    imgz = 1234 \\\n"
      ]
    },
    {
      "cell_type": "code",
      "execution_count": null,
      "metadata": {
        "id": "T5T5sZNq0UUA"
      },
      "outputs": [],
      "source": []
    }
  ],
  "metadata": {
    "colab": {
      "provenance": []
    },
    "kernelspec": {
      "display_name": "yolov_env",
      "language": "python",
      "name": "python3"
    },
    "language_info": {
      "codemirror_mode": {
        "name": "ipython",
        "version": 3
      },
      "file_extension": ".py",
      "mimetype": "text/x-python",
      "name": "python",
      "nbconvert_exporter": "python",
      "pygments_lexer": "ipython3",
      "version": "3.12.3"
    }
  },
  "nbformat": 4,
  "nbformat_minor": 0
}